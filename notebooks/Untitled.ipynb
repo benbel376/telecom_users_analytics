{
 "cells": [
  {
   "cell_type": "code",
   "execution_count": null,
   "id": "9c4a940a-e91d-441c-9390-11b847ffcd97",
   "metadata": {},
   "outputs": [],
   "source": []
  },
  {
   "cell_type": "markdown",
   "id": "45f780c1-b471-4578-8104-168616255e4d",
   "metadata": {},
   "source": [
    "<h1> TeleCo Customers Data Exploration</h1>"
   ]
  },
  {
   "cell_type": "markdown",
   "id": "eb50e209-e773-493b-a4cb-0a9a6bceaf34",
   "metadata": {},
   "source": [
    "<h2> Imporing data and packages </h2>"
   ]
  },
  {
   "cell_type": "code",
   "execution_count": 1,
   "id": "15a1539f-8bbf-47b9-a8f5-6353a2b7ab4c",
   "metadata": {},
   "outputs": [],
   "source": [
    "import pandas as pd\n",
    "import numpy as np\n",
    "import os\n",
    "import warnings\n",
    "from pandasql import sqldf\n",
    "import matplotlib.pyplot as plt\n",
    "import seaborn as sns\n",
    "import sys"
   ]
  },
  {
   "cell_type": "markdown",
   "id": "5ae11957-0de2-4755-a523-6cccad930947",
   "metadata": {},
   "source": [
    "Suppressing warning messages"
   ]
  }
 ],
 "metadata": {
  "kernelspec": {
   "display_name": "Python 3 (ipykernel)",
   "language": "python",
   "name": "python3"
  },
  "language_info": {
   "codemirror_mode": {
    "name": "ipython",
    "version": 3
   },
   "file_extension": ".py",
   "mimetype": "text/x-python",
   "name": "python",
   "nbconvert_exporter": "python",
   "pygments_lexer": "ipython3",
   "version": "3.9.7"
  }
 },
 "nbformat": 4,
 "nbformat_minor": 5
}
