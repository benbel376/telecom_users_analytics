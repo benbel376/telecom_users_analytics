{
 "cells": [
  {
   "cell_type": "markdown",
   "id": "dda99278-2703-4aec-b04c-8a467b281829",
   "metadata": {},
   "source": [
    "<h1> User Engagement Analysis </h2>"
   ]
  },
  {
   "cell_type": "markdown",
   "id": "6933c16c-2fce-4dce-bc4a-1ace67638feb",
   "metadata": {},
   "source": [
    "<h2> Imporing data and packages </h2>"
   ]
  },
  {
   "cell_type": "code",
   "execution_count": 13,
   "id": "49a52875-5c72-4a75-96d6-1dc3bbd0ed37",
   "metadata": {},
   "outputs": [],
   "source": [
    "import pandas as pd\n",
    "import numpy as np\n",
    "import os\n",
    "import warnings\n",
    "import matplotlib.pyplot as plt\n",
    "import seaborn as sns\n",
    "import sys\n",
    "from sklearn.preprocessing import StandardScaler\n",
    "from sklearn.cluster import KMeans\n",
    "from sklearn.linear_model import LinearRegression\n",
    "from sklearn.metrics import r2_score\n",
    "from sklearn.metrics import mean_squared_error\n",
    "from sklearn.model_selection import train_test_split\n",
    "import joblib # for dumping regression model to a file."
   ]
  },
  {
   "cell_type": "code",
   "execution_count": null,
   "id": "8a690124-b37b-48b4-a7cc-3ed48c4c8f83",
   "metadata": {},
   "outputs": [],
   "source": [
    "# Suppressing warning messages\n",
    "\n",
    "warnings.filterwarnings('ignore')"
   ]
  },
  {
   "cell_type": "code",
   "execution_count": null,
   "id": "f5896900-0dd1-4584-af21-7de26f439452",
   "metadata": {},
   "outputs": [],
   "source": [
    "# setting path to file and folders\n",
    "\n",
    "parent_dir = os.path.abspath(os.path.join(os.getcwd(), os.pardir)) # setting path to parent directory\n",
    "scripts_dir = os.path.join(parent_dir,\"scripts\") # setting path to scripts directory\n",
    "models_dir = os.path.join(parent_dir, \"models\") # setiing path to models directory\n",
    "data_path = os.path.join(parent_dir,\"data\",\"teleco_user_exp_data.csv\") # setting path to data directory\n",
    "\n",
    "sys.path.insert(1, scripts_dir)"
   ]
  },
  {
   "cell_type": "code",
   "execution_count": 4,
   "id": "5d45f544-44b4-4262-af13-987c77bedee8",
   "metadata": {},
   "outputs": [],
   "source": [
    "# Importing scripts\n",
    "\n",
    "from data_cleaning_functions import DataCleaner as Cleaner \n",
    "from data_summarizing_functions import DataSummarizer as Sumar\n",
    "\n",
    "cleaner = Cleaner()\n",
    "sumar = Sumar()"
   ]
  },
  {
   "cell_type": "code",
   "execution_count": 5,
   "id": "c265b753-b869-4a40-93b3-d966761317df",
   "metadata": {},
   "outputs": [],
   "source": [
    "# Importing the users data frame with experience and engagement score\n",
    "\n",
    "user_df= pd.read_csv(data_path)"
   ]
  },
  {
   "cell_type": "code",
   "execution_count": 6,
   "id": "b8307bef-be51-413e-a345-8d6760c97807",
   "metadata": {},
   "outputs": [
    {
     "name": "stdout",
     "output_type": "stream",
     "text": [
      "<class 'pandas.core.frame.DataFrame'>\n",
      "RangeIndex: 106856 entries, 0 to 106855\n",
      "Data columns (total 22 columns):\n",
      " #   Column             Non-Null Count   Dtype  \n",
      "---  ------             --------------   -----  \n",
      " 0   MSISDN/Number      106856 non-null  float64\n",
      " 1   xDr_session_count  106856 non-null  int64  \n",
      " 2   session_dur        106856 non-null  float64\n",
      " 3   Handset            106856 non-null  object \n",
      " 4   Total_DL           106856 non-null  float64\n",
      " 5   Total_UL           106856 non-null  float64\n",
      " 6   total_vol          106856 non-null  float64\n",
      " 7   RTT total          106856 non-null  float64\n",
      " 8   TP total           106856 non-null  float64\n",
      " 9   TCP total          106856 non-null  float64\n",
      " 10  youtube            106856 non-null  float64\n",
      " 11  netflix            106856 non-null  float64\n",
      " 12  google             106856 non-null  float64\n",
      " 13  gaming             106856 non-null  float64\n",
      " 14  email              106856 non-null  float64\n",
      " 15  social             106856 non-null  float64\n",
      " 16  other              106856 non-null  float64\n",
      " 17  Decile             106856 non-null  int64  \n",
      " 18  Clusters           106856 non-null  int64  \n",
      " 19  eng_score          106856 non-null  float64\n",
      " 20  Clusters_exp       106856 non-null  int64  \n",
      " 21  exp_score          106856 non-null  float64\n",
      "dtypes: float64(17), int64(4), object(1)\n",
      "memory usage: 17.9+ MB\n"
     ]
    }
   ],
   "source": [
    "user_df.info()"
   ]
  },
  {
   "cell_type": "markdown",
   "id": "f3bf6052-0cc1-4edf-8b4f-41b361091239",
   "metadata": {},
   "source": [
    "<h2> User Satisfaction Exploration"
   ]
  },
  {
   "cell_type": "code",
   "execution_count": 7,
   "id": "8cd35e3c-f942-438b-acc5-46eaafff3ab8",
   "metadata": {},
   "outputs": [
    {
     "data": {
      "text/html": [
       "<div>\n",
       "<style scoped>\n",
       "    .dataframe tbody tr th:only-of-type {\n",
       "        vertical-align: middle;\n",
       "    }\n",
       "\n",
       "    .dataframe tbody tr th {\n",
       "        vertical-align: top;\n",
       "    }\n",
       "\n",
       "    .dataframe thead th {\n",
       "        text-align: right;\n",
       "    }\n",
       "</style>\n",
       "<table border=\"1\" class=\"dataframe\">\n",
       "  <thead>\n",
       "    <tr style=\"text-align: right;\">\n",
       "      <th></th>\n",
       "      <th>variables</th>\n",
       "      <th>missing_count</th>\n",
       "      <th>missing_percent_(%)</th>\n",
       "      <th>data_type</th>\n",
       "      <th>unique_values</th>\n",
       "    </tr>\n",
       "  </thead>\n",
       "  <tbody>\n",
       "    <tr>\n",
       "      <th>0</th>\n",
       "      <td>MSISDN/Number</td>\n",
       "      <td>0</td>\n",
       "      <td>0.0</td>\n",
       "      <td>float64</td>\n",
       "      <td>106856</td>\n",
       "    </tr>\n",
       "    <tr>\n",
       "      <th>1</th>\n",
       "      <td>xDr_session_count</td>\n",
       "      <td>0</td>\n",
       "      <td>0.0</td>\n",
       "      <td>int64</td>\n",
       "      <td>18</td>\n",
       "    </tr>\n",
       "    <tr>\n",
       "      <th>2</th>\n",
       "      <td>session_dur</td>\n",
       "      <td>0</td>\n",
       "      <td>0.0</td>\n",
       "      <td>float64</td>\n",
       "      <td>74492</td>\n",
       "    </tr>\n",
       "    <tr>\n",
       "      <th>3</th>\n",
       "      <td>Handset</td>\n",
       "      <td>0</td>\n",
       "      <td>0.0</td>\n",
       "      <td>object</td>\n",
       "      <td>1394</td>\n",
       "    </tr>\n",
       "    <tr>\n",
       "      <th>4</th>\n",
       "      <td>Total_DL</td>\n",
       "      <td>0</td>\n",
       "      <td>0.0</td>\n",
       "      <td>float64</td>\n",
       "      <td>106851</td>\n",
       "    </tr>\n",
       "    <tr>\n",
       "      <th>5</th>\n",
       "      <td>Total_UL</td>\n",
       "      <td>0</td>\n",
       "      <td>0.0</td>\n",
       "      <td>float64</td>\n",
       "      <td>106715</td>\n",
       "    </tr>\n",
       "    <tr>\n",
       "      <th>6</th>\n",
       "      <td>total_vol</td>\n",
       "      <td>0</td>\n",
       "      <td>0.0</td>\n",
       "      <td>float64</td>\n",
       "      <td>106853</td>\n",
       "    </tr>\n",
       "    <tr>\n",
       "      <th>7</th>\n",
       "      <td>RTT total</td>\n",
       "      <td>0</td>\n",
       "      <td>0.0</td>\n",
       "      <td>float64</td>\n",
       "      <td>787</td>\n",
       "    </tr>\n",
       "    <tr>\n",
       "      <th>8</th>\n",
       "      <td>TP total</td>\n",
       "      <td>0</td>\n",
       "      <td>0.0</td>\n",
       "      <td>float64</td>\n",
       "      <td>28856</td>\n",
       "    </tr>\n",
       "    <tr>\n",
       "      <th>9</th>\n",
       "      <td>TCP total</td>\n",
       "      <td>0</td>\n",
       "      <td>0.0</td>\n",
       "      <td>float64</td>\n",
       "      <td>29986</td>\n",
       "    </tr>\n",
       "    <tr>\n",
       "      <th>10</th>\n",
       "      <td>youtube</td>\n",
       "      <td>0</td>\n",
       "      <td>0.0</td>\n",
       "      <td>float64</td>\n",
       "      <td>106745</td>\n",
       "    </tr>\n",
       "    <tr>\n",
       "      <th>11</th>\n",
       "      <td>netflix</td>\n",
       "      <td>0</td>\n",
       "      <td>0.0</td>\n",
       "      <td>float64</td>\n",
       "      <td>106742</td>\n",
       "    </tr>\n",
       "    <tr>\n",
       "      <th>12</th>\n",
       "      <td>google</td>\n",
       "      <td>0</td>\n",
       "      <td>0.0</td>\n",
       "      <td>float64</td>\n",
       "      <td>106582</td>\n",
       "    </tr>\n",
       "    <tr>\n",
       "      <th>13</th>\n",
       "      <td>gaming</td>\n",
       "      <td>0</td>\n",
       "      <td>0.0</td>\n",
       "      <td>float64</td>\n",
       "      <td>106853</td>\n",
       "    </tr>\n",
       "    <tr>\n",
       "      <th>14</th>\n",
       "      <td>email</td>\n",
       "      <td>0</td>\n",
       "      <td>0.0</td>\n",
       "      <td>float64</td>\n",
       "      <td>105946</td>\n",
       "    </tr>\n",
       "    <tr>\n",
       "      <th>15</th>\n",
       "      <td>social</td>\n",
       "      <td>0</td>\n",
       "      <td>0.0</td>\n",
       "      <td>float64</td>\n",
       "      <td>105922</td>\n",
       "    </tr>\n",
       "    <tr>\n",
       "      <th>16</th>\n",
       "      <td>other</td>\n",
       "      <td>0</td>\n",
       "      <td>0.0</td>\n",
       "      <td>float64</td>\n",
       "      <td>106852</td>\n",
       "    </tr>\n",
       "    <tr>\n",
       "      <th>17</th>\n",
       "      <td>Decile</td>\n",
       "      <td>0</td>\n",
       "      <td>0.0</td>\n",
       "      <td>int64</td>\n",
       "      <td>10</td>\n",
       "    </tr>\n",
       "    <tr>\n",
       "      <th>18</th>\n",
       "      <td>Clusters</td>\n",
       "      <td>0</td>\n",
       "      <td>0.0</td>\n",
       "      <td>int64</td>\n",
       "      <td>3</td>\n",
       "    </tr>\n",
       "    <tr>\n",
       "      <th>19</th>\n",
       "      <td>eng_score</td>\n",
       "      <td>0</td>\n",
       "      <td>0.0</td>\n",
       "      <td>float64</td>\n",
       "      <td>106856</td>\n",
       "    </tr>\n",
       "    <tr>\n",
       "      <th>20</th>\n",
       "      <td>Clusters_exp</td>\n",
       "      <td>0</td>\n",
       "      <td>0.0</td>\n",
       "      <td>int64</td>\n",
       "      <td>3</td>\n",
       "    </tr>\n",
       "    <tr>\n",
       "      <th>21</th>\n",
       "      <td>exp_score</td>\n",
       "      <td>0</td>\n",
       "      <td>0.0</td>\n",
       "      <td>float64</td>\n",
       "      <td>66317</td>\n",
       "    </tr>\n",
       "    <tr>\n",
       "      <th>22</th>\n",
       "      <td>sat_score</td>\n",
       "      <td>0</td>\n",
       "      <td>0.0</td>\n",
       "      <td>float64</td>\n",
       "      <td>106856</td>\n",
       "    </tr>\n",
       "  </tbody>\n",
       "</table>\n",
       "</div>"
      ],
      "text/plain": [
       "            variables  missing_count  missing_percent_(%) data_type  \\\n",
       "0       MSISDN/Number              0                  0.0   float64   \n",
       "1   xDr_session_count              0                  0.0     int64   \n",
       "2         session_dur              0                  0.0   float64   \n",
       "3             Handset              0                  0.0    object   \n",
       "4            Total_DL              0                  0.0   float64   \n",
       "5            Total_UL              0                  0.0   float64   \n",
       "6           total_vol              0                  0.0   float64   \n",
       "7           RTT total              0                  0.0   float64   \n",
       "8            TP total              0                  0.0   float64   \n",
       "9           TCP total              0                  0.0   float64   \n",
       "10            youtube              0                  0.0   float64   \n",
       "11            netflix              0                  0.0   float64   \n",
       "12             google              0                  0.0   float64   \n",
       "13             gaming              0                  0.0   float64   \n",
       "14              email              0                  0.0   float64   \n",
       "15             social              0                  0.0   float64   \n",
       "16              other              0                  0.0   float64   \n",
       "17             Decile              0                  0.0     int64   \n",
       "18           Clusters              0                  0.0     int64   \n",
       "19          eng_score              0                  0.0   float64   \n",
       "20       Clusters_exp              0                  0.0     int64   \n",
       "21          exp_score              0                  0.0   float64   \n",
       "22          sat_score              0                  0.0   float64   \n",
       "\n",
       "    unique_values  \n",
       "0          106856  \n",
       "1              18  \n",
       "2           74492  \n",
       "3            1394  \n",
       "4          106851  \n",
       "5          106715  \n",
       "6          106853  \n",
       "7             787  \n",
       "8           28856  \n",
       "9           29986  \n",
       "10         106745  \n",
       "11         106742  \n",
       "12         106582  \n",
       "13         106853  \n",
       "14         105946  \n",
       "15         105922  \n",
       "16         106852  \n",
       "17             10  \n",
       "18              3  \n",
       "19         106856  \n",
       "20              3  \n",
       "21          66317  \n",
       "22         106856  "
      ]
     },
     "execution_count": 7,
     "metadata": {},
     "output_type": "execute_result"
    }
   ],
   "source": [
    "# creating a new satisfaction score column based on exp_score and eng_score.\n",
    "\n",
    "user_df[\"sat_score\"] = user_df[[\"eng_score\", \"exp_score\"]].mean(axis=1)\n",
    "sumar.summ_columns(user_df)"
   ]
  },
  {
   "cell_type": "code",
   "execution_count": 8,
   "id": "81e8146e-a3cb-417a-a0e7-76c0715dafea",
   "metadata": {},
   "outputs": [
    {
     "name": "stdout",
     "output_type": "stream",
     "text": [
      "\n",
      "Top 10 customers based onsat_score\n",
      "\n",
      "       MSISDN/Number  sat_score\n",
      "6437    3.361489e+10  26.364660\n",
      "76363   3.367588e+10  22.021100\n",
      "13526   3.362632e+10  19.839741\n",
      "37052   3.365973e+10  19.702678\n",
      "92923   3.376054e+10  19.524782\n",
      "13180   3.362578e+10  19.068834\n",
      "35436   3.365936e+10  17.802818\n",
      "30225   3.365826e+10  17.018547\n",
      "92577   3.376041e+10  16.987683\n",
      "57241   3.366471e+10  16.488120\n"
     ]
    }
   ],
   "source": [
    "# showing the top 10 users based on user experience metrics\n",
    "\n",
    "sumar.show_N_per_col(user_df, \"MSISDN/Number\", [\"sat_score\"], 10)"
   ]
  },
  {
   "cell_type": "markdown",
   "id": "399a2009-0a31-4417-87e6-5d86b5497170",
   "metadata": {},
   "source": [
    "<h2> Creating a regression model"
   ]
  },
  {
   "cell_type": "code",
   "execution_count": 18,
   "id": "1ea55d40-6c94-4749-8f5f-a0b0fe85a2f1",
   "metadata": {},
   "outputs": [
    {
     "name": "stdout",
     "output_type": "stream",
     "text": [
      "Model created Sucessfully.\n"
     ]
    },
    {
     "data": {
      "text/plain": [
       "array([3.68726512, 3.93127092, 4.16854178, ..., 5.20640853, 4.67365363,\n",
       "       3.88223749])"
      ]
     },
     "execution_count": 18,
     "metadata": {},
     "output_type": "execute_result"
    }
   ],
   "source": [
    "# Creating features and target.\n",
    "#x = feature/independant variables\n",
    "#y = target / dependant variable\n",
    "features = [\"xDr_session_count\", \"session_dur\", \"total_vol\", \"RTT total\", \"TP total\", \"TCP total\"]\n",
    "x = user_df[features]\n",
    "y = user_df[\"sat_score\"]\n",
    "\n",
    "# splitting the data\n",
    "x_train, x_test, y_train, y_test = train_test_split(x, y, test_size = 0.2, random_state = 42)\n",
    "\n",
    "# gnerate model\n",
    "sumar.generateModel(x_train, y_train)\n",
    "\n",
    "y_prediction =  model.predict(x_test)\n",
    "y_prediction\n",
    "\n",
    "# Saving trained model\n",
    "\n",
    "#joblib.dump(models_dir, \"user_satisfaction_model.pkl\")\n",
    "#print(\"MODEL SAVED SUCCESSFULLY.\")"
   ]
  },
  {
   "cell_type": "code",
   "execution_count": 19,
   "id": "028cdfd4-0866-4b06-9362-1b6c17c15230",
   "metadata": {},
   "outputs": [
    {
     "name": "stdout",
     "output_type": "stream",
     "text": [
      "r2 socre is  0.6439936648170462\n",
      "mean_sqrd_error is== 0.10041563653542979\n",
      "root_mean_squared error of is== 0.3168842636285838\n"
     ]
    }
   ],
   "source": [
    "# predicting the accuracy score\n",
    "\n",
    "score=r2_score(y_test,y_prediction)\n",
    "print(\"r2 socre is \",score)"
   ]
  },
  {
   "cell_type": "code",
   "execution_count": 21,
   "id": "fee41b79-8f9e-4d34-8051-5f67f479fbe8",
   "metadata": {},
   "outputs": [],
   "source": [
    "x2 = x.values.reshape(-1, len(features))\n",
    "y2 = y.values\n",
    "\n",
    "ols = LinearRegression()\n",
    "model2 = ols.fit(x2, y2)\n"
   ]
  },
  {
   "cell_type": "code",
   "execution_count": 22,
   "id": "3af5896c-211d-44c4-97a8-a3ecd474d197",
   "metadata": {},
   "outputs": [
    {
     "data": {
      "text/plain": [
       "array([ 3.91659315e-01,  2.18706953e-03,  2.64819866e-04, -3.16630911e+00,\n",
       "       -9.22341775e-06, -5.32443629e-01])"
      ]
     },
     "execution_count": 22,
     "metadata": {},
     "output_type": "execute_result"
    }
   ],
   "source": [
    "model2.coef_"
   ]
  },
  {
   "cell_type": "code",
   "execution_count": 23,
   "id": "20b7e693-a094-4608-baab-da5a0696cb78",
   "metadata": {},
   "outputs": [
    {
     "data": {
      "text/plain": [
       "3.2601769698353547"
      ]
     },
     "execution_count": 23,
     "metadata": {},
     "output_type": "execute_result"
    }
   ],
   "source": [
    "model2.intercept_"
   ]
  },
  {
   "cell_type": "code",
   "execution_count": 25,
   "id": "f42fa9fc-3d5e-4adf-b37b-19fadea9940d",
   "metadata": {},
   "outputs": [
    {
     "data": {
      "text/plain": [
       "0.640569770394771"
      ]
     },
     "execution_count": 25,
     "metadata": {},
     "output_type": "execute_result"
    }
   ],
   "source": [
    "model2.score(x2, y2)"
   ]
  },
  {
   "cell_type": "markdown",
   "id": "b24ee56c-861f-47bd-9c30-f6fb2e008bef",
   "metadata": {},
   "source": [
    "<h2>clustering based on experience and engagement"
   ]
  },
  {
   "cell_type": "code",
   "execution_count": null,
   "id": "ffa74a6d-f665-466c-bc1f-1135ad0a7bdd",
   "metadata": {},
   "outputs": [],
   "source": [
    "# selecting features\n",
    "\n",
    "selected_features = [\"eng_score\", \"exp_score\"]\n",
    "normalized_df, "
   ]
  }
 ],
 "metadata": {
  "kernelspec": {
   "display_name": "Python 3 (ipykernel)",
   "language": "python",
   "name": "python3"
  },
  "language_info": {
   "codemirror_mode": {
    "name": "ipython",
    "version": 3
   },
   "file_extension": ".py",
   "mimetype": "text/x-python",
   "name": "python",
   "nbconvert_exporter": "python",
   "pygments_lexer": "ipython3",
   "version": "3.9.7"
  }
 },
 "nbformat": 4,
 "nbformat_minor": 5
}
