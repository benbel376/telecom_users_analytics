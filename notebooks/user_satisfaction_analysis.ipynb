{
 "cells": [
  {
   "cell_type": "code",
   "execution_count": null,
   "id": "7eacd8cd-424f-4051-a503-2cc78b637d1d",
   "metadata": {},
   "outputs": [],
   "source": []
  },
  {
   "cell_type": "markdown",
   "id": "dda99278-2703-4aec-b04c-8a467b281829",
   "metadata": {},
   "source": [
    "<h1> User Engagement Analysis </h2>"
   ]
  },
  {
   "cell_type": "markdown",
   "id": "6933c16c-2fce-4dce-bc4a-1ace67638feb",
   "metadata": {},
   "source": [
    "<h2> Imporing data and packages </h2>"
   ]
  },
  {
   "cell_type": "code",
   "execution_count": 1,
   "id": "49a52875-5c72-4a75-96d6-1dc3bbd0ed37",
   "metadata": {},
   "outputs": [],
   "source": [
    "import pandas as pd\n",
    "import numpy as np\n",
    "import os\n",
    "import warnings\n",
    "from pandasql import sqldf\n",
    "import matplotlib.pyplot as plt\n",
    "import seaborn as sns\n",
    "import sys\n",
    "from sklearn.preprocessing import StandardScaler\n",
    "from sklearn.cluster import KMeans"
   ]
  },
  {
   "cell_type": "code",
   "execution_count": 2,
   "id": "8a690124-b37b-48b4-a7cc-3ed48c4c8f83",
   "metadata": {},
   "outputs": [],
   "source": [
    "# Suppressing warning messages\n",
    "\n",
    "warnings.filterwarnings('ignore')"
   ]
  },
  {
   "cell_type": "code",
   "execution_count": 3,
   "id": "f5896900-0dd1-4584-af21-7de26f439452",
   "metadata": {},
   "outputs": [],
   "source": [
    "# setting path to file and folders\n",
    "\n",
    "parent_dir = os.path.abspath(os.path.join(os.getcwd(), os.pardir)) # setting path to parent directory\n",
    "scripts_dir = os.path.join(parent_dir,\"scripts\") # setting path to scripts directory\n",
    "data_path = os.path.join(parent_dir,\"data\",\"teleco_user_exp_data.csv\") # setting path to data directory\n",
    "\n",
    "sys.path.insert(1, scripts_dir)"
   ]
  },
  {
   "cell_type": "code",
   "execution_count": 5,
   "id": "5d45f544-44b4-4262-af13-987c77bedee8",
   "metadata": {},
   "outputs": [],
   "source": [
    "# Importing scripts\n",
    "\n",
    "from data_cleaning_functions import DataCleaner as Cleaner \n",
    "from data_summarizing_functions import DataSummarizer as Sumar\n",
    "\n",
    "cleaner = Cleaner()\n",
    "sumar = Sumar()"
   ]
  },
  {
   "cell_type": "code",
   "execution_count": 6,
   "id": "c265b753-b869-4a40-93b3-d966761317df",
   "metadata": {},
   "outputs": [],
   "source": [
    "# Importing the users data frame with experience and engagement score\n",
    "\n",
    "user_df= pd.read_csv(data_path)"
   ]
  },
  {
   "cell_type": "code",
   "execution_count": 7,
   "id": "b8307bef-be51-413e-a345-8d6760c97807",
   "metadata": {},
   "outputs": [
    {
     "name": "stdout",
     "output_type": "stream",
     "text": [
      "<class 'pandas.core.frame.DataFrame'>\n",
      "RangeIndex: 106856 entries, 0 to 106855\n",
      "Data columns (total 22 columns):\n",
      " #   Column             Non-Null Count   Dtype  \n",
      "---  ------             --------------   -----  \n",
      " 0   MSISDN/Number      106856 non-null  float64\n",
      " 1   xDr_session_count  106856 non-null  int64  \n",
      " 2   session_dur        106856 non-null  float64\n",
      " 3   Handset            106856 non-null  object \n",
      " 4   Total_DL           106856 non-null  float64\n",
      " 5   Total_UL           106856 non-null  float64\n",
      " 6   total_vol          106856 non-null  float64\n",
      " 7   RTT total          106856 non-null  float64\n",
      " 8   TP total           106856 non-null  float64\n",
      " 9   TCP total          106856 non-null  float64\n",
      " 10  youtube            106856 non-null  float64\n",
      " 11  netflix            106856 non-null  float64\n",
      " 12  google             106856 non-null  float64\n",
      " 13  gaming             106856 non-null  float64\n",
      " 14  email              106856 non-null  float64\n",
      " 15  social             106856 non-null  float64\n",
      " 16  other              106856 non-null  float64\n",
      " 17  Decile             106856 non-null  int64  \n",
      " 18  Clusters           106856 non-null  int64  \n",
      " 19  eng_score          106856 non-null  float64\n",
      " 20  Clusters_exp       106856 non-null  int64  \n",
      " 21  exp_score          106856 non-null  float64\n",
      "dtypes: float64(17), int64(4), object(1)\n",
      "memory usage: 17.9+ MB\n"
     ]
    }
   ],
   "source": [
    "user_df.info()"
   ]
  },
  {
   "cell_type": "code",
   "execution_count": null,
   "id": "901a4856-4ffb-4cd4-bedd-14b383232f13",
   "metadata": {},
   "outputs": [],
   "source": [
    "#"
   ]
  }
 ],
 "metadata": {
  "kernelspec": {
   "display_name": "Python 3 (ipykernel)",
   "language": "python",
   "name": "python3"
  },
  "language_info": {
   "codemirror_mode": {
    "name": "ipython",
    "version": 3
   },
   "file_extension": ".py",
   "mimetype": "text/x-python",
   "name": "python",
   "nbconvert_exporter": "python",
   "pygments_lexer": "ipython3",
   "version": "3.9.7"
  }
 },
 "nbformat": 4,
 "nbformat_minor": 5
}
