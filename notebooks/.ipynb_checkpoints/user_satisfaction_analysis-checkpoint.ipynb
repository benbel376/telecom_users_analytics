{
 "cells": [
  {
   "cell_type": "code",
   "execution_count": null,
   "id": "7eacd8cd-424f-4051-a503-2cc78b637d1d",
   "metadata": {},
   "outputs": [],
   "source": []
  },
  {
   "cell_type": "markdown",
   "id": "dda99278-2703-4aec-b04c-8a467b281829",
   "metadata": {},
   "source": [
    "<h1> User Engagement Analysis </h2>"
   ]
  },
  {
   "cell_type": "markdown",
   "id": "6933c16c-2fce-4dce-bc4a-1ace67638feb",
   "metadata": {},
   "source": [
    "<h2> Imporing data and packages </h2>"
   ]
  },
  {
   "cell_type": "code",
   "execution_count": null,
   "id": "49a52875-5c72-4a75-96d6-1dc3bbd0ed37",
   "metadata": {},
   "outputs": [],
   "source": [
    "import pandas as pd\n",
    "import numpy as np\n",
    "import os\n",
    "import warnings\n",
    "from pandasql import sqldf\n",
    "import matplotlib.pyplot as plt\n",
    "import seaborn as sns\n",
    "import sys\n",
    "from sklearn.preprocessing import StandardScaler\n",
    "from sklearn.cluster import KMeans\n",
    "from sklearn.linear_model import LinearRegression\n",
    "import joblib # for dumping regression model to a file."
   ]
  },
  {
   "cell_type": "code",
   "execution_count": null,
   "id": "8a690124-b37b-48b4-a7cc-3ed48c4c8f83",
   "metadata": {},
   "outputs": [],
   "source": [
    "# Suppressing warning messages\n",
    "\n",
    "warnings.filterwarnings('ignore')"
   ]
  },
  {
   "cell_type": "code",
   "execution_count": null,
   "id": "f5896900-0dd1-4584-af21-7de26f439452",
   "metadata": {},
   "outputs": [],
   "source": [
    "# setting path to file and folders\n",
    "\n",
    "parent_dir = os.path.abspath(os.path.join(os.getcwd(), os.pardir)) # setting path to parent directory\n",
    "scripts_dir = os.path.join(parent_dir,\"scripts\") # setting path to scripts directory\n",
    "models_dir = os.path.join(parent_dir, \"models\") # setiing path to models directory\n",
    "data_path = os.path.join(parent_dir,\"data\",\"teleco_user_exp_data.csv\") # setting path to data directory\n",
    "\n",
    "sys.path.insert(1, scripts_dir)"
   ]
  },
  {
   "cell_type": "code",
   "execution_count": null,
   "id": "5d45f544-44b4-4262-af13-987c77bedee8",
   "metadata": {},
   "outputs": [],
   "source": [
    "# Importing scripts\n",
    "\n",
    "from data_cleaning_functions import DataCleaner as Cleaner \n",
    "from data_summarizing_functions import DataSummarizer as Sumar\n",
    "\n",
    "cleaner = Cleaner()\n",
    "sumar = Sumar()"
   ]
  },
  {
   "cell_type": "code",
   "execution_count": null,
   "id": "c265b753-b869-4a40-93b3-d966761317df",
   "metadata": {},
   "outputs": [],
   "source": [
    "# Importing the users data frame with experience and engagement score\n",
    "\n",
    "user_df= pd.read_csv(data_path)"
   ]
  },
  {
   "cell_type": "code",
   "execution_count": null,
   "id": "b8307bef-be51-413e-a345-8d6760c97807",
   "metadata": {},
   "outputs": [],
   "source": [
    "user_df.info()"
   ]
  },
  {
   "cell_type": "markdown",
   "id": "f3bf6052-0cc1-4edf-8b4f-41b361091239",
   "metadata": {},
   "source": [
    "<h2> User Satisfaction Exploration"
   ]
  },
  {
   "cell_type": "code",
   "execution_count": null,
   "id": "8cd35e3c-f942-438b-acc5-46eaafff3ab8",
   "metadata": {},
   "outputs": [],
   "source": [
    "# creating a new satisfaction score column based on exp_score and eng_score.\n",
    "\n",
    "user_df[\"sat_score\"] = user_df.apply(lambda df: np.mean(user_df[[\"eng_score\", \"exp_score\"]]), axis = 1)\n",
    "sumar.summ_columns(user_df)"
   ]
  },
  {
   "cell_type": "code",
   "execution_count": null,
   "id": "81e8146e-a3cb-417a-a0e7-76c0715dafea",
   "metadata": {},
   "outputs": [],
   "source": [
    "# showing the top 10 users based on user experience metrics\n",
    "\n",
    "sumar.show_N_per_col(user_df, \"MSISDN/Number\", [\"sat_score\"], 10)"
   ]
  },
  {
   "cell_type": "markdown",
   "id": "399a2009-0a31-4417-87e6-5d86b5497170",
   "metadata": {},
   "source": [
    "<h2> Creating a regression model"
   ]
  },
  {
   "cell_type": "code",
   "execution_count": null,
   "id": "1ea55d40-6c94-4749-8f5f-a0b0fe85a2f1",
   "metadata": {},
   "outputs": [],
   "source": [
    "# Creating features and target.\n",
    "#x = feature/independant variables\n",
    "#y = target / dependant variable\n",
    "\n",
    "x = user_df[\"xDr_session_count\", \"session_dur\", \"total_vol\", \"RTT total\", \"TP total\", \"TCP total\"]\n",
    "y = user_df[\"sat_score\"]\n",
    "\n",
    "\n",
    "# Creating regression model and fitting it\n",
    "\n",
    "model=LinearRegression()\n",
    "x = x.values.reshape(user_df.shape[0],1)\n",
    "model.fit(x,y)\n",
    "print(“Model created Sucessfully.”)\n",
    "\n",
    "\n",
    "# Saving trained model\n",
    "\n",
    "joblib.dump(models_dir,’salary_model.pkl’)\n",
    "print(“MODEL SAVED SUCCESSFULLY.”)"
   ]
  },
  {
   "cell_type": "markdown",
   "id": "b24ee56c-861f-47bd-9c30-f6fb2e008bef",
   "metadata": {},
   "source": [
    "<h2>clustering based on experience and engagement"
   ]
  },
  {
   "cell_type": "code",
   "execution_count": null,
   "id": "ffa74a6d-f665-466c-bc1f-1135ad0a7bdd",
   "metadata": {},
   "outputs": [],
   "source": []
  }
 ],
 "metadata": {
  "kernelspec": {
   "display_name": "Python 3 (ipykernel)",
   "language": "python",
   "name": "python3"
  },
  "language_info": {
   "codemirror_mode": {
    "name": "ipython",
    "version": 3
   },
   "file_extension": ".py",
   "mimetype": "text/x-python",
   "name": "python",
   "nbconvert_exporter": "python",
   "pygments_lexer": "ipython3",
   "version": "3.9.7"
  }
 },
 "nbformat": 4,
 "nbformat_minor": 5
}
