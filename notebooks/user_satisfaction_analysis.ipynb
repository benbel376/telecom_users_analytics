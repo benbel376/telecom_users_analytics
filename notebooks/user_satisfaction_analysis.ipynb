{
 "cells": [
  {
   "cell_type": "markdown",
   "id": "dda99278-2703-4aec-b04c-8a467b281829",
   "metadata": {},
   "source": [
    "<h1> User Engagement Analysis </h2>"
   ]
  },
  {
   "cell_type": "markdown",
   "id": "6933c16c-2fce-4dce-bc4a-1ace67638feb",
   "metadata": {},
   "source": [
    "<h2> Imporing data and packages </h2>"
   ]
  },
  {
   "cell_type": "code",
   "execution_count": 1,
   "id": "49a52875-5c72-4a75-96d6-1dc3bbd0ed37",
   "metadata": {},
   "outputs": [],
   "source": [
    "import pandas as pd\n",
    "import numpy as np\n",
    "import os\n",
    "import warnings\n",
    "import matplotlib.pyplot as plt\n",
    "import seaborn as sns\n",
    "import sys\n",
    "from sklearn.preprocessing import StandardScaler\n",
    "from sklearn.cluster import KMeans\n",
    "from sklearn.linear_model import LinearRegression\n",
    "from sklearn.metrics import r2_score\n",
    "from sklearn.metrics import mean_squared_error\n",
    "from sklearn.model_selection import train_test_split\n",
    "import pickle # for dumping regression model to a file."
   ]
  },
  {
   "cell_type": "code",
   "execution_count": 2,
   "id": "8a690124-b37b-48b4-a7cc-3ed48c4c8f83",
   "metadata": {},
   "outputs": [],
   "source": [
    "# Suppressing warning messages\n",
    "\n",
    "warnings.filterwarnings('ignore')"
   ]
  },
  {
   "cell_type": "code",
   "execution_count": 3,
   "id": "f5896900-0dd1-4584-af21-7de26f439452",
   "metadata": {},
   "outputs": [],
   "source": [
    "# setting path to file and folders\n",
    "\n",
    "parent_dir = os.path.abspath(os.path.join(os.getcwd(), os.pardir)) # setting path to parent directory\n",
    "scripts_dir = os.path.join(parent_dir,\"scripts\") # setting path to scripts directory\n",
    "models_dir = os.path.join(parent_dir, \"models\") # setiing path to models directory\n",
    "data_path = os.path.join(parent_dir,\"data\",\"teleco_user_exp_data.csv\") # setting path to data directory\n",
    "\n",
    "sys.path.insert(1, scripts_dir)"
   ]
  },
  {
   "cell_type": "code",
   "execution_count": 4,
   "id": "5d45f544-44b4-4262-af13-987c77bedee8",
   "metadata": {},
   "outputs": [],
   "source": [
    "# Importing scripts\n",
    "\n",
    "from data_cleaning_functions import DataCleaner as Cleaner \n",
    "from data_summarizing_functions import DataSummarizer as Sumar\n",
    "\n",
    "cleaner = Cleaner()\n",
    "sumar = Sumar()"
   ]
  },
  {
   "cell_type": "code",
   "execution_count": 5,
   "id": "c265b753-b869-4a40-93b3-d966761317df",
   "metadata": {},
   "outputs": [],
   "source": [
    "# Importing the users data frame with experience and engagement score\n",
    "\n",
    "user_df= pd.read_csv(data_path)"
   ]
  },
  {
   "cell_type": "code",
   "execution_count": 6,
   "id": "b8307bef-be51-413e-a345-8d6760c97807",
   "metadata": {},
   "outputs": [
    {
     "name": "stdout",
     "output_type": "stream",
     "text": [
      "<class 'pandas.core.frame.DataFrame'>\n",
      "RangeIndex: 106856 entries, 0 to 106855\n",
      "Data columns (total 22 columns):\n",
      " #   Column             Non-Null Count   Dtype  \n",
      "---  ------             --------------   -----  \n",
      " 0   MSISDN/Number      106856 non-null  float64\n",
      " 1   xDr_session_count  106856 non-null  int64  \n",
      " 2   session_dur        106856 non-null  float64\n",
      " 3   Handset            106856 non-null  object \n",
      " 4   Total_DL           106856 non-null  float64\n",
      " 5   Total_UL           106856 non-null  float64\n",
      " 6   total_vol          106856 non-null  float64\n",
      " 7   RTT total          106856 non-null  float64\n",
      " 8   TP total           106856 non-null  float64\n",
      " 9   TCP total          106856 non-null  float64\n",
      " 10  youtube            106856 non-null  float64\n",
      " 11  netflix            106856 non-null  float64\n",
      " 12  google             106856 non-null  float64\n",
      " 13  gaming             106856 non-null  float64\n",
      " 14  email              106856 non-null  float64\n",
      " 15  social             106856 non-null  float64\n",
      " 16  other              106856 non-null  float64\n",
      " 17  Decile             106856 non-null  int64  \n",
      " 18  Clusters_eng       106856 non-null  int64  \n",
      " 19  eng_score          106856 non-null  float64\n",
      " 20  Clusters_exp       106856 non-null  int64  \n",
      " 21  exp_score          106856 non-null  float64\n",
      "dtypes: float64(17), int64(4), object(1)\n",
      "memory usage: 17.9+ MB\n"
     ]
    }
   ],
   "source": [
    "user_df.info()"
   ]
  },
  {
   "cell_type": "markdown",
   "id": "f3bf6052-0cc1-4edf-8b4f-41b361091239",
   "metadata": {},
   "source": [
    "<h2> User Satisfaction Exploration"
   ]
  },
  {
   "cell_type": "code",
   "execution_count": 7,
   "id": "8cd35e3c-f942-438b-acc5-46eaafff3ab8",
   "metadata": {},
   "outputs": [
    {
     "data": {
      "text/html": [
       "<div>\n",
       "<style scoped>\n",
       "    .dataframe tbody tr th:only-of-type {\n",
       "        vertical-align: middle;\n",
       "    }\n",
       "\n",
       "    .dataframe tbody tr th {\n",
       "        vertical-align: top;\n",
       "    }\n",
       "\n",
       "    .dataframe thead th {\n",
       "        text-align: right;\n",
       "    }\n",
       "</style>\n",
       "<table border=\"1\" class=\"dataframe\">\n",
       "  <thead>\n",
       "    <tr style=\"text-align: right;\">\n",
       "      <th></th>\n",
       "      <th>variables</th>\n",
       "      <th>missing_count</th>\n",
       "      <th>missing_percent_(%)</th>\n",
       "      <th>data_type</th>\n",
       "      <th>unique_values</th>\n",
       "    </tr>\n",
       "  </thead>\n",
       "  <tbody>\n",
       "    <tr>\n",
       "      <th>0</th>\n",
       "      <td>MSISDN/Number</td>\n",
       "      <td>0</td>\n",
       "      <td>0.0</td>\n",
       "      <td>float64</td>\n",
       "      <td>106856</td>\n",
       "    </tr>\n",
       "    <tr>\n",
       "      <th>1</th>\n",
       "      <td>xDr_session_count</td>\n",
       "      <td>0</td>\n",
       "      <td>0.0</td>\n",
       "      <td>int64</td>\n",
       "      <td>18</td>\n",
       "    </tr>\n",
       "    <tr>\n",
       "      <th>2</th>\n",
       "      <td>session_dur</td>\n",
       "      <td>0</td>\n",
       "      <td>0.0</td>\n",
       "      <td>float64</td>\n",
       "      <td>74492</td>\n",
       "    </tr>\n",
       "    <tr>\n",
       "      <th>3</th>\n",
       "      <td>Handset</td>\n",
       "      <td>0</td>\n",
       "      <td>0.0</td>\n",
       "      <td>object</td>\n",
       "      <td>1394</td>\n",
       "    </tr>\n",
       "    <tr>\n",
       "      <th>4</th>\n",
       "      <td>Total_DL</td>\n",
       "      <td>0</td>\n",
       "      <td>0.0</td>\n",
       "      <td>float64</td>\n",
       "      <td>106851</td>\n",
       "    </tr>\n",
       "    <tr>\n",
       "      <th>5</th>\n",
       "      <td>Total_UL</td>\n",
       "      <td>0</td>\n",
       "      <td>0.0</td>\n",
       "      <td>float64</td>\n",
       "      <td>106715</td>\n",
       "    </tr>\n",
       "    <tr>\n",
       "      <th>6</th>\n",
       "      <td>total_vol</td>\n",
       "      <td>0</td>\n",
       "      <td>0.0</td>\n",
       "      <td>float64</td>\n",
       "      <td>106853</td>\n",
       "    </tr>\n",
       "    <tr>\n",
       "      <th>7</th>\n",
       "      <td>RTT total</td>\n",
       "      <td>0</td>\n",
       "      <td>0.0</td>\n",
       "      <td>float64</td>\n",
       "      <td>787</td>\n",
       "    </tr>\n",
       "    <tr>\n",
       "      <th>8</th>\n",
       "      <td>TP total</td>\n",
       "      <td>0</td>\n",
       "      <td>0.0</td>\n",
       "      <td>float64</td>\n",
       "      <td>28856</td>\n",
       "    </tr>\n",
       "    <tr>\n",
       "      <th>9</th>\n",
       "      <td>TCP total</td>\n",
       "      <td>0</td>\n",
       "      <td>0.0</td>\n",
       "      <td>float64</td>\n",
       "      <td>29986</td>\n",
       "    </tr>\n",
       "    <tr>\n",
       "      <th>10</th>\n",
       "      <td>youtube</td>\n",
       "      <td>0</td>\n",
       "      <td>0.0</td>\n",
       "      <td>float64</td>\n",
       "      <td>106745</td>\n",
       "    </tr>\n",
       "    <tr>\n",
       "      <th>11</th>\n",
       "      <td>netflix</td>\n",
       "      <td>0</td>\n",
       "      <td>0.0</td>\n",
       "      <td>float64</td>\n",
       "      <td>106742</td>\n",
       "    </tr>\n",
       "    <tr>\n",
       "      <th>12</th>\n",
       "      <td>google</td>\n",
       "      <td>0</td>\n",
       "      <td>0.0</td>\n",
       "      <td>float64</td>\n",
       "      <td>106582</td>\n",
       "    </tr>\n",
       "    <tr>\n",
       "      <th>13</th>\n",
       "      <td>gaming</td>\n",
       "      <td>0</td>\n",
       "      <td>0.0</td>\n",
       "      <td>float64</td>\n",
       "      <td>106853</td>\n",
       "    </tr>\n",
       "    <tr>\n",
       "      <th>14</th>\n",
       "      <td>email</td>\n",
       "      <td>0</td>\n",
       "      <td>0.0</td>\n",
       "      <td>float64</td>\n",
       "      <td>105946</td>\n",
       "    </tr>\n",
       "    <tr>\n",
       "      <th>15</th>\n",
       "      <td>social</td>\n",
       "      <td>0</td>\n",
       "      <td>0.0</td>\n",
       "      <td>float64</td>\n",
       "      <td>105922</td>\n",
       "    </tr>\n",
       "    <tr>\n",
       "      <th>16</th>\n",
       "      <td>other</td>\n",
       "      <td>0</td>\n",
       "      <td>0.0</td>\n",
       "      <td>float64</td>\n",
       "      <td>106852</td>\n",
       "    </tr>\n",
       "    <tr>\n",
       "      <th>17</th>\n",
       "      <td>Decile</td>\n",
       "      <td>0</td>\n",
       "      <td>0.0</td>\n",
       "      <td>int64</td>\n",
       "      <td>10</td>\n",
       "    </tr>\n",
       "    <tr>\n",
       "      <th>18</th>\n",
       "      <td>Clusters_eng</td>\n",
       "      <td>0</td>\n",
       "      <td>0.0</td>\n",
       "      <td>int64</td>\n",
       "      <td>3</td>\n",
       "    </tr>\n",
       "    <tr>\n",
       "      <th>19</th>\n",
       "      <td>eng_score</td>\n",
       "      <td>0</td>\n",
       "      <td>0.0</td>\n",
       "      <td>float64</td>\n",
       "      <td>106856</td>\n",
       "    </tr>\n",
       "    <tr>\n",
       "      <th>20</th>\n",
       "      <td>Clusters_exp</td>\n",
       "      <td>0</td>\n",
       "      <td>0.0</td>\n",
       "      <td>int64</td>\n",
       "      <td>3</td>\n",
       "    </tr>\n",
       "    <tr>\n",
       "      <th>21</th>\n",
       "      <td>exp_score</td>\n",
       "      <td>0</td>\n",
       "      <td>0.0</td>\n",
       "      <td>float64</td>\n",
       "      <td>66084</td>\n",
       "    </tr>\n",
       "    <tr>\n",
       "      <th>22</th>\n",
       "      <td>sat_score</td>\n",
       "      <td>0</td>\n",
       "      <td>0.0</td>\n",
       "      <td>float64</td>\n",
       "      <td>106856</td>\n",
       "    </tr>\n",
       "  </tbody>\n",
       "</table>\n",
       "</div>"
      ],
      "text/plain": [
       "            variables  missing_count  missing_percent_(%) data_type  \\\n",
       "0       MSISDN/Number              0                  0.0   float64   \n",
       "1   xDr_session_count              0                  0.0     int64   \n",
       "2         session_dur              0                  0.0   float64   \n",
       "3             Handset              0                  0.0    object   \n",
       "4            Total_DL              0                  0.0   float64   \n",
       "5            Total_UL              0                  0.0   float64   \n",
       "6           total_vol              0                  0.0   float64   \n",
       "7           RTT total              0                  0.0   float64   \n",
       "8            TP total              0                  0.0   float64   \n",
       "9           TCP total              0                  0.0   float64   \n",
       "10            youtube              0                  0.0   float64   \n",
       "11            netflix              0                  0.0   float64   \n",
       "12             google              0                  0.0   float64   \n",
       "13             gaming              0                  0.0   float64   \n",
       "14              email              0                  0.0   float64   \n",
       "15             social              0                  0.0   float64   \n",
       "16              other              0                  0.0   float64   \n",
       "17             Decile              0                  0.0     int64   \n",
       "18       Clusters_eng              0                  0.0     int64   \n",
       "19          eng_score              0                  0.0   float64   \n",
       "20       Clusters_exp              0                  0.0     int64   \n",
       "21          exp_score              0                  0.0   float64   \n",
       "22          sat_score              0                  0.0   float64   \n",
       "\n",
       "    unique_values  \n",
       "0          106856  \n",
       "1              18  \n",
       "2           74492  \n",
       "3            1394  \n",
       "4          106851  \n",
       "5          106715  \n",
       "6          106853  \n",
       "7             787  \n",
       "8           28856  \n",
       "9           29986  \n",
       "10         106745  \n",
       "11         106742  \n",
       "12         106582  \n",
       "13         106853  \n",
       "14         105946  \n",
       "15         105922  \n",
       "16         106852  \n",
       "17             10  \n",
       "18              3  \n",
       "19         106856  \n",
       "20              3  \n",
       "21          66084  \n",
       "22         106856  "
      ]
     },
     "execution_count": 7,
     "metadata": {},
     "output_type": "execute_result"
    }
   ],
   "source": [
    "# creating a new satisfaction score column based on exp_score and eng_score.\n",
    "\n",
    "user_df[\"sat_score\"] = user_df[[\"eng_score\", \"exp_score\"]].mean(axis=1)\n",
    "sumar.summ_columns(user_df)"
   ]
  },
  {
   "cell_type": "code",
   "execution_count": 8,
   "id": "81e8146e-a3cb-417a-a0e7-76c0715dafea",
   "metadata": {},
   "outputs": [
    {
     "name": "stdout",
     "output_type": "stream",
     "text": [
      "\n",
      "Top 10 customers based on sat_score\n",
      "\n",
      "       MSISDN/Number  sat_score\n",
      "6437    3.361489e+10  99.070284\n",
      "76363   3.367588e+10  79.937081\n",
      "13526   3.362632e+10  69.518837\n",
      "37052   3.365973e+10  69.161538\n",
      "92923   3.376054e+10  68.596873\n",
      "13180   3.362578e+10  66.284985\n",
      "35436   3.365936e+10  62.717825\n",
      "30225   3.365826e+10  59.339502\n",
      "92577   3.376041e+10  58.472185\n",
      "57241   3.366471e+10  56.197079\n"
     ]
    }
   ],
   "source": [
    "# showing the top 10 users based on user experience metrics\n",
    "\n",
    "sumar.show_N_per_col(user_df, \"MSISDN/Number\", [\"sat_score\"], 10)"
   ]
  },
  {
   "cell_type": "markdown",
   "id": "399a2009-0a31-4417-87e6-5d86b5497170",
   "metadata": {},
   "source": [
    "<h2> Creating a regression model"
   ]
  },
  {
   "cell_type": "code",
   "execution_count": 9,
   "id": "1ea55d40-6c94-4749-8f5f-a0b0fe85a2f1",
   "metadata": {},
   "outputs": [
    {
     "name": "stdout",
     "output_type": "stream",
     "text": [
      "Model created Sucessfully.\n"
     ]
    },
    {
     "data": {
      "text/plain": [
       "array([27.88338134, 27.45432276, 26.65470898, ..., 18.51285913,\n",
       "       20.3451821 , 22.78325463])"
      ]
     },
     "execution_count": 9,
     "metadata": {},
     "output_type": "execute_result"
    }
   ],
   "source": [
    "# Creating features and target.\n",
    "#x = feature/independant variables\n",
    "#y = target / dependant variable\n",
    "\n",
    "x = user_df[[\"xDr_session_count\", \"session_dur\", \"total_vol\", \"RTT total\", \"TP total\", \"TCP total\"]]\n",
    "y = user_df[\"sat_score\"]\n",
    "\n",
    "# splitting the data\n",
    "x_train, x_test, y_train, y_test = train_test_split(x, y, test_size = 0.2, random_state = 42)\n",
    "\n",
    "# gnerate model\n",
    "model = sumar.generateModel(x_train, y_train)\n",
    "\n",
    "y_prediction =  model.predict(x_test)\n",
    "y_prediction\n"
   ]
  },
  {
   "cell_type": "code",
   "execution_count": 10,
   "id": "028cdfd4-0866-4b06-9362-1b6c17c15230",
   "metadata": {},
   "outputs": [
    {
     "name": "stdout",
     "output_type": "stream",
     "text": [
      "r2 socre is  0.797537020729264\n"
     ]
    }
   ],
   "source": [
    "# predicting the accuracy score\n",
    "\n",
    "score=r2_score(y_test,y_prediction)\n",
    "print(\"r2 socre is \",score)"
   ]
  },
  {
   "cell_type": "code",
   "execution_count": 11,
   "id": "84370dc1-6153-4e9b-9e0d-45264337fe83",
   "metadata": {},
   "outputs": [
    {
     "name": "stdout",
     "output_type": "stream",
     "text": [
      "MODEL SAVED SUCCESSFULLY.\n"
     ]
    }
   ],
   "source": [
    "# Saving model to file\n",
    "\n",
    "filename = 'pridict_satisfaction_model.sav'\n",
    "file_loc = os.path.join(models_dir,filename)\n",
    "pickle.dump(model, open(file_loc, 'wb'))\n",
    "print(\"MODEL SAVED SUCCESSFULLY.\")"
   ]
  },
  {
   "cell_type": "markdown",
   "id": "b24ee56c-861f-47bd-9c30-f6fb2e008bef",
   "metadata": {},
   "source": [
    "<h2>clustering based on experience and engagement"
   ]
  },
  {
   "cell_type": "code",
   "execution_count": 12,
   "id": "ffa74a6d-f665-466c-bc1f-1135ad0a7bdd",
   "metadata": {},
   "outputs": [],
   "source": [
    "# selecting features\n",
    "\n",
    "selected_features = [\"eng_score\", \"exp_score\"]\n",
    "normalised_df, data_with_clusters, kmeans = sumar.clusterGenerator(user_df, selected_features, 2, \"Clusters_exp_eng\")"
   ]
  },
  {
   "cell_type": "code",
   "execution_count": 13,
   "id": "b1dc4624-8265-4cf6-8532-0051b413c85d",
   "metadata": {},
   "outputs": [],
   "source": [
    "# aggregating by clusters\n",
    "\n",
    "clus_df = sumar.find_agg(data_with_clusters, \"Clusters_exp_eng\",selected_features, [\"mean\", \"mean\"], [\"eng_mean\", \"exp_mean\"])\n"
   ]
  },
  {
   "cell_type": "code",
   "execution_count": 14,
   "id": "7aaafa48-ee8c-4944-9699-9bbf3cda3c6b",
   "metadata": {},
   "outputs": [
    {
     "name": "stdout",
     "output_type": "stream",
     "text": [
      "\n",
      "Top 10 customers based on eng_mean\n",
      "\n",
      "   Clusters_exp_eng   eng_mean\n",
      "0                 0  24.175862\n",
      "1                 1  14.149127\n",
      "\n",
      "Top 10 customers based on exp_mean\n",
      "\n",
      "   Clusters_exp_eng   exp_mean\n",
      "0                 0  30.083437\n",
      "1                 1  22.729777\n"
     ]
    }
   ],
   "source": [
    "# showing the top 10 satisfied customers based on user experience and engagement scores\n",
    "\n",
    "sumar.show_N_per_col(clus_df, \"Clusters_exp_eng\", [\"eng_mean\", \"exp_mean\"], 10)"
   ]
  },
  {
   "cell_type": "code",
   "execution_count": 15,
   "id": "6e44d542-a604-4f8c-a661-ebf4374dbb0b",
   "metadata": {},
   "outputs": [
    {
     "data": {
      "image/png": "[encoded data removed]",
      "text/plain": [
       "<Figure size 720x504 with 1 Axes>"
      ]
     },
     "metadata": {},
     "output_type": "display_data"
    }
   ],
   "source": [
    "sumar.plot_pie(clus_df, [\"Clusters_exp_eng\", \"eng_mean\"], \"engagement score mean per cluster\")"
   ]
  },
  {
   "cell_type": "code",
   "execution_count": 16,
   "id": "687f152f-0c5b-42f9-ab8c-955b1dcdde42",
   "metadata": {},
   "outputs": [
    {
     "data": {
      "image/png": "[encoded data removed]",
      "text/plain": [
       "<Figure size 720x504 with 1 Axes>"
      ]
     },
     "metadata": {},
     "output_type": "display_data"
    }
   ],
   "source": [
    "sumar.plot_pie(clus_df, [\"Clusters_exp_eng\", \"exp_mean\"], \"experience score mean per cluster\")"
   ]
  },
  {
   "cell_type": "code",
   "execution_count": null,
   "id": "d6fb02fb-8063-448c-b3c6-4cd7161d703d",
   "metadata": {},
   "outputs": [],
   "source": []
  }
 ],
 "metadata": {
  "kernelspec": {
   "display_name": "Python 3 (ipykernel)",
   "language": "python",
   "name": "python3"
  },
  "language_info": {
   "codemirror_mode": {
    "name": "ipython",
    "version": 3
   },
   "file_extension": ".py",
   "mimetype": "text/x-python",
   "name": "python",
   "nbconvert_exporter": "python",
   "pygments_lexer": "ipython3",
   "version": "3.9.7"
  }
 },
 "nbformat": 4,
 "nbformat_minor": 5
}
