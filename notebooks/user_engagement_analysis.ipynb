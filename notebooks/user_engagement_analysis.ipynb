{
 "cells": [
  {
   "cell_type": "markdown",
   "id": "c1dd29ce-4a2a-4952-a8b8-0dd2f1a85d99",
   "metadata": {},
   "source": [
    "<h1> User Engagement Analysis </h2>"
   ]
  },
  {
   "cell_type": "markdown",
   "id": "f05dd3ee-92c5-46a9-b627-33c2cafaeb48",
   "metadata": {},
   "source": [
    "<h2> Imporing data and packages </h2>"
   ]
  },
  {
   "cell_type": "code",
   "execution_count": 63,
   "id": "baa2f69b-f1a5-4737-a2ce-7c55d49d8e57",
   "metadata": {},
   "outputs": [],
   "source": [
    "# importing libraries\n",
    "\n",
    "import pandas as pd\n",
    "import numpy as np\n",
    "import os\n",
    "import warnings\n",
    "from pandasql import sqldf\n",
    "import matplotlib.pyplot as plt\n",
    "import seaborn as sns\n",
    "import sys\n",
    "from sklearn.preprocessing import StandardScaler\n",
    "from sklearn.cluster import KMeans\n",
    "from mpl_toolkits.mplot3d import Axes3D"
   ]
  },
  {
   "cell_type": "code",
   "execution_count": 9,
   "id": "8b17698e-ea4e-4848-bb5b-5e6c0137782c",
   "metadata": {},
   "outputs": [],
   "source": [
    "# Suppressing Warning messages\n",
    "\n",
    "warnings.filterwarnings('ignore')"
   ]
  },
  {
   "cell_type": "code",
   "execution_count": 10,
   "id": "6b2cdb00-047b-4008-8d5e-35723414d882",
   "metadata": {},
   "outputs": [],
   "source": [
    "# setting folder and file paths\n",
    "\n",
    "parent_dir = os.path.abspath(os.path.join(os.getcwd(), os.pardir)) \n",
    "scripts_dir = os.path.join(parent_dir,\"scripts\") \n",
    "data_path = os.path.join(parent_dir,\"data\",\"teleco_user-aggr_data.csv\")\n",
    "sys.path.insert(1, scripts_dir)"
   ]
  },
  {
   "cell_type": "code",
   "execution_count": 11,
   "id": "0e878b00-237e-4cb5-9ab9-f79361e6dbda",
   "metadata": {},
   "outputs": [],
   "source": [
    "# Importing data sumarizing function\n",
    "\n",
    "from data_summarizing_functions import DataSummarizer as Sumar\n",
    "sumar = Sumar()"
   ]
  },
  {
   "cell_type": "code",
   "execution_count": 12,
   "id": "95c4b391-f753-4bb5-a174-c4664ee4b464",
   "metadata": {},
   "outputs": [],
   "source": [
    "# Importing data\n",
    "\n",
    "user_df= pd.read_csv(data_path)"
   ]
  },
  {
   "cell_type": "markdown",
   "id": "51f13f81-646c-45d9-b0a0-670ea2264d84",
   "metadata": {},
   "source": [
    "<h2> Users Exploration"
   ]
  },
  {
   "cell_type": "markdown",
   "id": "10da40d9-2773-4465-b4d1-de8136417c43",
   "metadata": {},
   "source": [
    "<h3> Top 10 Users"
   ]
  },
  {
   "cell_type": "code",
   "execution_count": 13,
   "id": "70a1bc8e-781f-420e-ac6b-ef6835c1b432",
   "metadata": {},
   "outputs": [
    {
     "name": "stdout",
     "output_type": "stream",
     "text": [
      "\n",
      "Top 10 customers based onxDr_session_count\n",
      "\n",
      "       MSISDN/Number  xDr_session_count\n",
      "13526   3.362632e+10                 18\n",
      "13180   3.362578e+10                 17\n",
      "6437    3.361489e+10                 17\n",
      "37052   3.365973e+10                 16\n",
      "76363   3.367588e+10                 15\n",
      "92923   3.376054e+10                 15\n",
      "65118   3.366716e+10                 13\n",
      "92577   3.376041e+10                 12\n",
      "1279    3.360452e+10                 12\n",
      "666     3.360313e+10                 12\n",
      "\n",
      "Top 10 customers based onsession_dur\n",
      "\n",
      "        MSISDN/Number  session_dur\n",
      "37052    3.365973e+10     1905.478\n",
      "13526    3.362632e+10     1785.419\n",
      "35436    3.365936e+10     1747.994\n",
      "76363    3.367588e+10     1745.131\n",
      "6437     3.361489e+10     1678.397\n",
      "92923    3.376054e+10     1651.084\n",
      "13180    3.362578e+10     1599.052\n",
      "57241    3.366471e+10     1492.604\n",
      "106137   3.378632e+10     1427.807\n",
      "1648     3.360658e+10     1322.251\n",
      "\n",
      "Top 10 customers based ontotal_vol\n",
      "\n",
      "       MSISDN/Number    total_vol\n",
      "6437    3.361489e+10  8846.226494\n",
      "92923   3.376054e+10  8514.773963\n",
      "13180   3.362578e+10  8499.620722\n",
      "13526   3.362632e+10  7971.167261\n",
      "76363   3.367588e+10  7891.110608\n",
      "37052   3.365973e+10  7705.862783\n",
      "63028   3.366646e+10  7308.500938\n",
      "92577   3.376041e+10  7132.370514\n",
      "57241   3.366471e+10  6872.018208\n",
      "86455   3.369879e+10  6540.899126\n"
     ]
    }
   ],
   "source": [
    "# Showing the top 10 users in each of the following features\n",
    "\n",
    "selected_features = [\"xDr_session_count\", \"session_dur\", \"total_vol\"]\n",
    "sumar.show_N_per_col(user_df, \"MSISDN/Number\", selected_features , 10)"
   ]
  },
  {
   "cell_type": "markdown",
   "id": "fd7a2a89-d102-4052-aef3-a256aa6325b1",
   "metadata": {},
   "source": [
    "<h3> Creating Clusters"
   ]
  },
  {
   "cell_type": "code",
   "execution_count": 15,
   "id": "1208d13c-857d-4250-af6e-6aa6ce3634ef",
   "metadata": {},
   "outputs": [],
   "source": [
    "# Creating a new dataframe with selected features\n",
    "\n",
    "selected_metrics1 = user_df[selected_features]"
   ]
  },
  {
   "cell_type": "code",
   "execution_count": 16,
   "id": "5eae9a10-3532-4336-88cf-3a088e67ade5",
   "metadata": {},
   "outputs": [],
   "source": [
    "# Turning the dataframe into numpy array\n",
    "temp_arr = selected_metrics1.loc[:, selected_features].values\n",
    "\n",
    "# normalizing the features\n",
    "temp_arr = StandardScaler().fit_transform(temp_arr) "
   ]
  },
  {
   "cell_type": "code",
   "execution_count": 17,
   "id": "6692ac1b-68ad-4bc3-867b-24e7a9eacf9a",
   "metadata": {},
   "outputs": [
    {
     "data": {
      "text/plain": [
       "(-1.5799295689207888e-16, 0.9999999999999998, (106856, 3))"
      ]
     },
     "execution_count": 17,
     "metadata": {},
     "output_type": "execute_result"
    }
   ],
   "source": [
    "# Checking if normalization worked\n",
    "\n",
    "np.mean(temp_arr), np.std(temp_arr), temp_arr.shape"
   ]
  },
  {
   "cell_type": "code",
   "execution_count": 20,
   "id": "53ac7f91-3ca2-4497-934f-eace55064433",
   "metadata": {},
   "outputs": [
    {
     "data": {
      "text/html": [
       "<div>\n",
       "<style scoped>\n",
       "    .dataframe tbody tr th:only-of-type {\n",
       "        vertical-align: middle;\n",
       "    }\n",
       "\n",
       "    .dataframe tbody tr th {\n",
       "        vertical-align: top;\n",
       "    }\n",
       "\n",
       "    .dataframe thead th {\n",
       "        text-align: right;\n",
       "    }\n",
       "</style>\n",
       "<table border=\"1\" class=\"dataframe\">\n",
       "  <thead>\n",
       "    <tr style=\"text-align: right;\">\n",
       "      <th></th>\n",
       "      <th>xDr_session_count</th>\n",
       "      <th>session_dur</th>\n",
       "      <th>total_vol</th>\n",
       "    </tr>\n",
       "  </thead>\n",
       "  <tbody>\n",
       "    <tr>\n",
       "      <th>0</th>\n",
       "      <td>-0.481290</td>\n",
       "      <td>-0.116344</td>\n",
       "      <td>0.382392</td>\n",
       "    </tr>\n",
       "    <tr>\n",
       "      <th>1</th>\n",
       "      <td>-0.481290</td>\n",
       "      <td>0.519809</td>\n",
       "      <td>-1.087633</td>\n",
       "    </tr>\n",
       "    <tr>\n",
       "      <th>2</th>\n",
       "      <td>-0.481290</td>\n",
       "      <td>0.063615</td>\n",
       "      <td>-0.193382</td>\n",
       "    </tr>\n",
       "    <tr>\n",
       "      <th>3</th>\n",
       "      <td>-0.481290</td>\n",
       "      <td>-0.775493</td>\n",
       "      <td>-0.547016</td>\n",
       "    </tr>\n",
       "    <tr>\n",
       "      <th>4</th>\n",
       "      <td>0.753493</td>\n",
       "      <td>-0.901461</td>\n",
       "      <td>1.560970</td>\n",
       "    </tr>\n",
       "  </tbody>\n",
       "</table>\n",
       "</div>"
      ],
      "text/plain": [
       "   xDr_session_count  session_dur  total_vol\n",
       "0          -0.481290    -0.116344   0.382392\n",
       "1          -0.481290     0.519809  -1.087633\n",
       "2          -0.481290     0.063615  -0.193382\n",
       "3          -0.481290    -0.775493  -0.547016\n",
       "4           0.753493    -0.901461   1.560970"
      ]
     },
     "execution_count": 20,
     "metadata": {},
     "output_type": "execute_result"
    }
   ],
   "source": [
    "# Converting the normalized array into a dataframe.\n",
    "\n",
    "normalised_df = pd.DataFrame(temp_arr,columns=selected_features)\n",
    "normalised_df.head()"
   ]
  },
  {
   "cell_type": "code",
   "execution_count": 22,
   "id": "58d05af8-89d9-4afd-b22a-04104d40b5cd",
   "metadata": {},
   "outputs": [
    {
     "data": {
      "text/plain": [
       "KMeans(n_clusters=3)"
      ]
     },
     "execution_count": 22,
     "metadata": {},
     "output_type": "execute_result"
    }
   ],
   "source": [
    "# Creating Clusters\n",
    "\n",
    "kmeans1 = KMeans(3)\n",
    "kmeans1.fit(temp_arr)"
   ]
  },
  {
   "cell_type": "code",
   "execution_count": 23,
   "id": "b827e883-edda-40f5-bcdc-e879f313f407",
   "metadata": {},
   "outputs": [
    {
     "data": {
      "text/plain": [
       "array([1, 1, 1, ..., 1, 1, 1])"
      ]
     },
     "execution_count": 23,
     "metadata": {},
     "output_type": "execute_result"
    }
   ],
   "source": [
    "# Generating cluster value for each row of the dataframe\n",
    "\n",
    "identified_clusters = kmeans1.fit_predict(temp_arr)\n",
    "identified_clusters"
   ]
  },
  {
   "cell_type": "code",
   "execution_count": 25,
   "id": "61bc1c7d-8947-4b92-9ef9-ba1e740ced94",
   "metadata": {},
   "outputs": [
    {
     "data": {
      "text/html": [
       "<div>\n",
       "<style scoped>\n",
       "    .dataframe tbody tr th:only-of-type {\n",
       "        vertical-align: middle;\n",
       "    }\n",
       "\n",
       "    .dataframe tbody tr th {\n",
       "        vertical-align: top;\n",
       "    }\n",
       "\n",
       "    .dataframe thead th {\n",
       "        text-align: right;\n",
       "    }\n",
       "</style>\n",
       "<table border=\"1\" class=\"dataframe\">\n",
       "  <thead>\n",
       "    <tr style=\"text-align: right;\">\n",
       "      <th></th>\n",
       "      <th>variables</th>\n",
       "      <th>missing_count</th>\n",
       "      <th>missing_percent_(%)</th>\n",
       "      <th>data_type</th>\n",
       "      <th>unique_values</th>\n",
       "    </tr>\n",
       "  </thead>\n",
       "  <tbody>\n",
       "    <tr>\n",
       "      <th>0</th>\n",
       "      <td>MSISDN/Number</td>\n",
       "      <td>0</td>\n",
       "      <td>0.0</td>\n",
       "      <td>float64</td>\n",
       "      <td>106856</td>\n",
       "    </tr>\n",
       "    <tr>\n",
       "      <th>1</th>\n",
       "      <td>xDr_session_count</td>\n",
       "      <td>0</td>\n",
       "      <td>0.0</td>\n",
       "      <td>int64</td>\n",
       "      <td>18</td>\n",
       "    </tr>\n",
       "    <tr>\n",
       "      <th>2</th>\n",
       "      <td>session_dur</td>\n",
       "      <td>0</td>\n",
       "      <td>0.0</td>\n",
       "      <td>float64</td>\n",
       "      <td>74492</td>\n",
       "    </tr>\n",
       "    <tr>\n",
       "      <th>3</th>\n",
       "      <td>Handset</td>\n",
       "      <td>0</td>\n",
       "      <td>0.0</td>\n",
       "      <td>object</td>\n",
       "      <td>1394</td>\n",
       "    </tr>\n",
       "    <tr>\n",
       "      <th>4</th>\n",
       "      <td>Total_DL</td>\n",
       "      <td>0</td>\n",
       "      <td>0.0</td>\n",
       "      <td>float64</td>\n",
       "      <td>106851</td>\n",
       "    </tr>\n",
       "    <tr>\n",
       "      <th>5</th>\n",
       "      <td>Total_UL</td>\n",
       "      <td>0</td>\n",
       "      <td>0.0</td>\n",
       "      <td>float64</td>\n",
       "      <td>106715</td>\n",
       "    </tr>\n",
       "    <tr>\n",
       "      <th>6</th>\n",
       "      <td>total_vol</td>\n",
       "      <td>0</td>\n",
       "      <td>0.0</td>\n",
       "      <td>float64</td>\n",
       "      <td>106853</td>\n",
       "    </tr>\n",
       "    <tr>\n",
       "      <th>7</th>\n",
       "      <td>RTT total</td>\n",
       "      <td>0</td>\n",
       "      <td>0.0</td>\n",
       "      <td>float64</td>\n",
       "      <td>787</td>\n",
       "    </tr>\n",
       "    <tr>\n",
       "      <th>8</th>\n",
       "      <td>TP total</td>\n",
       "      <td>0</td>\n",
       "      <td>0.0</td>\n",
       "      <td>float64</td>\n",
       "      <td>28856</td>\n",
       "    </tr>\n",
       "    <tr>\n",
       "      <th>9</th>\n",
       "      <td>TCP total</td>\n",
       "      <td>0</td>\n",
       "      <td>0.0</td>\n",
       "      <td>float64</td>\n",
       "      <td>29986</td>\n",
       "    </tr>\n",
       "    <tr>\n",
       "      <th>10</th>\n",
       "      <td>youtube</td>\n",
       "      <td>0</td>\n",
       "      <td>0.0</td>\n",
       "      <td>float64</td>\n",
       "      <td>106745</td>\n",
       "    </tr>\n",
       "    <tr>\n",
       "      <th>11</th>\n",
       "      <td>netflix</td>\n",
       "      <td>0</td>\n",
       "      <td>0.0</td>\n",
       "      <td>float64</td>\n",
       "      <td>106742</td>\n",
       "    </tr>\n",
       "    <tr>\n",
       "      <th>12</th>\n",
       "      <td>google</td>\n",
       "      <td>0</td>\n",
       "      <td>0.0</td>\n",
       "      <td>float64</td>\n",
       "      <td>106582</td>\n",
       "    </tr>\n",
       "    <tr>\n",
       "      <th>13</th>\n",
       "      <td>gaming</td>\n",
       "      <td>0</td>\n",
       "      <td>0.0</td>\n",
       "      <td>float64</td>\n",
       "      <td>106853</td>\n",
       "    </tr>\n",
       "    <tr>\n",
       "      <th>14</th>\n",
       "      <td>email</td>\n",
       "      <td>0</td>\n",
       "      <td>0.0</td>\n",
       "      <td>float64</td>\n",
       "      <td>105946</td>\n",
       "    </tr>\n",
       "    <tr>\n",
       "      <th>15</th>\n",
       "      <td>social</td>\n",
       "      <td>0</td>\n",
       "      <td>0.0</td>\n",
       "      <td>float64</td>\n",
       "      <td>105922</td>\n",
       "    </tr>\n",
       "    <tr>\n",
       "      <th>16</th>\n",
       "      <td>other</td>\n",
       "      <td>0</td>\n",
       "      <td>0.0</td>\n",
       "      <td>float64</td>\n",
       "      <td>106852</td>\n",
       "    </tr>\n",
       "    <tr>\n",
       "      <th>17</th>\n",
       "      <td>Decile</td>\n",
       "      <td>0</td>\n",
       "      <td>0.0</td>\n",
       "      <td>int64</td>\n",
       "      <td>10</td>\n",
       "    </tr>\n",
       "    <tr>\n",
       "      <th>18</th>\n",
       "      <td>Clusters</td>\n",
       "      <td>0</td>\n",
       "      <td>0.0</td>\n",
       "      <td>int32</td>\n",
       "      <td>3</td>\n",
       "    </tr>\n",
       "  </tbody>\n",
       "</table>\n",
       "</div>"
      ],
      "text/plain": [
       "            variables  missing_count  missing_percent_(%) data_type  \\\n",
       "0       MSISDN/Number              0                  0.0   float64   \n",
       "1   xDr_session_count              0                  0.0     int64   \n",
       "2         session_dur              0                  0.0   float64   \n",
       "3             Handset              0                  0.0    object   \n",
       "4            Total_DL              0                  0.0   float64   \n",
       "5            Total_UL              0                  0.0   float64   \n",
       "6           total_vol              0                  0.0   float64   \n",
       "7           RTT total              0                  0.0   float64   \n",
       "8            TP total              0                  0.0   float64   \n",
       "9           TCP total              0                  0.0   float64   \n",
       "10            youtube              0                  0.0   float64   \n",
       "11            netflix              0                  0.0   float64   \n",
       "12             google              0                  0.0   float64   \n",
       "13             gaming              0                  0.0   float64   \n",
       "14              email              0                  0.0   float64   \n",
       "15             social              0                  0.0   float64   \n",
       "16              other              0                  0.0   float64   \n",
       "17             Decile              0                  0.0     int64   \n",
       "18           Clusters              0                  0.0     int32   \n",
       "\n",
       "    unique_values  \n",
       "0          106856  \n",
       "1              18  \n",
       "2           74492  \n",
       "3            1394  \n",
       "4          106851  \n",
       "5          106715  \n",
       "6          106853  \n",
       "7             787  \n",
       "8           28856  \n",
       "9           29986  \n",
       "10         106745  \n",
       "11         106742  \n",
       "12         106582  \n",
       "13         106853  \n",
       "14         105946  \n",
       "15         105922  \n",
       "16         106852  \n",
       "17             10  \n",
       "18              3  "
      ]
     },
     "execution_count": 25,
     "metadata": {},
     "output_type": "execute_result"
    }
   ],
   "source": [
    "# Attaching the generated cluster values to the dataframe as a column\n",
    "\n",
    "data_with_clusters = user_df.copy()\n",
    "data_with_clusters['Clusters'] = identified_clusters \n",
    "sumar.summ_columns(data_with_clusters)"
   ]
  },
  {
   "cell_type": "code",
   "execution_count": 31,
   "id": "49a27124-3ca0-40b5-920d-6a330f835e35",
   "metadata": {},
   "outputs": [],
   "source": [
    "clus_min_df = sumar.find_agg(data_with_clusters, \"Clusters\", [\"xDr_session_count\", \"session_dur\", \"total_vol\"], [\"min\", \"min\", \"min\"], [\"xDr_min\", \"dur_min\", \"total_vol_min\"])\n",
    "clus_max_df = sumar.find_agg(data_with_clusters, \"Clusters\", [\"xDr_session_count\", \"session_dur\", \"total_vol\"], [\"max\", \"max\", \"max\"], [\"xDr_max\", \"dur_max\", \"total_vol_max\"])\n",
    "clus_count_df = sumar.find_agg(data_with_clusters, \"Clusters\", [\"xDr_session_count\"], [\"count\"], [\"Users_count\"])\n",
    "clus_mean_df = sumar.find_agg(data_with_clusters, \"Clusters\", [\"xDr_session_count\", \"session_dur\", \"total_vol\"], [\"mean\", \"mean\", \"mean\"], [\"xDr_mean\", \"dur_mean\", \"total_vol_mean\"])\n"
   ]
  },
  {
   "cell_type": "code",
   "execution_count": 36,
   "id": "a419716c-3834-43fe-8923-dfd49cf9885e",
   "metadata": {},
   "outputs": [
    {
     "data": {
      "text/html": [
       "<div>\n",
       "<style scoped>\n",
       "    .dataframe tbody tr th:only-of-type {\n",
       "        vertical-align: middle;\n",
       "    }\n",
       "\n",
       "    .dataframe tbody tr th {\n",
       "        vertical-align: top;\n",
       "    }\n",
       "\n",
       "    .dataframe thead th {\n",
       "        text-align: right;\n",
       "    }\n",
       "</style>\n",
       "<table border=\"1\" class=\"dataframe\">\n",
       "  <thead>\n",
       "    <tr style=\"text-align: right;\">\n",
       "      <th></th>\n",
       "      <th>Clusters</th>\n",
       "      <th>xDr_min</th>\n",
       "      <th>dur_min</th>\n",
       "      <th>total_vol_min</th>\n",
       "    </tr>\n",
       "  </thead>\n",
       "  <tbody>\n",
       "    <tr>\n",
       "      <th>0</th>\n",
       "      <td>0</td>\n",
       "      <td>1</td>\n",
       "      <td>18.235</td>\n",
       "      <td>166.910132</td>\n",
       "    </tr>\n",
       "    <tr>\n",
       "      <th>1</th>\n",
       "      <td>1</td>\n",
       "      <td>0</td>\n",
       "      <td>7.142</td>\n",
       "      <td>33.249009</td>\n",
       "    </tr>\n",
       "    <tr>\n",
       "      <th>2</th>\n",
       "      <td>2</td>\n",
       "      <td>3</td>\n",
       "      <td>85.554</td>\n",
       "      <td>661.851764</td>\n",
       "    </tr>\n",
       "  </tbody>\n",
       "</table>\n",
       "</div>"
      ],
      "text/plain": [
       "   Clusters  xDr_min  dur_min  total_vol_min\n",
       "0         0        1   18.235     166.910132\n",
       "1         1        0    7.142      33.249009\n",
       "2         2        3   85.554     661.851764"
      ]
     },
     "execution_count": 36,
     "metadata": {},
     "output_type": "execute_result"
    }
   ],
   "source": [
    "# minimum values for each of the selected features per cluster\n",
    "\n",
    "clus_min_df"
   ]
  },
  {
   "cell_type": "code",
   "execution_count": 43,
   "id": "1a3c6089-8e96-4a5d-9bd6-591a809c9c04",
   "metadata": {},
   "outputs": [
    {
     "data": {
      "image/png": "[encoded data removed]",
      "text/plain": [
       "<Figure size 720x504 with 1 Axes>"
      ]
     },
     "metadata": {},
     "output_type": "display_data"
    }
   ],
   "source": [
    "sumar.plot_pie(clus_min_df, [\"Clusters\", \"dur_min\"], \"the minimum durations per clusters\")"
   ]
  },
  {
   "cell_type": "code",
   "execution_count": 44,
   "id": "fae32a43-8071-4f44-b4e8-df7f83e28ce9",
   "metadata": {},
   "outputs": [
    {
     "data": {
      "image/png": "[encoded data removed]",
      "text/plain": [
       "<Figure size 720x504 with 1 Axes>"
      ]
     },
     "metadata": {},
     "output_type": "display_data"
    }
   ],
   "source": [
    "sumar.plot_pie(clus_min_df, [\"Clusters\", \"total_vol_min\"], \"the minimum total data volume per clusters\")"
   ]
  },
  {
   "cell_type": "markdown",
   "id": "c121b578-c662-4680-8785-5fcfc803e770",
   "metadata": {},
   "source": [
    "**Observations**\n",
    "<ul>\n",
    "    <li> the min value for xDr sessions is similar: 1</li>\n",
    "    <li> cluster 2 has the largest min value for session duration and total volume used </li> \n",
    "</ul>"
   ]
  },
  {
   "cell_type": "code",
   "execution_count": 45,
   "id": "76062ab9-9003-4042-ac5b-e00cfb6de855",
   "metadata": {},
   "outputs": [
    {
     "data": {
      "text/html": [
       "<div>\n",
       "<style scoped>\n",
       "    .dataframe tbody tr th:only-of-type {\n",
       "        vertical-align: middle;\n",
       "    }\n",
       "\n",
       "    .dataframe tbody tr th {\n",
       "        vertical-align: top;\n",
       "    }\n",
       "\n",
       "    .dataframe thead th {\n",
       "        text-align: right;\n",
       "    }\n",
       "</style>\n",
       "<table border=\"1\" class=\"dataframe\">\n",
       "  <thead>\n",
       "    <tr style=\"text-align: right;\">\n",
       "      <th></th>\n",
       "      <th>Clusters</th>\n",
       "      <th>xDr_max</th>\n",
       "      <th>dur_max</th>\n",
       "      <th>total_vol_max</th>\n",
       "    </tr>\n",
       "  </thead>\n",
       "  <tbody>\n",
       "    <tr>\n",
       "      <th>0</th>\n",
       "      <td>0</td>\n",
       "      <td>4</td>\n",
       "      <td>514.316</td>\n",
       "      <td>2509.056852</td>\n",
       "    </tr>\n",
       "    <tr>\n",
       "      <th>1</th>\n",
       "      <td>1</td>\n",
       "      <td>2</td>\n",
       "      <td>244.900</td>\n",
       "      <td>1541.899695</td>\n",
       "    </tr>\n",
       "    <tr>\n",
       "      <th>2</th>\n",
       "      <td>2</td>\n",
       "      <td>18</td>\n",
       "      <td>1905.478</td>\n",
       "      <td>8846.226494</td>\n",
       "    </tr>\n",
       "  </tbody>\n",
       "</table>\n",
       "</div>"
      ],
      "text/plain": [
       "   Clusters  xDr_max   dur_max  total_vol_max\n",
       "0         0        4   514.316    2509.056852\n",
       "1         1        2   244.900    1541.899695\n",
       "2         2       18  1905.478    8846.226494"
      ]
     },
     "execution_count": 45,
     "metadata": {},
     "output_type": "execute_result"
    }
   ],
   "source": [
    "# maximum values for each of the selected features per cluster\n",
    "\n",
    "clus_max_df"
   ]
  },
  {
   "cell_type": "code",
   "execution_count": 46,
   "id": "b2026857-a618-4518-9dc0-cb39304edbfd",
   "metadata": {},
   "outputs": [
    {
     "data": {
      "image/png": "[encoded data removed]",
      "text/plain": [
       "<Figure size 720x504 with 1 Axes>"
      ]
     },
     "metadata": {},
     "output_type": "display_data"
    }
   ],
   "source": [
    "sumar.plot_pie(clus_max_df, [\"Clusters\", \"total_vol_max\"], \"the maximum total data volume per clusters\")"
   ]
  },
  {
   "cell_type": "code",
   "execution_count": 47,
   "id": "e9b77db1-d30f-4687-81bb-fe8861452d6e",
   "metadata": {},
   "outputs": [
    {
     "data": {
      "image/png": "[encoded data removed]",
      "text/plain": [
       "<Figure size 720x504 with 1 Axes>"
      ]
     },
     "metadata": {},
     "output_type": "display_data"
    }
   ],
   "source": [
    "sumar.plot_pie(clus_max_df, [\"Clusters\", \"dur_max\"], \"the minimum session duration per clusters\")"
   ]
  },
  {
   "cell_type": "markdown",
   "id": "70c6d871-fedc-4f06-8d31-d2b7211b9a4b",
   "metadata": {},
   "source": [
    "**Observations**\n",
    "<ul>\n",
    "    <li> cluster 0 has larger max value for xDr session than cluster 1</li>\n",
    "    <li> cluster 2 has the largest max (88.1%) value for xDr frequency, session duration and total volume used </li> \n",
    "</ul>"
   ]
  },
  {
   "cell_type": "code",
   "execution_count": 48,
   "id": "2333e45f-74e4-48b1-9317-f688746d7fad",
   "metadata": {},
   "outputs": [
    {
     "data": {
      "text/html": [
       "<div>\n",
       "<style scoped>\n",
       "    .dataframe tbody tr th:only-of-type {\n",
       "        vertical-align: middle;\n",
       "    }\n",
       "\n",
       "    .dataframe tbody tr th {\n",
       "        vertical-align: top;\n",
       "    }\n",
       "\n",
       "    .dataframe thead th {\n",
       "        text-align: right;\n",
       "    }\n",
       "</style>\n",
       "<table border=\"1\" class=\"dataframe\">\n",
       "  <thead>\n",
       "    <tr style=\"text-align: right;\">\n",
       "      <th></th>\n",
       "      <th>Clusters</th>\n",
       "      <th>Users_count</th>\n",
       "    </tr>\n",
       "  </thead>\n",
       "  <tbody>\n",
       "    <tr>\n",
       "      <th>0</th>\n",
       "      <td>0</td>\n",
       "      <td>22470</td>\n",
       "    </tr>\n",
       "    <tr>\n",
       "      <th>1</th>\n",
       "      <td>1</td>\n",
       "      <td>79985</td>\n",
       "    </tr>\n",
       "    <tr>\n",
       "      <th>2</th>\n",
       "      <td>2</td>\n",
       "      <td>4401</td>\n",
       "    </tr>\n",
       "  </tbody>\n",
       "</table>\n",
       "</div>"
      ],
      "text/plain": [
       "   Clusters  Users_count\n",
       "0         0        22470\n",
       "1         1        79985\n",
       "2         2         4401"
      ]
     },
     "execution_count": 48,
     "metadata": {},
     "output_type": "execute_result"
    }
   ],
   "source": [
    "# Users count in each cluster.\n",
    "\n",
    "clus_count_df"
   ]
  },
  {
   "cell_type": "code",
   "execution_count": 49,
   "id": "b80e720b-a091-4e0d-a8a5-57687e9110a4",
   "metadata": {},
   "outputs": [
    {
     "data": {
      "image/png": "[encoded data removed]",
      "text/plain": [
       "<Figure size 720x504 with 1 Axes>"
      ]
     },
     "metadata": {},
     "output_type": "display_data"
    }
   ],
   "source": [
    "sumar.plot_pie(clus_count_df, [\"Clusters\", \"Users_count\"], \"the count of users per clusters\")"
   ]
  },
  {
   "cell_type": "markdown",
   "id": "42e7ba4d-0b3f-4901-9636-f06cbcc08287",
   "metadata": {},
   "source": [
    "**Observation**\n",
    "\n",
    "<li>cluster 1 has the largest number of users (74.7%)\n",
    "<li>cluster 2 has the smallest number of users (3.3%)"
   ]
  },
  {
   "cell_type": "code",
   "execution_count": 50,
   "id": "dc92f666-3305-45cc-97c8-e278916c56c9",
   "metadata": {},
   "outputs": [
    {
     "data": {
      "text/html": [
       "<div>\n",
       "<style scoped>\n",
       "    .dataframe tbody tr th:only-of-type {\n",
       "        vertical-align: middle;\n",
       "    }\n",
       "\n",
       "    .dataframe tbody tr th {\n",
       "        vertical-align: top;\n",
       "    }\n",
       "\n",
       "    .dataframe thead th {\n",
       "        text-align: right;\n",
       "    }\n",
       "</style>\n",
       "<table border=\"1\" class=\"dataframe\">\n",
       "  <thead>\n",
       "    <tr style=\"text-align: right;\">\n",
       "      <th></th>\n",
       "      <th>Clusters</th>\n",
       "      <th>xDr_mean</th>\n",
       "      <th>dur_mean</th>\n",
       "      <th>total_vol_mean</th>\n",
       "    </tr>\n",
       "  </thead>\n",
       "  <tbody>\n",
       "    <tr>\n",
       "      <th>0</th>\n",
       "      <td>0</td>\n",
       "      <td>2.141745</td>\n",
       "      <td>193.442259</td>\n",
       "      <td>1089.820548</td>\n",
       "    </tr>\n",
       "    <tr>\n",
       "      <th>1</th>\n",
       "      <td>1</td>\n",
       "      <td>1.024717</td>\n",
       "      <td>93.237874</td>\n",
       "      <td>497.906356</td>\n",
       "    </tr>\n",
       "    <tr>\n",
       "      <th>2</th>\n",
       "      <td>2</td>\n",
       "      <td>4.185185</td>\n",
       "      <td>438.228870</td>\n",
       "      <td>2162.236481</td>\n",
       "    </tr>\n",
       "  </tbody>\n",
       "</table>\n",
       "</div>"
      ],
      "text/plain": [
       "   Clusters  xDr_mean    dur_mean  total_vol_mean\n",
       "0         0  2.141745  193.442259     1089.820548\n",
       "1         1  1.024717   93.237874      497.906356\n",
       "2         2  4.185185  438.228870     2162.236481"
      ]
     },
     "execution_count": 50,
     "metadata": {},
     "output_type": "execute_result"
    }
   ],
   "source": [
    "# mean values for each of the selected features per cluster\n",
    "\n",
    "clus_mean_df"
   ]
  },
  {
   "cell_type": "code",
   "execution_count": 51,
   "id": "61a0a000-8f96-4e5f-a036-54c2c4758fae",
   "metadata": {},
   "outputs": [
    {
     "data": {
      "image/png": "[encoded data removed]",
      "text/plain": [
       "<Figure size 720x504 with 1 Axes>"
      ]
     },
     "metadata": {},
     "output_type": "display_data"
    }
   ],
   "source": [
    "sumar.plot_pie(clus_mean_df, [\"Clusters\", \"dur_mean\"], \"the session duration average per clusters\")"
   ]
  },
  {
   "cell_type": "code",
   "execution_count": 52,
   "id": "df7119c0-f94b-481b-a356-7a27b240bbbf",
   "metadata": {},
   "outputs": [
    {
     "data": {
      "image/png": "[encoded data removed]",
      "text/plain": [
       "<Figure size 720x504 with 1 Axes>"
      ]
     },
     "metadata": {},
     "output_type": "display_data"
    }
   ],
   "source": [
    "sumar.plot_pie(clus_mean_df, [\"Clusters\", \"total_vol_mean\"], \"the total data volume usage average per clusters\")"
   ]
  },
  {
   "cell_type": "markdown",
   "id": "83b9161a-0a31-4fea-9fdd-7ab3248be98c",
   "metadata": {},
   "source": [
    "**Observation**\n",
    "<li> again the mean data usage and duration of session is largest for cluster 2\n",
    "<li> cluster 1 is the least engaged cluster in terms of session duration and total data volume\n"
   ]
  },
  {
   "cell_type": "code",
   "execution_count": 55,
   "id": "3858203a-7158-4782-97bf-4442dba1ab2b",
   "metadata": {},
   "outputs": [
    {
     "data": {
      "text/plain": [
       "array([-0.45065032, -0.34786485, -0.3930085 ])"
      ]
     },
     "execution_count": 55,
     "metadata": {},
     "output_type": "execute_result"
    }
   ],
   "source": [
    "#lets get the center of the least engaged cluster\n",
    "\n",
    "least_center = kmeans1.cluster_centers_[1]\n",
    "least_center"
   ]
  },
  {
   "cell_type": "code",
   "execution_count": 57,
   "id": "b3fdad4c-dc88-43bb-8346-9e23a980e310",
   "metadata": {},
   "outputs": [],
   "source": [
    "# Calculating engagement score based on euclidean distance between \n",
    "# the least_center and the user data points within the selected features\n",
    "\n",
    "normalised_df = sumar.calcScore(normalised_df, least_center, selected_features, \"eng_score\")  "
   ]
  },
  {
   "cell_type": "code",
   "execution_count": 58,
   "id": "73213533-6fea-4f5b-aef5-41a39a2555d1",
   "metadata": {},
   "outputs": [
    {
     "data": {
      "text/html": [
       "<div>\n",
       "<style scoped>\n",
       "    .dataframe tbody tr th:only-of-type {\n",
       "        vertical-align: middle;\n",
       "    }\n",
       "\n",
       "    .dataframe tbody tr th {\n",
       "        vertical-align: top;\n",
       "    }\n",
       "\n",
       "    .dataframe thead th {\n",
       "        text-align: right;\n",
       "    }\n",
       "</style>\n",
       "<table border=\"1\" class=\"dataframe\">\n",
       "  <thead>\n",
       "    <tr style=\"text-align: right;\">\n",
       "      <th></th>\n",
       "      <th>variables</th>\n",
       "      <th>missing_count</th>\n",
       "      <th>missing_percent_(%)</th>\n",
       "      <th>data_type</th>\n",
       "      <th>unique_values</th>\n",
       "    </tr>\n",
       "  </thead>\n",
       "  <tbody>\n",
       "    <tr>\n",
       "      <th>0</th>\n",
       "      <td>MSISDN/Number</td>\n",
       "      <td>0</td>\n",
       "      <td>0.0</td>\n",
       "      <td>float64</td>\n",
       "      <td>106856</td>\n",
       "    </tr>\n",
       "    <tr>\n",
       "      <th>1</th>\n",
       "      <td>xDr_session_count</td>\n",
       "      <td>0</td>\n",
       "      <td>0.0</td>\n",
       "      <td>int64</td>\n",
       "      <td>18</td>\n",
       "    </tr>\n",
       "    <tr>\n",
       "      <th>2</th>\n",
       "      <td>session_dur</td>\n",
       "      <td>0</td>\n",
       "      <td>0.0</td>\n",
       "      <td>float64</td>\n",
       "      <td>74492</td>\n",
       "    </tr>\n",
       "    <tr>\n",
       "      <th>3</th>\n",
       "      <td>Handset</td>\n",
       "      <td>0</td>\n",
       "      <td>0.0</td>\n",
       "      <td>object</td>\n",
       "      <td>1394</td>\n",
       "    </tr>\n",
       "    <tr>\n",
       "      <th>4</th>\n",
       "      <td>Total_DL</td>\n",
       "      <td>0</td>\n",
       "      <td>0.0</td>\n",
       "      <td>float64</td>\n",
       "      <td>106851</td>\n",
       "    </tr>\n",
       "    <tr>\n",
       "      <th>5</th>\n",
       "      <td>Total_UL</td>\n",
       "      <td>0</td>\n",
       "      <td>0.0</td>\n",
       "      <td>float64</td>\n",
       "      <td>106715</td>\n",
       "    </tr>\n",
       "    <tr>\n",
       "      <th>6</th>\n",
       "      <td>total_vol</td>\n",
       "      <td>0</td>\n",
       "      <td>0.0</td>\n",
       "      <td>float64</td>\n",
       "      <td>106853</td>\n",
       "    </tr>\n",
       "    <tr>\n",
       "      <th>7</th>\n",
       "      <td>RTT total</td>\n",
       "      <td>0</td>\n",
       "      <td>0.0</td>\n",
       "      <td>float64</td>\n",
       "      <td>787</td>\n",
       "    </tr>\n",
       "    <tr>\n",
       "      <th>8</th>\n",
       "      <td>TP total</td>\n",
       "      <td>0</td>\n",
       "      <td>0.0</td>\n",
       "      <td>float64</td>\n",
       "      <td>28856</td>\n",
       "    </tr>\n",
       "    <tr>\n",
       "      <th>9</th>\n",
       "      <td>TCP total</td>\n",
       "      <td>0</td>\n",
       "      <td>0.0</td>\n",
       "      <td>float64</td>\n",
       "      <td>29986</td>\n",
       "    </tr>\n",
       "    <tr>\n",
       "      <th>10</th>\n",
       "      <td>youtube</td>\n",
       "      <td>0</td>\n",
       "      <td>0.0</td>\n",
       "      <td>float64</td>\n",
       "      <td>106745</td>\n",
       "    </tr>\n",
       "    <tr>\n",
       "      <th>11</th>\n",
       "      <td>netflix</td>\n",
       "      <td>0</td>\n",
       "      <td>0.0</td>\n",
       "      <td>float64</td>\n",
       "      <td>106742</td>\n",
       "    </tr>\n",
       "    <tr>\n",
       "      <th>12</th>\n",
       "      <td>google</td>\n",
       "      <td>0</td>\n",
       "      <td>0.0</td>\n",
       "      <td>float64</td>\n",
       "      <td>106582</td>\n",
       "    </tr>\n",
       "    <tr>\n",
       "      <th>13</th>\n",
       "      <td>gaming</td>\n",
       "      <td>0</td>\n",
       "      <td>0.0</td>\n",
       "      <td>float64</td>\n",
       "      <td>106853</td>\n",
       "    </tr>\n",
       "    <tr>\n",
       "      <th>14</th>\n",
       "      <td>email</td>\n",
       "      <td>0</td>\n",
       "      <td>0.0</td>\n",
       "      <td>float64</td>\n",
       "      <td>105946</td>\n",
       "    </tr>\n",
       "    <tr>\n",
       "      <th>15</th>\n",
       "      <td>social</td>\n",
       "      <td>0</td>\n",
       "      <td>0.0</td>\n",
       "      <td>float64</td>\n",
       "      <td>105922</td>\n",
       "    </tr>\n",
       "    <tr>\n",
       "      <th>16</th>\n",
       "      <td>other</td>\n",
       "      <td>0</td>\n",
       "      <td>0.0</td>\n",
       "      <td>float64</td>\n",
       "      <td>106852</td>\n",
       "    </tr>\n",
       "    <tr>\n",
       "      <th>17</th>\n",
       "      <td>Decile</td>\n",
       "      <td>0</td>\n",
       "      <td>0.0</td>\n",
       "      <td>int64</td>\n",
       "      <td>10</td>\n",
       "    </tr>\n",
       "    <tr>\n",
       "      <th>18</th>\n",
       "      <td>Clusters</td>\n",
       "      <td>0</td>\n",
       "      <td>0.0</td>\n",
       "      <td>int32</td>\n",
       "      <td>3</td>\n",
       "    </tr>\n",
       "    <tr>\n",
       "      <th>19</th>\n",
       "      <td>eng_score</td>\n",
       "      <td>0</td>\n",
       "      <td>0.0</td>\n",
       "      <td>float64</td>\n",
       "      <td>106856</td>\n",
       "    </tr>\n",
       "  </tbody>\n",
       "</table>\n",
       "</div>"
      ],
      "text/plain": [
       "            variables  missing_count  missing_percent_(%) data_type  \\\n",
       "0       MSISDN/Number              0                  0.0   float64   \n",
       "1   xDr_session_count              0                  0.0     int64   \n",
       "2         session_dur              0                  0.0   float64   \n",
       "3             Handset              0                  0.0    object   \n",
       "4            Total_DL              0                  0.0   float64   \n",
       "5            Total_UL              0                  0.0   float64   \n",
       "6           total_vol              0                  0.0   float64   \n",
       "7           RTT total              0                  0.0   float64   \n",
       "8            TP total              0                  0.0   float64   \n",
       "9           TCP total              0                  0.0   float64   \n",
       "10            youtube              0                  0.0   float64   \n",
       "11            netflix              0                  0.0   float64   \n",
       "12             google              0                  0.0   float64   \n",
       "13             gaming              0                  0.0   float64   \n",
       "14              email              0                  0.0   float64   \n",
       "15             social              0                  0.0   float64   \n",
       "16              other              0                  0.0   float64   \n",
       "17             Decile              0                  0.0     int64   \n",
       "18           Clusters              0                  0.0     int32   \n",
       "19          eng_score              0                  0.0   float64   \n",
       "\n",
       "    unique_values  \n",
       "0          106856  \n",
       "1              18  \n",
       "2           74492  \n",
       "3            1394  \n",
       "4          106851  \n",
       "5          106715  \n",
       "6          106853  \n",
       "7             787  \n",
       "8           28856  \n",
       "9           29986  \n",
       "10         106745  \n",
       "11         106742  \n",
       "12         106582  \n",
       "13         106853  \n",
       "14         105946  \n",
       "15         105922  \n",
       "16         106852  \n",
       "17             10  \n",
       "18              3  \n",
       "19         106856  "
      ]
     },
     "execution_count": 58,
     "metadata": {},
     "output_type": "execute_result"
    }
   ],
   "source": [
    "# adding the engagement score to the non-normalized dataframe.\n",
    "\n",
    "data_with_clusters[\"eng_score\"] = normalised_df[\"eng_score\"]\n",
    "sumar.summ_columns(data_with_clusters)"
   ]
  },
  {
   "cell_type": "code",
   "execution_count": 82,
   "id": "f12460c1-9c7c-48a8-910e-c925a2b49f50",
   "metadata": {},
   "outputs": [
    {
     "data": {
      "text/plain": [
       "(0.030758713070875753, 30.812949229628344)"
      ]
     },
     "execution_count": 82,
     "metadata": {},
     "output_type": "execute_result"
    }
   ],
   "source": [
    "# checking the min and max of the eng_score\n",
    "\n",
    "data_with_clusters[\"eng_score\"].min(), data_with_clusters[\"eng_score\"].max()"
   ]
  },
  {
   "cell_type": "code",
   "execution_count": 62,
   "id": "b60df713-3cc7-4cfb-827f-7d6f6b225dd9",
   "metadata": {},
   "outputs": [
    {
     "data": {
      "text/plain": [
       "<matplotlib.collections.PathCollection at 0x21d75087a00>"
      ]
     },
     "execution_count": 62,
     "metadata": {},
     "output_type": "execute_result"
    },
    {
     "data": {
      "image/png": "[encoded data removed]",
      "text/plain": [
       "<Figure size 432x288 with 1 Axes>"
      ]
     },
     "metadata": {
      "needs_background": "light"
     },
     "output_type": "display_data"
    }
   ],
   "source": [
    "# 2-D plotting of the distribution between total_vol and session_dur\n",
    "# filter rows of original data by clusters to plot them individually\n",
    "\n",
    "filtered_label0 = data_with_clusters.loc[data_with_clusters[\"Clusters\"] == 0] \n",
    "filtered_label1 = data_with_clusters.loc[data_with_clusters[\"Clusters\"] == 1]\n",
    "filtered_label2 = data_with_clusters.loc[data_with_clusters[\"Clusters\"] == 2]\n",
    " \n",
    "#Plotting the results\n",
    "plt.scatter(filtered_label0.loc[:,\"total_vol\"] , filtered_label0.loc[:,\"session_dur\"] , color = 'orange')\n",
    "plt.scatter(filtered_label1.loc[:,\"total_vol\"] , filtered_label1.loc[:,\"session_dur\"] , color = 'black')\n",
    "plt.scatter(filtered_label2.loc[:,\"total_vol\"] , filtered_label2.loc[:,\"session_dur\"] , color = 'blue')"
   ]
  },
  {
   "cell_type": "code",
   "execution_count": 73,
   "id": "537f8cba-d56e-4b7b-a5ee-d374b36a4765",
   "metadata": {},
   "outputs": [
    {
     "data": {
      "text/plain": [
       "<mpl_toolkits.mplot3d.art3d.Path3DCollection at 0x21d0527aa00>"
      ]
     },
     "execution_count": 73,
     "metadata": {},
     "output_type": "execute_result"
    },
    {
     "data": {
      "image/png": "[encoded data removed]",
      "text/plain": [
       "<Figure size 576x360 with 1 Axes>"
      ]
     },
     "metadata": {
      "needs_background": "light"
     },
     "output_type": "display_data"
    }
   ],
   "source": [
    "# 3-D plotting\n",
    "\n",
    "fig = plt.figure(figsize = (8,5))\n",
    "ax = fig.add_subplot(111, projection='3d')\n",
    "ax.scatter(data_with_clusters['total_vol'],data_with_clusters['session_dur'],data_with_clusters['xDr_session_count'], c =data_with_clusters['Clusters'])"
   ]
  },
  {
   "cell_type": "markdown",
   "id": "881e05db-49fb-42af-a137-595eb050c53d",
   "metadata": {},
   "source": [
    "**Observation**\n",
    "<li> the three clusters are linearly separated as shown in the plot above."
   ]
  },
  {
   "cell_type": "code",
   "execution_count": 77,
   "id": "32078aab-50cd-438c-af51-6cc29052de7e",
   "metadata": {},
   "outputs": [
    {
     "name": "stdout",
     "output_type": "stream",
     "text": [
      "\n",
      "Top 10 customers based onyoutube\n",
      "\n",
      "       MSISDN/Number     youtube\n",
      "13180   3.362578e+10  452.958769\n",
      "92923   3.376054e+10  396.289198\n",
      "6437    3.361489e+10  394.370218\n",
      "13526   3.362632e+10  374.483047\n",
      "76363   3.367588e+10  317.410572\n",
      "65118   3.366716e+10  315.231310\n",
      "13994   3.362708e+10  308.790774\n",
      "92577   3.376041e+10  303.169107\n",
      "86455   3.369879e+10  302.661958\n",
      "666     3.360313e+10  284.090139\n",
      "\n",
      "Top 10 customers based onnetflix\n",
      "\n",
      "        MSISDN/Number     netflix\n",
      "37052    3.365973e+10  399.519079\n",
      "6437     3.361489e+10  361.401046\n",
      "13180    3.362578e+10  356.980607\n",
      "92923    3.376054e+10  334.643269\n",
      "13526    3.362632e+10  328.725740\n",
      "92577    3.376041e+10  318.347546\n",
      "65118    3.366716e+10  313.939488\n",
      "76363    3.367588e+10  309.093159\n",
      "106137   3.378632e+10  305.939790\n",
      "94654    3.376127e+10  292.091341\n",
      "\n",
      "Top 10 customers based ongaming\n",
      "\n",
      "       MSISDN/Number       gaming\n",
      "6437    3.361489e+10  7749.432234\n",
      "92923   3.376054e+10  7461.045228\n",
      "13180   3.362578e+10  7326.673487\n",
      "76363   3.367588e+10  6970.567597\n",
      "13526   3.362632e+10  6887.572116\n",
      "37052   3.365973e+10  6725.559211\n",
      "63028   3.366646e+10  6646.303338\n",
      "92577   3.376041e+10  6268.619592\n",
      "57241   3.366471e+10  6103.856008\n",
      "86455   3.369879e+10  5753.743069\n",
      "\n",
      "Top 10 customers based onemail\n",
      "\n",
      "        MSISDN/Number      email\n",
      "13526    3.362632e+10  42.418782\n",
      "6437     3.361489e+10  40.788634\n",
      "13180    3.362578e+10  40.633966\n",
      "106137   3.378632e+10  36.310123\n",
      "37052    3.365973e+10  35.999792\n",
      "92923    3.376054e+10  33.693767\n",
      "76363    3.367588e+10  31.514421\n",
      "60087    3.366546e+10  30.417885\n",
      "65118    3.366716e+10  30.335796\n",
      "86455    3.369879e+10  29.059042\n",
      "\n",
      "Top 10 customers based ongoogle\n",
      "\n",
      "        MSISDN/Number      google\n",
      "13526    3.362632e+10  152.191852\n",
      "13180    3.362578e+10  142.307915\n",
      "6437     3.361489e+10  127.973787\n",
      "92923    3.376054e+10  123.223099\n",
      "37052    3.365973e+10  116.516345\n",
      "106137   3.378632e+10  110.254484\n",
      "76363    3.367588e+10  109.860502\n",
      "65118    3.366716e+10  105.032696\n",
      "94654    3.376127e+10   97.089988\n",
      "86313    3.369876e+10   91.935151\n",
      "\n",
      "Top 10 customers based onsocial\n",
      "\n",
      "        MSISDN/Number     social\n",
      "13526    3.362632e+10  43.374779\n",
      "92923    3.376054e+10  39.783189\n",
      "37052    3.365973e+10  35.412358\n",
      "6437     3.361489e+10  28.294544\n",
      "13180    3.362578e+10  27.135500\n",
      "65118    3.366716e+10  24.247850\n",
      "106137   3.378632e+10  23.974919\n",
      "70960    3.366907e+10  23.800834\n",
      "666      3.360313e+10  23.077825\n",
      "31331    3.365849e+10  23.000066\n"
     ]
    }
   ],
   "source": [
    "# Top 10 most engaged users per application\n",
    "\n",
    "sumar.show_N_per_col(data_with_clusters, \"MSISDN/Number\", [\"youtube\", \"netflix\", \"gaming\", \"email\", \"google\", \"social\"], 10)"
   ]
  },
  {
   "cell_type": "code",
   "execution_count": 78,
   "id": "561bd6f8-ced5-4e06-a823-976f553443e0",
   "metadata": {},
   "outputs": [
    {
     "data": {
      "text/plain": [
       "<AxesSubplot:>"
      ]
     },
     "execution_count": 78,
     "metadata": {},
     "output_type": "execute_result"
    },
    {
     "data": {
      "image/png": "[encoded data removed]",
      "text/plain": [
       "<Figure size 432x288 with 1 Axes>"
      ]
     },
     "metadata": {
      "needs_background": "light"
     },
     "output_type": "display_data"
    }
   ],
   "source": [
    "# Top 3 most used applications\n",
    "\n",
    "data_with_clusters[['youtube','gaming','email','netflix','social']].sum().sort_values(ascending = False).head(3).plot(kind='bar')"
   ]
  },
  {
   "cell_type": "code",
   "execution_count": 79,
   "id": "4a530a2a-facc-4e72-ba5a-5488248bb4f5",
   "metadata": {},
   "outputs": [],
   "source": [
    "# calculating the most appropriate k value\n",
    "\n",
    "Sum_of_squared_distances = []\n",
    "K = range(1,10)\n",
    "for k in K:\n",
    "    km = KMeans(n_clusters=k)\n",
    "    km = km.fit(normalised_df)\n",
    "    Sum_of_squared_distances.append(km.inertia_)"
   ]
  },
  {
   "cell_type": "code",
   "execution_count": 80,
   "id": "4e040cb1-ab6a-43bd-9bdb-d5fcfc44bdce",
   "metadata": {},
   "outputs": [
    {
     "data": {
      "image/png": "[encoded data removed]",
      "text/plain": [
       "<Figure size 432x288 with 1 Axes>"
      ]
     },
     "metadata": {
      "needs_background": "light"
     },
     "output_type": "display_data"
    }
   ],
   "source": [
    "plt.plot(K, Sum_of_squared_distances, 'bx-')\n",
    "plt.xlabel('k')\n",
    "plt.ylabel('Sum_of_squared_distances')\n",
    "plt.title('Elbow Method For Optimal k')\n",
    "plt.show()"
   ]
  },
  {
   "cell_type": "markdown",
   "id": "8fe5699f-c971-4ec0-8069-88f5b74a1ae8",
   "metadata": {},
   "source": [
    "3 is indeed the optimum k value."
   ]
  },
  {
   "cell_type": "code",
   "execution_count": null,
   "id": "918d4486-72ea-4ca3-b00a-e026f2a958f6",
   "metadata": {},
   "outputs": [],
   "source": [
    "# Saving new dataframe with engagement score.\n",
    "\n",
    "save_data_path = os.path.join(parent_dir,\"data\",\"teleco_user_engagement_data.csv\") # setting path to data directory\n",
    "data_with_clusters.to_csv(save_data_path, index=False)"
   ]
  },
  {
   "cell_type": "code",
   "execution_count": null,
   "id": "d94fd473-8529-461d-aa0b-368d87e12a83",
   "metadata": {},
   "outputs": [],
   "source": []
  }
 ],
 "metadata": {
  "kernelspec": {
   "display_name": "Python 3 (ipykernel)",
   "language": "python",
   "name": "python3"
  },
  "language_info": {
   "codemirror_mode": {
    "name": "ipython",
    "version": 3
   },
   "file_extension": ".py",
   "mimetype": "text/x-python",
   "name": "python",
   "nbconvert_exporter": "python",
   "pygments_lexer": "ipython3",
   "version": "3.9.7"
  }
 },
 "nbformat": 4,
 "nbformat_minor": 5
}
