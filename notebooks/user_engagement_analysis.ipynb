{
 "cells": [
  {
   "cell_type": "markdown",
   "id": "c1dd29ce-4a2a-4952-a8b8-0dd2f1a85d99",
   "metadata": {},
   "source": [
    "<h1> User Engagement Analysis </h2>"
   ]
  },
  {
   "cell_type": "markdown",
   "id": "f05dd3ee-92c5-46a9-b627-33c2cafaeb48",
   "metadata": {},
   "source": [
    "<h2> Imporing data and packages </h2>"
   ]
  },
  {
   "cell_type": "code",
   "execution_count": 1,
   "id": "baa2f69b-f1a5-4737-a2ce-7c55d49d8e57",
   "metadata": {},
   "outputs": [],
   "source": [
    "import pandas as pd\n",
    "import numpy as np\n",
    "import os\n",
    "import warnings\n",
    "from pandasql import sqldf\n",
    "import matplotlib.pyplot as plt\n",
    "import seaborn as sns\n",
    "import sys\n",
    "from sklearn.preprocessing import StandardScaler\n",
    "from sklearn.cluster import KMeans"
   ]
  },
  {
   "cell_type": "markdown",
   "id": "17595650-e08a-4b85-a7ae-e83b99d03620",
   "metadata": {},
   "source": [
    "Importing essential libraries"
   ]
  },
  {
   "cell_type": "code",
   "execution_count": 2,
   "id": "8b17698e-ea4e-4848-bb5b-5e6c0137782c",
   "metadata": {},
   "outputs": [],
   "source": [
    "warnings.filterwarnings('ignore')"
   ]
  },
  {
   "cell_type": "markdown",
   "id": "571d0e5a-b3a4-49f2-b675-e820e0df4443",
   "metadata": {},
   "source": [
    "Setting file paths"
   ]
  },
  {
   "cell_type": "code",
   "execution_count": 3,
   "id": "6b2cdb00-047b-4008-8d5e-35723414d882",
   "metadata": {},
   "outputs": [],
   "source": [
    "parent_dir = os.path.abspath(os.path.join(os.getcwd(), os.pardir)) # setting path to parent directory\n",
    "scripts_dir = os.path.join(parent_dir,\"scripts\") # setting path to scripts directory\n",
    "data_path = os.path.join(parent_dir,\"data\",\"teleco_aggr_data.csv\") # setting path to data directory\n",
    "data_path_2 = os.path.join(parent_dir,\"data\",\"teleco_clean_data.csv\") # setting path to data directory\n",
    "data_path_3 = os.path.join(parent_dir,\"data\",\"teleco_outlier_free_data.csv\") # setting path to data directory\n",
    "\n",
    "sys.path.insert(1, scripts_dir)"
   ]
  },
  {
   "cell_type": "markdown",
   "id": "dca63af7-2b3c-40c5-a7a3-786ff8dc939f",
   "metadata": {},
   "source": [
    "Importing data cleaning and summarizing scripts"
   ]
  },
  {
   "cell_type": "code",
   "execution_count": 4,
   "id": "0e878b00-237e-4cb5-9ab9-f79361e6dbda",
   "metadata": {},
   "outputs": [],
   "source": [
    "from data_cleaning_functions import DataCleaner as Cleaner \n",
    "from data_summarizing_functions import DataSummarizer as Sumar\n",
    "\n",
    "cleaner = Cleaner()\n",
    "sumar = Sumar()"
   ]
  },
  {
   "cell_type": "markdown",
   "id": "8ba700af-ac3b-4b3a-bcdb-eacbe16d4fc0",
   "metadata": {},
   "source": [
    "loading the dataframes"
   ]
  },
  {
   "cell_type": "code",
   "execution_count": 5,
   "id": "95c4b391-f753-4bb5-a174-c4664ee4b464",
   "metadata": {},
   "outputs": [],
   "source": [
    "aggr_df= pd.read_csv(data_path)\n",
    "df3= pd.read_csv(data_path_2)\n",
    "outlier_free_df= pd.read_csv(data_path_3)"
   ]
  },
  {
   "cell_type": "code",
   "execution_count": 6,
   "id": "cef42c5b-0145-4131-a513-ad3492864713",
   "metadata": {},
   "outputs": [
    {
     "name": "stdout",
     "output_type": "stream",
     "text": [
      "<class 'pandas.core.frame.DataFrame'>\n",
      "RangeIndex: 106857 entries, 0 to 106856\n",
      "Data columns (total 13 columns):\n",
      " #   Column             Non-Null Count   Dtype  \n",
      "---  ------             --------------   -----  \n",
      " 0   MSISDN/Number      106856 non-null  object \n",
      " 1   xDr_session_count  106857 non-null  int64  \n",
      " 2   session_dur        106857 non-null  float64\n",
      " 3   Total_DL           106857 non-null  float64\n",
      " 4   Total_UL           106857 non-null  float64\n",
      " 5   total_vol          106857 non-null  float64\n",
      " 6   youtube            106857 non-null  float64\n",
      " 7   netflix            106857 non-null  float64\n",
      " 8   google             106857 non-null  float64\n",
      " 9   gaming             106857 non-null  float64\n",
      " 10  email              106857 non-null  float64\n",
      " 11  social             106857 non-null  float64\n",
      " 12  other              106857 non-null  float64\n",
      "dtypes: float64(11), int64(1), object(1)\n",
      "memory usage: 10.6+ MB\n"
     ]
    }
   ],
   "source": [
    "aggr_df.info()"
   ]
  },
  {
   "cell_type": "code",
   "execution_count": 7,
   "id": "96af46c5-2576-49f0-a29a-5c215886fb52",
   "metadata": {},
   "outputs": [],
   "source": [
    "aggr_df.dropna(inplace=True)"
   ]
  },
  {
   "cell_type": "code",
   "execution_count": 8,
   "id": "70a1bc8e-781f-420e-ac6b-ef6835c1b432",
   "metadata": {},
   "outputs": [
    {
     "name": "stdout",
     "output_type": "stream",
     "text": [
      "\n",
      "Top 10 customers based onxDr_session_count\n",
      "\n",
      "           MSISDN/Number  xDr_session_count\n",
      "13527  33,626,320,676.00                 18\n",
      "13181  33,625,779,332.00                 17\n",
      "6438   33,614,892,860.00                 17\n",
      "37053  33,659,725,664.00                 16\n",
      "92924  33,760,536,639.00                 15\n",
      "76364  33,675,877,202.00                 15\n",
      "65119  33,667,163,239.00                 13\n",
      "667    33,603,127,838.00                 12\n",
      "1280   33,604,515,716.00                 12\n",
      "13995  33,627,080,969.00                 12\n",
      "\n",
      "Top 10 customers based onsession_dur\n",
      "\n",
      "           MSISDN/Number  session_dur\n",
      "13181  33,625,779,332.00   18553754.0\n",
      "6438   33,614,892,860.00    9966898.0\n",
      "92924  33,760,536,639.00    9279434.0\n",
      "13527  33,626,320,676.00    8791927.0\n",
      "65119  33,667,163,239.00    8744914.0\n",
      "50282  33,662,840,755.00    6614270.0\n",
      "57161  33,664,693,736.00    6288730.0\n",
      "667    33,603,127,838.00    6287761.0\n",
      "66030  33,667,456,716.00    5649882.0\n",
      "92578  33,760,413,819.00    5321667.0\n",
      "\n",
      "Top 10 customers based ontotal_vol\n",
      "\n",
      "           MSISDN/Number    total_vol\n",
      "6438   33,614,892,860.00  8846.226494\n",
      "92924  33,760,536,639.00  8514.773963\n",
      "13181  33,625,779,332.00  8499.620722\n",
      "13527  33,626,320,676.00  7971.167261\n",
      "76364  33,675,877,202.00  7891.110608\n",
      "37053  33,659,725,664.00  7705.862783\n",
      "63029  33,666,464,084.00  7308.500938\n",
      "92578  33,760,413,819.00  7132.370514\n",
      "57242  33,664,712,899.00  6872.018208\n",
      "86456  33,698,792,269.00  6540.899126\n"
     ]
    }
   ],
   "source": [
    "sumar.show_N_per_col(aggr_df, \"MSISDN/Number\", [\"xDr_session_count\", \"session_dur\", \"total_vol\"], 10)"
   ]
  },
  {
   "cell_type": "code",
   "execution_count": 9,
   "id": "1208d13c-857d-4250-af6e-6aa6ce3634ef",
   "metadata": {},
   "outputs": [],
   "source": [
    "features = [\"xDr_session_count\", \"session_dur\", \"total_vol\"]\n",
    "selected_metrics = aggr_df[features]"
   ]
  },
  {
   "cell_type": "code",
   "execution_count": 10,
   "id": "5eae9a10-3532-4336-88cf-3a088e67ade5",
   "metadata": {},
   "outputs": [],
   "source": [
    "x = selected_metrics.loc[:, features].values\n",
    "x = StandardScaler().fit_transform(x) # normalizing the features"
   ]
  },
  {
   "cell_type": "code",
   "execution_count": 11,
   "id": "6692ac1b-68ad-4bc3-867b-24e7a9eacf9a",
   "metadata": {},
   "outputs": [
    {
     "data": {
      "text/plain": [
       "(-1.4323098869761696e-16, 1.0000000000000002, (106856, 3))"
      ]
     },
     "execution_count": 11,
     "metadata": {},
     "output_type": "execute_result"
    }
   ],
   "source": [
    "np.mean(x), np.std(x), x.shape"
   ]
  },
  {
   "cell_type": "code",
   "execution_count": 12,
   "id": "53ac7f91-3ca2-4497-934f-eace55064433",
   "metadata": {},
   "outputs": [],
   "source": [
    "normalised_df = pd.DataFrame(x,columns=features)"
   ]
  },
  {
   "cell_type": "code",
   "execution_count": 13,
   "id": "58d05af8-89d9-4afd-b22a-04104d40b5cd",
   "metadata": {},
   "outputs": [
    {
     "data": {
      "text/plain": [
       "KMeans(n_clusters=3)"
      ]
     },
     "execution_count": 13,
     "metadata": {},
     "output_type": "execute_result"
    }
   ],
   "source": [
    "kmeans = KMeans(3)\n",
    "kmeans.fit(x)"
   ]
  },
  {
   "cell_type": "code",
   "execution_count": 14,
   "id": "b827e883-edda-40f5-bcdc-e879f313f407",
   "metadata": {},
   "outputs": [
    {
     "data": {
      "text/plain": [
       "array([0, 0, 0, ..., 0, 0, 0])"
      ]
     },
     "execution_count": 14,
     "metadata": {},
     "output_type": "execute_result"
    }
   ],
   "source": [
    "identified_clusters = kmeans.fit_predict(x)\n",
    "identified_clusters"
   ]
  },
  {
   "cell_type": "code",
   "execution_count": 15,
   "id": "61bc1c7d-8947-4b92-9ef9-ba1e740ced94",
   "metadata": {},
   "outputs": [
    {
     "data": {
      "text/html": [
       "<div>\n",
       "<style scoped>\n",
       "    .dataframe tbody tr th:only-of-type {\n",
       "        vertical-align: middle;\n",
       "    }\n",
       "\n",
       "    .dataframe tbody tr th {\n",
       "        vertical-align: top;\n",
       "    }\n",
       "\n",
       "    .dataframe thead th {\n",
       "        text-align: right;\n",
       "    }\n",
       "</style>\n",
       "<table border=\"1\" class=\"dataframe\">\n",
       "  <thead>\n",
       "    <tr style=\"text-align: right;\">\n",
       "      <th></th>\n",
       "      <th>variables</th>\n",
       "      <th>missing_count</th>\n",
       "      <th>missing_percent_(%)</th>\n",
       "      <th>data_type</th>\n",
       "      <th>unique_values</th>\n",
       "    </tr>\n",
       "  </thead>\n",
       "  <tbody>\n",
       "    <tr>\n",
       "      <th>0</th>\n",
       "      <td>MSISDN/Number</td>\n",
       "      <td>0</td>\n",
       "      <td>0.0</td>\n",
       "      <td>object</td>\n",
       "      <td>106856</td>\n",
       "    </tr>\n",
       "    <tr>\n",
       "      <th>1</th>\n",
       "      <td>xDr_session_count</td>\n",
       "      <td>0</td>\n",
       "      <td>0.0</td>\n",
       "      <td>int64</td>\n",
       "      <td>17</td>\n",
       "    </tr>\n",
       "    <tr>\n",
       "      <th>2</th>\n",
       "      <td>session_dur</td>\n",
       "      <td>0</td>\n",
       "      <td>0.0</td>\n",
       "      <td>float64</td>\n",
       "      <td>77538</td>\n",
       "    </tr>\n",
       "    <tr>\n",
       "      <th>3</th>\n",
       "      <td>Total_DL</td>\n",
       "      <td>0</td>\n",
       "      <td>0.0</td>\n",
       "      <td>float64</td>\n",
       "      <td>106851</td>\n",
       "    </tr>\n",
       "    <tr>\n",
       "      <th>4</th>\n",
       "      <td>Total_UL</td>\n",
       "      <td>0</td>\n",
       "      <td>0.0</td>\n",
       "      <td>float64</td>\n",
       "      <td>106779</td>\n",
       "    </tr>\n",
       "    <tr>\n",
       "      <th>5</th>\n",
       "      <td>total_vol</td>\n",
       "      <td>0</td>\n",
       "      <td>0.0</td>\n",
       "      <td>float64</td>\n",
       "      <td>106853</td>\n",
       "    </tr>\n",
       "    <tr>\n",
       "      <th>6</th>\n",
       "      <td>youtube</td>\n",
       "      <td>0</td>\n",
       "      <td>0.0</td>\n",
       "      <td>float64</td>\n",
       "      <td>106745</td>\n",
       "    </tr>\n",
       "    <tr>\n",
       "      <th>7</th>\n",
       "      <td>netflix</td>\n",
       "      <td>0</td>\n",
       "      <td>0.0</td>\n",
       "      <td>float64</td>\n",
       "      <td>106742</td>\n",
       "    </tr>\n",
       "    <tr>\n",
       "      <th>8</th>\n",
       "      <td>google</td>\n",
       "      <td>0</td>\n",
       "      <td>0.0</td>\n",
       "      <td>float64</td>\n",
       "      <td>106582</td>\n",
       "    </tr>\n",
       "    <tr>\n",
       "      <th>9</th>\n",
       "      <td>gaming</td>\n",
       "      <td>0</td>\n",
       "      <td>0.0</td>\n",
       "      <td>float64</td>\n",
       "      <td>106853</td>\n",
       "    </tr>\n",
       "    <tr>\n",
       "      <th>10</th>\n",
       "      <td>email</td>\n",
       "      <td>0</td>\n",
       "      <td>0.0</td>\n",
       "      <td>float64</td>\n",
       "      <td>105946</td>\n",
       "    </tr>\n",
       "    <tr>\n",
       "      <th>11</th>\n",
       "      <td>social</td>\n",
       "      <td>0</td>\n",
       "      <td>0.0</td>\n",
       "      <td>float64</td>\n",
       "      <td>105922</td>\n",
       "    </tr>\n",
       "    <tr>\n",
       "      <th>12</th>\n",
       "      <td>other</td>\n",
       "      <td>0</td>\n",
       "      <td>0.0</td>\n",
       "      <td>float64</td>\n",
       "      <td>106852</td>\n",
       "    </tr>\n",
       "    <tr>\n",
       "      <th>13</th>\n",
       "      <td>Clusters</td>\n",
       "      <td>0</td>\n",
       "      <td>0.0</td>\n",
       "      <td>int32</td>\n",
       "      <td>3</td>\n",
       "    </tr>\n",
       "  </tbody>\n",
       "</table>\n",
       "</div>"
      ],
      "text/plain": [
       "            variables  missing_count  missing_percent_(%) data_type  \\\n",
       "0       MSISDN/Number              0                  0.0    object   \n",
       "1   xDr_session_count              0                  0.0     int64   \n",
       "2         session_dur              0                  0.0   float64   \n",
       "3            Total_DL              0                  0.0   float64   \n",
       "4            Total_UL              0                  0.0   float64   \n",
       "5           total_vol              0                  0.0   float64   \n",
       "6             youtube              0                  0.0   float64   \n",
       "7             netflix              0                  0.0   float64   \n",
       "8              google              0                  0.0   float64   \n",
       "9              gaming              0                  0.0   float64   \n",
       "10              email              0                  0.0   float64   \n",
       "11             social              0                  0.0   float64   \n",
       "12              other              0                  0.0   float64   \n",
       "13           Clusters              0                  0.0     int32   \n",
       "\n",
       "    unique_values  \n",
       "0          106856  \n",
       "1              17  \n",
       "2           77538  \n",
       "3          106851  \n",
       "4          106779  \n",
       "5          106853  \n",
       "6          106745  \n",
       "7          106742  \n",
       "8          106582  \n",
       "9          106853  \n",
       "10         105946  \n",
       "11         105922  \n",
       "12         106852  \n",
       "13              3  "
      ]
     },
     "execution_count": 15,
     "metadata": {},
     "output_type": "execute_result"
    }
   ],
   "source": [
    "data_with_clusters = aggr_df.copy()\n",
    "data_with_clusters['Clusters'] = identified_clusters \n",
    "sumar.summ_columns(data_with_clusters)"
   ]
  },
  {
   "cell_type": "code",
   "execution_count": 16,
   "id": "49a27124-3ca0-40b5-920d-6a330f835e35",
   "metadata": {},
   "outputs": [],
   "source": [
    "clus_min_df = sumar.find_agg(data_with_clusters, \"Clusters\", [\"xDr_session_count\", \"session_dur\", \"total_vol\"], [\"min\", \"min\", \"min\"], [\"xDr_min\", \"dur_min\", \"total_vol_min\"])\n",
    "clus_max_df = sumar.find_agg(data_with_clusters, \"Clusters\", [\"xDr_session_count\", \"session_dur\", \"total_vol\"], [\"max\", \"max\", \"max\"], [\"xDr_max\", \"dur_max\", \"total_vol_max\"])\n",
    "clus_count_df = sumar.find_agg(data_with_clusters, \"Clusters\", [\"xDr_session_count\", \"session_dur\", \"total_vol\"], [\"count\", \"count\", \"count\"], [\"xDr_count\", \"dur_count\", \"total_vol_count\"])\n",
    "clus_mean_df = sumar.find_agg(data_with_clusters, \"Clusters\", [\"xDr_session_count\", \"session_dur\", \"total_vol\"], [\"mean\", \"mean\", \"mean\"], [\"xDr_mean\", \"dur_mean\", \"total_vol_mean\"])\n"
   ]
  },
  {
   "cell_type": "code",
   "execution_count": 17,
   "id": "a419716c-3834-43fe-8923-dfd49cf9885e",
   "metadata": {},
   "outputs": [
    {
     "data": {
      "text/html": [
       "<div>\n",
       "<style scoped>\n",
       "    .dataframe tbody tr th:only-of-type {\n",
       "        vertical-align: middle;\n",
       "    }\n",
       "\n",
       "    .dataframe tbody tr th {\n",
       "        vertical-align: top;\n",
       "    }\n",
       "\n",
       "    .dataframe thead th {\n",
       "        text-align: right;\n",
       "    }\n",
       "</style>\n",
       "<table border=\"1\" class=\"dataframe\">\n",
       "  <thead>\n",
       "    <tr style=\"text-align: right;\">\n",
       "      <th></th>\n",
       "      <th>Clusters</th>\n",
       "      <th>xDr_min</th>\n",
       "      <th>dur_min</th>\n",
       "      <th>total_vol_min</th>\n",
       "    </tr>\n",
       "  </thead>\n",
       "  <tbody>\n",
       "    <tr>\n",
       "      <th>0</th>\n",
       "      <td>0</td>\n",
       "      <td>1</td>\n",
       "      <td>7142.0</td>\n",
       "      <td>33.249009</td>\n",
       "    </tr>\n",
       "    <tr>\n",
       "      <th>1</th>\n",
       "      <td>1</td>\n",
       "      <td>1</td>\n",
       "      <td>66594.0</td>\n",
       "      <td>370.420998</td>\n",
       "    </tr>\n",
       "    <tr>\n",
       "      <th>2</th>\n",
       "      <td>2</td>\n",
       "      <td>1</td>\n",
       "      <td>18235.0</td>\n",
       "      <td>177.006936</td>\n",
       "    </tr>\n",
       "  </tbody>\n",
       "</table>\n",
       "</div>"
      ],
      "text/plain": [
       "   Clusters  xDr_min  dur_min  total_vol_min\n",
       "0         0        1   7142.0      33.249009\n",
       "1         1        1  66594.0     370.420998\n",
       "2         2        1  18235.0     177.006936"
      ]
     },
     "execution_count": 17,
     "metadata": {},
     "output_type": "execute_result"
    }
   ],
   "source": [
    "clus_min_df"
   ]
  },
  {
   "cell_type": "code",
   "execution_count": 18,
   "id": "1a3c6089-8e96-4a5d-9bd6-591a809c9c04",
   "metadata": {},
   "outputs": [
    {
     "data": {
      "image/png": "[encoded data removed]",
      "text/plain": [
       "<Figure size 720x504 with 1 Axes>"
      ]
     },
     "metadata": {},
     "output_type": "display_data"
    }
   ],
   "source": [
    "sumar.plot_pie(clus_min_df, [\"Clusters\", \"dur_min\"], \"the minimum durations per clusters\")"
   ]
  },
  {
   "cell_type": "code",
   "execution_count": 19,
   "id": "fae32a43-8071-4f44-b4e8-df7f83e28ce9",
   "metadata": {},
   "outputs": [
    {
     "data": {
      "image/png": "[encoded data removed]",
      "text/plain": [
       "<Figure size 720x504 with 1 Axes>"
      ]
     },
     "metadata": {},
     "output_type": "display_data"
    }
   ],
   "source": [
    "sumar.plot_pie(clus_min_df, [\"Clusters\", \"total_vol_min\"], \"the minimum total data volume per clusters\")"
   ]
  },
  {
   "cell_type": "markdown",
   "id": "c121b578-c662-4680-8785-5fcfc803e770",
   "metadata": {},
   "source": [
    "**Observations**\n",
    "<ul>\n",
    "    <li> the min value for xDr sessions is similar: 1</li>\n",
    "    <li> cluster 2 has the largest min value for session duration and total volume used </li> \n",
    "</ul>"
   ]
  },
  {
   "cell_type": "code",
   "execution_count": 20,
   "id": "d421a6e6-92c8-4346-920c-70fe6c247045",
   "metadata": {},
   "outputs": [
    {
     "data": {
      "text/html": [
       "<div>\n",
       "<style scoped>\n",
       "    .dataframe tbody tr th:only-of-type {\n",
       "        vertical-align: middle;\n",
       "    }\n",
       "\n",
       "    .dataframe tbody tr th {\n",
       "        vertical-align: top;\n",
       "    }\n",
       "\n",
       "    .dataframe thead th {\n",
       "        text-align: right;\n",
       "    }\n",
       "</style>\n",
       "<table border=\"1\" class=\"dataframe\">\n",
       "  <thead>\n",
       "    <tr style=\"text-align: right;\">\n",
       "      <th></th>\n",
       "      <th>Clusters</th>\n",
       "      <th>xDr_max</th>\n",
       "      <th>dur_max</th>\n",
       "      <th>total_vol_max</th>\n",
       "    </tr>\n",
       "  </thead>\n",
       "  <tbody>\n",
       "    <tr>\n",
       "      <th>0</th>\n",
       "      <td>0</td>\n",
       "      <td>2</td>\n",
       "      <td>1035261.0</td>\n",
       "      <td>950.760661</td>\n",
       "    </tr>\n",
       "    <tr>\n",
       "      <th>1</th>\n",
       "      <td>1</td>\n",
       "      <td>18</td>\n",
       "      <td>18553754.0</td>\n",
       "      <td>8846.226494</td>\n",
       "    </tr>\n",
       "    <tr>\n",
       "      <th>2</th>\n",
       "      <td>2</td>\n",
       "      <td>4</td>\n",
       "      <td>1480875.0</td>\n",
       "      <td>2512.802189</td>\n",
       "    </tr>\n",
       "  </tbody>\n",
       "</table>\n",
       "</div>"
      ],
      "text/plain": [
       "   Clusters  xDr_max     dur_max  total_vol_max\n",
       "0         0        2   1035261.0     950.760661\n",
       "1         1       18  18553754.0    8846.226494\n",
       "2         2        4   1480875.0    2512.802189"
      ]
     },
     "execution_count": 20,
     "metadata": {},
     "output_type": "execute_result"
    }
   ],
   "source": [
    "clus_max_df"
   ]
  },
  {
   "cell_type": "code",
   "execution_count": 21,
   "id": "b2026857-a618-4518-9dc0-cb39304edbfd",
   "metadata": {},
   "outputs": [
    {
     "data": {
      "image/png": "[encoded data removed]",
      "text/plain": [
       "<Figure size 720x504 with 1 Axes>"
      ]
     },
     "metadata": {},
     "output_type": "display_data"
    }
   ],
   "source": [
    "sumar.plot_pie(clus_max_df, [\"Clusters\", \"total_vol_max\"], \"the maximum total data volume per clusters\")"
   ]
  },
  {
   "cell_type": "code",
   "execution_count": 22,
   "id": "e9b77db1-d30f-4687-81bb-fe8861452d6e",
   "metadata": {},
   "outputs": [
    {
     "data": {
      "image/png": "[encoded data removed]",
      "text/plain": [
       "<Figure size 720x504 with 1 Axes>"
      ]
     },
     "metadata": {},
     "output_type": "display_data"
    }
   ],
   "source": [
    "sumar.plot_pie(clus_max_df, [\"Clusters\", \"dur_max\"], \"the minimum session duration per clusters\")"
   ]
  },
  {
   "cell_type": "markdown",
   "id": "70c6d871-fedc-4f06-8d31-d2b7211b9a4b",
   "metadata": {},
   "source": [
    "**Observations**\n",
    "<ul>\n",
    "    <li> cluster 0 has larger max value for xDr session than cluster 1</li>\n",
    "    <li> cluster 2 has the largest max (88.1%) value for xDr frequency, session duration and total volume used </li> \n",
    "</ul>"
   ]
  },
  {
   "cell_type": "code",
   "execution_count": 23,
   "id": "d1925596-085b-4c90-8736-eecafdbfe9d9",
   "metadata": {},
   "outputs": [
    {
     "data": {
      "text/html": [
       "<div>\n",
       "<style scoped>\n",
       "    .dataframe tbody tr th:only-of-type {\n",
       "        vertical-align: middle;\n",
       "    }\n",
       "\n",
       "    .dataframe tbody tr th {\n",
       "        vertical-align: top;\n",
       "    }\n",
       "\n",
       "    .dataframe thead th {\n",
       "        text-align: right;\n",
       "    }\n",
       "</style>\n",
       "<table border=\"1\" class=\"dataframe\">\n",
       "  <thead>\n",
       "    <tr style=\"text-align: right;\">\n",
       "      <th></th>\n",
       "      <th>Clusters</th>\n",
       "      <th>xDr_count</th>\n",
       "      <th>dur_count</th>\n",
       "      <th>total_vol_count</th>\n",
       "    </tr>\n",
       "  </thead>\n",
       "  <tbody>\n",
       "    <tr>\n",
       "      <th>0</th>\n",
       "      <td>0</td>\n",
       "      <td>79850</td>\n",
       "      <td>79850</td>\n",
       "      <td>79850</td>\n",
       "    </tr>\n",
       "    <tr>\n",
       "      <th>1</th>\n",
       "      <td>1</td>\n",
       "      <td>3549</td>\n",
       "      <td>3549</td>\n",
       "      <td>3549</td>\n",
       "    </tr>\n",
       "    <tr>\n",
       "      <th>2</th>\n",
       "      <td>2</td>\n",
       "      <td>23457</td>\n",
       "      <td>23457</td>\n",
       "      <td>23457</td>\n",
       "    </tr>\n",
       "  </tbody>\n",
       "</table>\n",
       "</div>"
      ],
      "text/plain": [
       "   Clusters  xDr_count  dur_count  total_vol_count\n",
       "0         0      79850      79850            79850\n",
       "1         1       3549       3549             3549\n",
       "2         2      23457      23457            23457"
      ]
     },
     "execution_count": 23,
     "metadata": {},
     "output_type": "execute_result"
    }
   ],
   "source": [
    "clus_count_df"
   ]
  },
  {
   "cell_type": "code",
   "execution_count": 24,
   "id": "b80e720b-a091-4e0d-a8a5-57687e9110a4",
   "metadata": {},
   "outputs": [
    {
     "data": {
      "image/png": "[encoded data removed]",
      "text/plain": [
       "<Figure size 720x504 with 1 Axes>"
      ]
     },
     "metadata": {},
     "output_type": "display_data"
    }
   ],
   "source": [
    "sumar.plot_pie(clus_count_df, [\"Clusters\", \"xDr_count\"], \"the count of users per clusters\")"
   ]
  },
  {
   "cell_type": "markdown",
   "id": "42e7ba4d-0b3f-4901-9636-f06cbcc08287",
   "metadata": {},
   "source": [
    "**Observation**\n",
    "\n",
    "<li>cluster 1 has the largest number of users (74.7%)\n",
    "<li>cluster 2 has the smallest number of users (3.3%)"
   ]
  },
  {
   "cell_type": "code",
   "execution_count": 25,
   "id": "c0d50ba7-97a0-4601-a065-88a9ed08a690",
   "metadata": {},
   "outputs": [
    {
     "data": {
      "text/html": [
       "<div>\n",
       "<style scoped>\n",
       "    .dataframe tbody tr th:only-of-type {\n",
       "        vertical-align: middle;\n",
       "    }\n",
       "\n",
       "    .dataframe tbody tr th {\n",
       "        vertical-align: top;\n",
       "    }\n",
       "\n",
       "    .dataframe thead th {\n",
       "        text-align: right;\n",
       "    }\n",
       "</style>\n",
       "<table border=\"1\" class=\"dataframe\">\n",
       "  <thead>\n",
       "    <tr style=\"text-align: right;\">\n",
       "      <th></th>\n",
       "      <th>Clusters</th>\n",
       "      <th>xDr_mean</th>\n",
       "      <th>dur_mean</th>\n",
       "      <th>total_vol_mean</th>\n",
       "    </tr>\n",
       "  </thead>\n",
       "  <tbody>\n",
       "    <tr>\n",
       "      <th>0</th>\n",
       "      <td>0</td>\n",
       "      <td>1.028028</td>\n",
       "      <td>103121.041127</td>\n",
       "      <td>494.951900</td>\n",
       "    </tr>\n",
       "    <tr>\n",
       "      <th>1</th>\n",
       "      <td>1</td>\n",
       "      <td>4.409411</td>\n",
       "      <td>658149.225697</td>\n",
       "      <td>2291.112228</td>\n",
       "    </tr>\n",
       "    <tr>\n",
       "      <th>2</th>\n",
       "      <td>2</td>\n",
       "      <td>2.182632</td>\n",
       "      <td>215238.560771</td>\n",
       "      <td>1116.100952</td>\n",
       "    </tr>\n",
       "  </tbody>\n",
       "</table>\n",
       "</div>"
      ],
      "text/plain": [
       "   Clusters  xDr_mean       dur_mean  total_vol_mean\n",
       "0         0  1.028028  103121.041127      494.951900\n",
       "1         1  4.409411  658149.225697     2291.112228\n",
       "2         2  2.182632  215238.560771     1116.100952"
      ]
     },
     "execution_count": 25,
     "metadata": {},
     "output_type": "execute_result"
    }
   ],
   "source": [
    "clus_mean_df"
   ]
  },
  {
   "cell_type": "code",
   "execution_count": 26,
   "id": "61a0a000-8f96-4e5f-a036-54c2c4758fae",
   "metadata": {},
   "outputs": [
    {
     "data": {
      "image/png": "[encoded data removed]",
      "text/plain": [
       "<Figure size 720x504 with 1 Axes>"
      ]
     },
     "metadata": {},
     "output_type": "display_data"
    }
   ],
   "source": [
    "sumar.plot_pie(clus_mean_df, [\"Clusters\", \"dur_mean\"], \"the session duration average per clusters\")"
   ]
  },
  {
   "cell_type": "code",
   "execution_count": 27,
   "id": "df7119c0-f94b-481b-a356-7a27b240bbbf",
   "metadata": {},
   "outputs": [
    {
     "data": {
      "image/png": "[encoded data removed]",
      "text/plain": [
       "<Figure size 720x504 with 1 Axes>"
      ]
     },
     "metadata": {},
     "output_type": "display_data"
    }
   ],
   "source": [
    "sumar.plot_pie(clus_mean_df, [\"Clusters\", \"total_vol_mean\"], \"the total data volume usage average per clusters\")"
   ]
  },
  {
   "cell_type": "markdown",
   "id": "83b9161a-0a31-4fea-9fdd-7ab3248be98c",
   "metadata": {},
   "source": [
    "**Observation**\n",
    "<li> again the mean data usage and duration of session is largest for cluster 2\n"
   ]
  },
  {
   "cell_type": "code",
   "execution_count": 30,
   "id": "32078aab-50cd-438c-af51-6cc29052de7e",
   "metadata": {},
   "outputs": [
    {
     "name": "stdout",
     "output_type": "stream",
     "text": [
      "\n",
      "Top 10 customers based onyoutube\n",
      "\n",
      "           MSISDN/Number     youtube\n",
      "13181  33,625,779,332.00  452.958769\n",
      "92924  33,760,536,639.00  396.289198\n",
      "6438   33,614,892,860.00  394.370218\n",
      "13527  33,626,320,676.00  374.483047\n",
      "76364  33,675,877,202.00  317.410572\n",
      "65119  33,667,163,239.00  315.231310\n",
      "13995  33,627,080,969.00  308.790774\n",
      "92578  33,760,413,819.00  303.169107\n",
      "86456  33,698,792,269.00  302.661958\n",
      "667    33,603,127,838.00  284.090139\n",
      "\n",
      "Top 10 customers based onnetflix\n",
      "\n",
      "            MSISDN/Number     netflix\n",
      "37053   33,659,725,664.00  399.519079\n",
      "6438    33,614,892,860.00  361.401046\n",
      "13181   33,625,779,332.00  356.980607\n",
      "92924   33,760,536,639.00  334.643269\n",
      "13527   33,626,320,676.00  328.725740\n",
      "92578   33,760,413,819.00  318.347546\n",
      "65119   33,667,163,239.00  313.939488\n",
      "76364   33,675,877,202.00  309.093159\n",
      "106138  33,786,323,068.00  305.939790\n",
      "94655   33,761,268,199.00  292.091341\n",
      "\n",
      "Top 10 customers based ongaming\n",
      "\n",
      "           MSISDN/Number       gaming\n",
      "6438   33,614,892,860.00  7749.432234\n",
      "92924  33,760,536,639.00  7461.045228\n",
      "13181  33,625,779,332.00  7326.673487\n",
      "76364  33,675,877,202.00  6970.567597\n",
      "13527  33,626,320,676.00  6887.572116\n",
      "37053  33,659,725,664.00  6725.559211\n",
      "63029  33,666,464,084.00  6646.303338\n",
      "92578  33,760,413,819.00  6268.619592\n",
      "57242  33,664,712,899.00  6103.856008\n",
      "86456  33,698,792,269.00  5753.743069\n",
      "\n",
      "Top 10 customers based onemail\n",
      "\n",
      "            MSISDN/Number      email\n",
      "13527   33,626,320,676.00  42.418782\n",
      "6438    33,614,892,860.00  40.788634\n",
      "13181   33,625,779,332.00  40.633966\n",
      "106138  33,786,323,068.00  36.310123\n",
      "37053   33,659,725,664.00  35.999792\n",
      "92924   33,760,536,639.00  33.693767\n",
      "76364   33,675,877,202.00  31.514421\n",
      "60088   33,665,460,546.00  30.417885\n",
      "65119   33,667,163,239.00  30.335796\n",
      "86456   33,698,792,269.00  29.059042\n",
      "\n",
      "Top 10 customers based ongoogle\n",
      "\n",
      "            MSISDN/Number      google\n",
      "13527   33,626,320,676.00  152.191852\n",
      "13181   33,625,779,332.00  142.307915\n",
      "6438    33,614,892,860.00  127.973787\n",
      "92924   33,760,536,639.00  123.223099\n",
      "37053   33,659,725,664.00  116.516345\n",
      "106138  33,786,323,068.00  110.254484\n",
      "76364   33,675,877,202.00  109.860502\n",
      "65119   33,667,163,239.00  105.032696\n",
      "94655   33,761,268,199.00   97.089988\n",
      "86314   33,698,756,430.00   91.935151\n",
      "\n",
      "Top 10 customers based onsocial\n",
      "\n",
      "            MSISDN/Number     social\n",
      "13527   33,626,320,676.00  43.374779\n",
      "92924   33,760,536,639.00  39.783189\n",
      "37053   33,659,725,664.00  35.412358\n",
      "6438    33,614,892,860.00  28.294544\n",
      "13181   33,625,779,332.00  27.135500\n",
      "65119   33,667,163,239.00  24.247850\n",
      "106138  33,786,323,068.00  23.974919\n",
      "70961   33,669,068,942.00  23.800834\n",
      "667     33,603,127,838.00  23.077825\n",
      "31332   33,658,490,784.00  23.000066\n"
     ]
    }
   ],
   "source": [
    "sumar.show_N_per_col(aggr_df, \"MSISDN/Number\", [\"youtube\", \"netflix\", \"gaming\", \"email\", \"google\", \"social\"], 10)"
   ]
  },
  {
   "cell_type": "code",
   "execution_count": 31,
   "id": "561bd6f8-ced5-4e06-a823-976f553443e0",
   "metadata": {},
   "outputs": [
    {
     "data": {
      "text/plain": [
       "<AxesSubplot:>"
      ]
     },
     "execution_count": 31,
     "metadata": {},
     "output_type": "execute_result"
    },
    {
     "data": {
      "image/png": "[encoded data removed]",
      "text/plain": [
       "<Figure size 432x288 with 1 Axes>"
      ]
     },
     "metadata": {
      "needs_background": "light"
     },
     "output_type": "display_data"
    }
   ],
   "source": [
    "aggr_df[['youtube','gaming','email','netflix','social']].sum().sort_values(ascending = False).head(3).plot(kind='bar')"
   ]
  },
  {
   "cell_type": "code",
   "execution_count": 32,
   "id": "4a530a2a-facc-4e72-ba5a-5488248bb4f5",
   "metadata": {},
   "outputs": [],
   "source": [
    "Sum_of_squared_distances = []\n",
    "K = range(1,10)\n",
    "for k in K:\n",
    "    km = KMeans(n_clusters=k)\n",
    "    km = km.fit(normalised_df)\n",
    "    Sum_of_squared_distances.append(km.inertia_)"
   ]
  },
  {
   "cell_type": "code",
   "execution_count": 33,
   "id": "4e040cb1-ab6a-43bd-9bdb-d5fcfc44bdce",
   "metadata": {},
   "outputs": [
    {
     "data": {
      "image/png": "[encoded data removed]",
      "text/plain": [
       "<Figure size 432x288 with 1 Axes>"
      ]
     },
     "metadata": {
      "needs_background": "light"
     },
     "output_type": "display_data"
    }
   ],
   "source": [
    "plt.plot(K, Sum_of_squared_distances, 'bx-')\n",
    "plt.xlabel('k')\n",
    "plt.ylabel('Sum_of_squared_distances')\n",
    "plt.title('Elbow Method For Optimal k')\n",
    "plt.show()"
   ]
  },
  {
   "cell_type": "markdown",
   "id": "8fe5699f-c971-4ec0-8069-88f5b74a1ae8",
   "metadata": {},
   "source": [
    "4 is the optimum k value."
   ]
  },
  {
   "cell_type": "code",
   "execution_count": 34,
   "id": "0a56935b-1a43-488f-b0c0-00af030798c0",
   "metadata": {},
   "outputs": [
    {
     "data": {
      "text/plain": [
       "KMeans(n_clusters=4)"
      ]
     },
     "execution_count": 34,
     "metadata": {},
     "output_type": "execute_result"
    }
   ],
   "source": [
    "kmeans = KMeans(4)\n",
    "kmeans.fit(x)"
   ]
  },
  {
   "cell_type": "code",
   "execution_count": 35,
   "id": "b64fcc38-54a8-417d-80b9-b7707120196d",
   "metadata": {},
   "outputs": [
    {
     "data": {
      "text/plain": [
       "array([2, 2, 2, ..., 2, 2, 2])"
      ]
     },
     "execution_count": 35,
     "metadata": {},
     "output_type": "execute_result"
    }
   ],
   "source": [
    "identified_clusters = kmeans.fit_predict(x)\n",
    "identified_clusters"
   ]
  },
  {
   "cell_type": "code",
   "execution_count": 36,
   "id": "028a74ff-3843-41f8-8685-ac317bb4b513",
   "metadata": {},
   "outputs": [
    {
     "data": {
      "text/html": [
       "<div>\n",
       "<style scoped>\n",
       "    .dataframe tbody tr th:only-of-type {\n",
       "        vertical-align: middle;\n",
       "    }\n",
       "\n",
       "    .dataframe tbody tr th {\n",
       "        vertical-align: top;\n",
       "    }\n",
       "\n",
       "    .dataframe thead th {\n",
       "        text-align: right;\n",
       "    }\n",
       "</style>\n",
       "<table border=\"1\" class=\"dataframe\">\n",
       "  <thead>\n",
       "    <tr style=\"text-align: right;\">\n",
       "      <th></th>\n",
       "      <th>variables</th>\n",
       "      <th>missing_count</th>\n",
       "      <th>missing_percent_(%)</th>\n",
       "      <th>data_type</th>\n",
       "      <th>unique_values</th>\n",
       "    </tr>\n",
       "  </thead>\n",
       "  <tbody>\n",
       "    <tr>\n",
       "      <th>0</th>\n",
       "      <td>MSISDN/Number</td>\n",
       "      <td>0</td>\n",
       "      <td>0.0</td>\n",
       "      <td>object</td>\n",
       "      <td>106856</td>\n",
       "    </tr>\n",
       "    <tr>\n",
       "      <th>1</th>\n",
       "      <td>xDr_session_count</td>\n",
       "      <td>0</td>\n",
       "      <td>0.0</td>\n",
       "      <td>int64</td>\n",
       "      <td>17</td>\n",
       "    </tr>\n",
       "    <tr>\n",
       "      <th>2</th>\n",
       "      <td>session_dur</td>\n",
       "      <td>0</td>\n",
       "      <td>0.0</td>\n",
       "      <td>float64</td>\n",
       "      <td>77538</td>\n",
       "    </tr>\n",
       "    <tr>\n",
       "      <th>3</th>\n",
       "      <td>Total_DL</td>\n",
       "      <td>0</td>\n",
       "      <td>0.0</td>\n",
       "      <td>float64</td>\n",
       "      <td>106851</td>\n",
       "    </tr>\n",
       "    <tr>\n",
       "      <th>4</th>\n",
       "      <td>Total_UL</td>\n",
       "      <td>0</td>\n",
       "      <td>0.0</td>\n",
       "      <td>float64</td>\n",
       "      <td>106779</td>\n",
       "    </tr>\n",
       "    <tr>\n",
       "      <th>5</th>\n",
       "      <td>total_vol</td>\n",
       "      <td>0</td>\n",
       "      <td>0.0</td>\n",
       "      <td>float64</td>\n",
       "      <td>106853</td>\n",
       "    </tr>\n",
       "    <tr>\n",
       "      <th>6</th>\n",
       "      <td>youtube</td>\n",
       "      <td>0</td>\n",
       "      <td>0.0</td>\n",
       "      <td>float64</td>\n",
       "      <td>106745</td>\n",
       "    </tr>\n",
       "    <tr>\n",
       "      <th>7</th>\n",
       "      <td>netflix</td>\n",
       "      <td>0</td>\n",
       "      <td>0.0</td>\n",
       "      <td>float64</td>\n",
       "      <td>106742</td>\n",
       "    </tr>\n",
       "    <tr>\n",
       "      <th>8</th>\n",
       "      <td>google</td>\n",
       "      <td>0</td>\n",
       "      <td>0.0</td>\n",
       "      <td>float64</td>\n",
       "      <td>106582</td>\n",
       "    </tr>\n",
       "    <tr>\n",
       "      <th>9</th>\n",
       "      <td>gaming</td>\n",
       "      <td>0</td>\n",
       "      <td>0.0</td>\n",
       "      <td>float64</td>\n",
       "      <td>106853</td>\n",
       "    </tr>\n",
       "    <tr>\n",
       "      <th>10</th>\n",
       "      <td>email</td>\n",
       "      <td>0</td>\n",
       "      <td>0.0</td>\n",
       "      <td>float64</td>\n",
       "      <td>105946</td>\n",
       "    </tr>\n",
       "    <tr>\n",
       "      <th>11</th>\n",
       "      <td>social</td>\n",
       "      <td>0</td>\n",
       "      <td>0.0</td>\n",
       "      <td>float64</td>\n",
       "      <td>105922</td>\n",
       "    </tr>\n",
       "    <tr>\n",
       "      <th>12</th>\n",
       "      <td>other</td>\n",
       "      <td>0</td>\n",
       "      <td>0.0</td>\n",
       "      <td>float64</td>\n",
       "      <td>106852</td>\n",
       "    </tr>\n",
       "    <tr>\n",
       "      <th>13</th>\n",
       "      <td>Clusters</td>\n",
       "      <td>0</td>\n",
       "      <td>0.0</td>\n",
       "      <td>int32</td>\n",
       "      <td>4</td>\n",
       "    </tr>\n",
       "  </tbody>\n",
       "</table>\n",
       "</div>"
      ],
      "text/plain": [
       "            variables  missing_count  missing_percent_(%) data_type  \\\n",
       "0       MSISDN/Number              0                  0.0    object   \n",
       "1   xDr_session_count              0                  0.0     int64   \n",
       "2         session_dur              0                  0.0   float64   \n",
       "3            Total_DL              0                  0.0   float64   \n",
       "4            Total_UL              0                  0.0   float64   \n",
       "5           total_vol              0                  0.0   float64   \n",
       "6             youtube              0                  0.0   float64   \n",
       "7             netflix              0                  0.0   float64   \n",
       "8              google              0                  0.0   float64   \n",
       "9              gaming              0                  0.0   float64   \n",
       "10              email              0                  0.0   float64   \n",
       "11             social              0                  0.0   float64   \n",
       "12              other              0                  0.0   float64   \n",
       "13           Clusters              0                  0.0     int32   \n",
       "\n",
       "    unique_values  \n",
       "0          106856  \n",
       "1              17  \n",
       "2           77538  \n",
       "3          106851  \n",
       "4          106779  \n",
       "5          106853  \n",
       "6          106745  \n",
       "7          106742  \n",
       "8          106582  \n",
       "9          106853  \n",
       "10         105946  \n",
       "11         105922  \n",
       "12         106852  \n",
       "13              4  "
      ]
     },
     "execution_count": 36,
     "metadata": {},
     "output_type": "execute_result"
    }
   ],
   "source": [
    "data_with_clusters_2 = aggr_df.copy()\n",
    "data_with_clusters_2['Clusters'] = identified_clusters \n",
    "sumar.summ_columns(data_with_clusters_2)"
   ]
  },
  {
   "cell_type": "code",
   "execution_count": 37,
   "id": "0b5d5531-715a-4370-8b07-e5b6a00e77fc",
   "metadata": {},
   "outputs": [],
   "source": [
    "clus_count_df_2 = sumar.find_agg(data_with_clusters_2, \"Clusters\", [\"xDr_session_count\", \"session_dur\", \"total_vol\"], [\"count\", \"count\", \"count\"], [\"xDr_count\", \"dur_count\", \"total_vol_count\"])\n",
    "clus_mean_df_2 = sumar.find_agg(data_with_clusters_2, \"Clusters\", [\"xDr_session_count\", \"session_dur\", \"total_vol\"], [\"mean\", \"mean\", \"mean\"], [\"xDr_mean\", \"dur_mean\", \"total_vol_mean\"])\n"
   ]
  },
  {
   "cell_type": "code",
   "execution_count": 38,
   "id": "cccfd68d-be2d-4cf0-b44d-66bc0d68f65e",
   "metadata": {},
   "outputs": [
    {
     "data": {
      "text/html": [
       "<div>\n",
       "<style scoped>\n",
       "    .dataframe tbody tr th:only-of-type {\n",
       "        vertical-align: middle;\n",
       "    }\n",
       "\n",
       "    .dataframe tbody tr th {\n",
       "        vertical-align: top;\n",
       "    }\n",
       "\n",
       "    .dataframe thead th {\n",
       "        text-align: right;\n",
       "    }\n",
       "</style>\n",
       "<table border=\"1\" class=\"dataframe\">\n",
       "  <thead>\n",
       "    <tr style=\"text-align: right;\">\n",
       "      <th></th>\n",
       "      <th>Clusters</th>\n",
       "      <th>xDr_count</th>\n",
       "      <th>dur_count</th>\n",
       "      <th>total_vol_count</th>\n",
       "    </tr>\n",
       "  </thead>\n",
       "  <tbody>\n",
       "    <tr>\n",
       "      <th>3</th>\n",
       "      <td>3</td>\n",
       "      <td>22717</td>\n",
       "      <td>22717</td>\n",
       "      <td>22717</td>\n",
       "    </tr>\n",
       "    <tr>\n",
       "      <th>2</th>\n",
       "      <td>2</td>\n",
       "      <td>78984</td>\n",
       "      <td>78984</td>\n",
       "      <td>78984</td>\n",
       "    </tr>\n",
       "    <tr>\n",
       "      <th>1</th>\n",
       "      <td>1</td>\n",
       "      <td>201</td>\n",
       "      <td>201</td>\n",
       "      <td>201</td>\n",
       "    </tr>\n",
       "    <tr>\n",
       "      <th>0</th>\n",
       "      <td>0</td>\n",
       "      <td>4954</td>\n",
       "      <td>4954</td>\n",
       "      <td>4954</td>\n",
       "    </tr>\n",
       "  </tbody>\n",
       "</table>\n",
       "</div>"
      ],
      "text/plain": [
       "   Clusters  xDr_count  dur_count  total_vol_count\n",
       "3         3      22717      22717            22717\n",
       "2         2      78984      78984            78984\n",
       "1         1        201        201              201\n",
       "0         0       4954       4954             4954"
      ]
     },
     "execution_count": 38,
     "metadata": {},
     "output_type": "execute_result"
    }
   ],
   "source": [
    "clus_count_df_2.sort_values(by=\"Clusters\", ascending=False)"
   ]
  },
  {
   "cell_type": "code",
   "execution_count": 39,
   "id": "279d4ff4-3087-45e2-abe5-4410109c0e4b",
   "metadata": {},
   "outputs": [
    {
     "data": {
      "text/html": [
       "<div>\n",
       "<style scoped>\n",
       "    .dataframe tbody tr th:only-of-type {\n",
       "        vertical-align: middle;\n",
       "    }\n",
       "\n",
       "    .dataframe tbody tr th {\n",
       "        vertical-align: top;\n",
       "    }\n",
       "\n",
       "    .dataframe thead th {\n",
       "        text-align: right;\n",
       "    }\n",
       "</style>\n",
       "<table border=\"1\" class=\"dataframe\">\n",
       "  <thead>\n",
       "    <tr style=\"text-align: right;\">\n",
       "      <th></th>\n",
       "      <th>Clusters</th>\n",
       "      <th>xDr_mean</th>\n",
       "      <th>dur_mean</th>\n",
       "      <th>total_vol_mean</th>\n",
       "    </tr>\n",
       "  </thead>\n",
       "  <tbody>\n",
       "    <tr>\n",
       "      <th>3</th>\n",
       "      <td>3</td>\n",
       "      <td>2.106572</td>\n",
       "      <td>2.039288e+05</td>\n",
       "      <td>1051.768947</td>\n",
       "    </tr>\n",
       "    <tr>\n",
       "      <th>2</th>\n",
       "      <td>2</td>\n",
       "      <td>1.017738</td>\n",
       "      <td>1.026273e+05</td>\n",
       "      <td>494.575030</td>\n",
       "    </tr>\n",
       "    <tr>\n",
       "      <th>1</th>\n",
       "      <td>1</td>\n",
       "      <td>7.308458</td>\n",
       "      <td>2.639988e+06</td>\n",
       "      <td>3705.322210</td>\n",
       "    </tr>\n",
       "    <tr>\n",
       "      <th>0</th>\n",
       "      <td>0</td>\n",
       "      <td>3.880904</td>\n",
       "      <td>4.742904e+05</td>\n",
       "      <td>2045.241710</td>\n",
       "    </tr>\n",
       "  </tbody>\n",
       "</table>\n",
       "</div>"
      ],
      "text/plain": [
       "   Clusters  xDr_mean      dur_mean  total_vol_mean\n",
       "3         3  2.106572  2.039288e+05     1051.768947\n",
       "2         2  1.017738  1.026273e+05      494.575030\n",
       "1         1  7.308458  2.639988e+06     3705.322210\n",
       "0         0  3.880904  4.742904e+05     2045.241710"
      ]
     },
     "execution_count": 39,
     "metadata": {},
     "output_type": "execute_result"
    }
   ],
   "source": [
    "clus_mean_df_2.sort_values(by=\"Clusters\", ascending=False)"
   ]
  },
  {
   "cell_type": "code",
   "execution_count": 40,
   "id": "5b844cbd-b6c7-4103-8a63-4f1efef99b62",
   "metadata": {},
   "outputs": [
    {
     "data": {
      "text/html": [
       "<div>\n",
       "<style scoped>\n",
       "    .dataframe tbody tr th:only-of-type {\n",
       "        vertical-align: middle;\n",
       "    }\n",
       "\n",
       "    .dataframe tbody tr th {\n",
       "        vertical-align: top;\n",
       "    }\n",
       "\n",
       "    .dataframe thead th {\n",
       "        text-align: right;\n",
       "    }\n",
       "</style>\n",
       "<table border=\"1\" class=\"dataframe\">\n",
       "  <thead>\n",
       "    <tr style=\"text-align: right;\">\n",
       "      <th></th>\n",
       "      <th>Clusters</th>\n",
       "      <th>xDr_mean</th>\n",
       "      <th>dur_mean</th>\n",
       "      <th>total_vol_mean</th>\n",
       "      <th>user-X-total</th>\n",
       "    </tr>\n",
       "  </thead>\n",
       "  <tbody>\n",
       "    <tr>\n",
       "      <th>2</th>\n",
       "      <td>2</td>\n",
       "      <td>1.017738</td>\n",
       "      <td>1.026273e+05</td>\n",
       "      <td>494.575030</td>\n",
       "      <td>3.906351e+07</td>\n",
       "    </tr>\n",
       "    <tr>\n",
       "      <th>3</th>\n",
       "      <td>3</td>\n",
       "      <td>2.106572</td>\n",
       "      <td>2.039288e+05</td>\n",
       "      <td>1051.768947</td>\n",
       "      <td>2.389304e+07</td>\n",
       "    </tr>\n",
       "    <tr>\n",
       "      <th>0</th>\n",
       "      <td>0</td>\n",
       "      <td>3.880904</td>\n",
       "      <td>4.742904e+05</td>\n",
       "      <td>2045.241710</td>\n",
       "      <td>1.013213e+07</td>\n",
       "    </tr>\n",
       "    <tr>\n",
       "      <th>1</th>\n",
       "      <td>1</td>\n",
       "      <td>7.308458</td>\n",
       "      <td>2.639988e+06</td>\n",
       "      <td>3705.322210</td>\n",
       "      <td>7.447698e+05</td>\n",
       "    </tr>\n",
       "  </tbody>\n",
       "</table>\n",
       "</div>"
      ],
      "text/plain": [
       "   Clusters  xDr_mean      dur_mean  total_vol_mean  user-X-total\n",
       "2         2  1.017738  1.026273e+05      494.575030  3.906351e+07\n",
       "3         3  2.106572  2.039288e+05     1051.768947  2.389304e+07\n",
       "0         0  3.880904  4.742904e+05     2045.241710  1.013213e+07\n",
       "1         1  7.308458  2.639988e+06     3705.322210  7.447698e+05"
      ]
     },
     "execution_count": 40,
     "metadata": {},
     "output_type": "execute_result"
    }
   ],
   "source": [
    "clus_mean_df_2[\"user-X-total\"] = clus_mean_df_2[\"total_vol_mean\"]*clus_count_df_2[\"dur_count\"]\n",
    "clus_mean_df_2.sort_values(by=\"user-X-total\", ascending=False)"
   ]
  },
  {
   "cell_type": "markdown",
   "id": "c92fd578-97a4-4f38-ac48-1a3c6a8a8d8d",
   "metadata": {},
   "source": [
    "**Observatins**\n",
    "<li>customers in cluster 3 have the largest data traffic, but they are the lowest in number\n",
    "<li>in general the largest data volume comes from cluster 0 and 2\n"
   ]
  },
  {
   "cell_type": "code",
   "execution_count": 42,
   "id": "71feceb3-dc09-4f8d-95bd-044f86e84f7b",
   "metadata": {},
   "outputs": [
    {
     "data": {
      "text/plain": [
       "<Figure size 432x288 with 0 Axes>"
      ]
     },
     "metadata": {},
     "output_type": "display_data"
    },
    {
     "data": {
      "image/png": "[encoded data removed]",
      "text/plain": [
       "<Figure size 720x720 with 1 Axes>"
      ]
     },
     "metadata": {
      "needs_background": "light"
     },
     "output_type": "display_data"
    }
   ],
   "source": [
    "plt.figure()\n",
    "plt.figure(figsize=(10,10))\n",
    "plt.scatter(data_with_clusters['total_vol']\n",
    "            , data_with_clusters['session_dur'], c =data_with_clusters['Clusters'])\n",
    "\n",
    "plt.legend([0,1,2],prop={'size': 15})\n",
    "plt.show()"
   ]
  },
  {
   "cell_type": "code",
   "execution_count": 41,
   "id": "918d4486-72ea-4ca3-b00a-e026f2a958f6",
   "metadata": {},
   "outputs": [],
   "source": [
    "save_data_path_4 = os.path.join(parent_dir,\"data\",\"teleco_data_with_cluster.csv\") # setting path to data directory\n",
    "data_with_clusters_2.to_csv(save_data_path_4, index=False)"
   ]
  },
  {
   "cell_type": "code",
   "execution_count": null,
   "id": "d94fd473-8529-461d-aa0b-368d87e12a83",
   "metadata": {},
   "outputs": [],
   "source": []
  }
 ],
 "metadata": {
  "kernelspec": {
   "display_name": "Python 3 (ipykernel)",
   "language": "python",
   "name": "python3"
  },
  "language_info": {
   "codemirror_mode": {
    "name": "ipython",
    "version": 3
   },
   "file_extension": ".py",
   "mimetype": "text/x-python",
   "name": "python",
   "nbconvert_exporter": "python",
   "pygments_lexer": "ipython3",
   "version": "3.9.7"
  }
 },
 "nbformat": 4,
 "nbformat_minor": 5
}
