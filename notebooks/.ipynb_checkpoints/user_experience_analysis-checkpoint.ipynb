{
 "cells": [
  {
   "cell_type": "markdown",
   "id": "5478f0f0-dc33-4c00-b76c-9dfbb5efba63",
   "metadata": {},
   "source": [
    "<h1> user_experience_analysis</h1>"
   ]
  },
  {
   "cell_type": "markdown",
   "id": "3d23fb71-5cd7-4871-a38e-1fc33891c638",
   "metadata": {},
   "source": [
    "<h2> Imporing data and packages </h2>"
   ]
  },
  {
   "cell_type": "code",
   "execution_count": 1,
   "id": "f8b534ea-ad10-4e79-b7d7-cb0c076ce7dd",
   "metadata": {},
   "outputs": [],
   "source": [
    "# importing essential libraries\n",
    "\n",
    "import pandas as pd\n",
    "import numpy as np\n",
    "import os\n",
    "import warnings\n",
    "from pandasql import sqldf\n",
    "import matplotlib.pyplot as plt\n",
    "import seaborn as sns\n",
    "import sys\n",
    "from sklearn.model_selection import train_test_split\n",
    "from sklearn.preprocessing import StandardScaler\n",
    "from sklearn.cluster import KMeans\n",
    "from sklearn.decomposition import PCA"
   ]
  },
  {
   "cell_type": "code",
   "execution_count": 2,
   "id": "e7053f30-2230-43d6-b9b2-27c13ac450f9",
   "metadata": {},
   "outputs": [],
   "source": [
    "# Suppressing warning messages\n",
    "\n",
    "warnings.filterwarnings('ignore')"
   ]
  },
  {
   "cell_type": "code",
   "execution_count": 3,
   "id": "4d77f19f-62af-4b07-b7c0-fd85d13034df",
   "metadata": {},
   "outputs": [],
   "source": [
    "# Setting paths to files and folders\n",
    "\n",
    "parent_dir = os.path.abspath(os.path.join(os.getcwd(), os.pardir)) # setting path to parent directory\n",
    "scripts_dir = os.path.join(parent_dir,\"scripts\") # setting path to scripts directory\n",
    "data_path = os.path.join(parent_dir,\"data\",\"teleco_user_engagement_data.csv\") \n",
    "sys.path.insert(1, scripts_dir)"
   ]
  },
  {
   "cell_type": "code",
   "execution_count": 4,
   "id": "0e878b00-237e-4cb5-9ab9-f79361e6dbda",
   "metadata": {},
   "outputs": [],
   "source": [
    "# Importing summarizing script\n",
    "\n",
    "from data_summarizing_functions import DataSummarizer as Sumar\n",
    "sumar = Sumar()"
   ]
  },
  {
   "cell_type": "code",
   "execution_count": 5,
   "id": "bb8a827e-3925-4683-9649-2b7d745fba77",
   "metadata": {},
   "outputs": [],
   "source": [
    "# Importing relevant dataframe\n",
    "\n",
    "user_df = pd.read_csv(data_path)"
   ]
  },
  {
   "cell_type": "markdown",
   "id": "150d3636-4a20-4ca1-aa46-94cba721c893",
   "metadata": {},
   "source": [
    "<h2> Exploring Users by Experience Features"
   ]
  },
  {
   "cell_type": "code",
   "execution_count": 8,
   "id": "b945fa16-a46a-4713-84e1-5760b011c591",
   "metadata": {},
   "outputs": [
    {
     "name": "stdout",
     "output_type": "stream",
     "text": [
      "\n",
      "Top 10 customers based onRTT total\n",
      "\n",
      "       MSISDN/Number  RTT total\n",
      "44748   3.366158e+10      0.000\n",
      "28878   3.365298e+10      0.000\n",
      "39066   3.366020e+10      0.002\n",
      "83396   3.369505e+10      0.004\n",
      "36039   3.365949e+10      0.005\n",
      "40873   3.366064e+10      0.005\n",
      "66098   3.366748e+10      0.005\n",
      "88903   3.369954e+10      0.005\n",
      "98541   3.376275e+10      0.005\n",
      "69662   3.366862e+10      0.006\n",
      "\n",
      "Top 10 customers based onTCP total\n",
      "\n",
      "        MSISDN/Number  TCP total\n",
      "23472    3.365013e+10   0.000097\n",
      "6359     3.361478e+10   0.000128\n",
      "96977    3.376206e+10   0.000129\n",
      "13546    3.362636e+10   0.000134\n",
      "2177     3.360783e+10   0.000143\n",
      "25863    3.365068e+10   0.000176\n",
      "102198   3.376964e+10   0.000176\n",
      "105775   3.378420e+10   0.000177\n",
      "78100    3.367937e+10   0.000179\n",
      "89395    3.369969e+10   0.000182\n"
     ]
    }
   ],
   "source": [
    "# Top 10 users with best experience based on RTT and TCP.\n",
    "# since improvement in experience means decrease in RTT and TCP, lets check the bottom 10\n",
    "# users\n",
    "\n",
    "sumar.show_N_per_col(user_df, \"MSISDN/Number\", [\"RTT total\", \"TCP total\"], 10, \"bottom\")"
   ]
  },
  {
   "cell_type": "code",
   "execution_count": 9,
   "id": "de4f9e3f-632c-4ef5-a322-3e8dbbffb2bb",
   "metadata": {},
   "outputs": [
    {
     "name": "stdout",
     "output_type": "stream",
     "text": [
      "\n",
      "Top 10 customers based onTP total\n",
      "\n",
      "       MSISDN/Number  TP total\n",
      "37470   3.365982e+10  270523.0\n",
      "69394   3.366855e+10  268462.0\n",
      "50019   3.366278e+10  264841.0\n",
      "35744   3.365943e+10  238565.0\n",
      "96970   3.376206e+10  238381.0\n",
      "45694   3.366180e+10  236750.0\n",
      "57241   3.366471e+10  236416.0\n",
      "52680   3.366345e+10  233710.0\n",
      "92577   3.376041e+10  230376.0\n",
      "32519   3.365875e+10  229787.0\n"
     ]
    }
   ],
   "source": [
    "# Bottom 10 users based on thoroughput\n",
    "\n",
    "sumar.show_N_per_col(user_df, \"MSISDN/Number\", [\"TP total\"], 10,)"
   ]
  },
  {
   "cell_type": "code",
   "execution_count": 12,
   "id": "96f09d55-f614-417b-965f-4998bd5d37d1",
   "metadata": {},
   "outputs": [
    {
     "name": "stdout",
     "output_type": "stream",
     "text": [
      "\n",
      "Top 10 customers based onRTT total\n",
      "\n",
      "       MSISDN/Number  RTT total\n",
      "76363   3.367588e+10      0.991\n",
      "94654   3.376127e+10      0.839\n",
      "37470   3.365982e+10      0.794\n",
      "37052   3.365973e+10      0.782\n",
      "60338   3.366553e+10      0.775\n",
      "92577   3.376041e+10      0.767\n",
      "92923   3.376054e+10      0.754\n",
      "6437    3.361489e+10      0.730\n",
      "1279    3.360452e+10      0.708\n",
      "13994   3.362708e+10      0.702\n",
      "\n",
      "Top 10 customers based onTCP total\n",
      "\n",
      "       MSISDN/Number  TCP total\n",
      "6437    3.361489e+10   2.537904\n",
      "88365   3.369938e+10   2.282083\n",
      "72618   3.366964e+10   1.791952\n",
      "30225   3.365826e+10   1.768576\n",
      "96947   3.376205e+10   1.687040\n",
      "61557   3.366598e+10   1.577874\n",
      "87735   3.369920e+10   1.493445\n",
      "35436   3.365936e+10   1.465658\n",
      "41431   3.366075e+10   1.463477\n",
      "8320    3.361800e+10   1.444513\n"
     ]
    }
   ],
   "source": [
    "# Showing the bottom 10 users based on RTT and TCP\n",
    "\n",
    "sumar.show_N_per_col(user_df, \"MSISDN/Number\", [\"RTT total\", \"TCP total\"], 10)"
   ]
  },
  {
   "cell_type": "code",
   "execution_count": 13,
   "id": "c957745e-ae8b-4b6a-ac2a-3360ce44fa77",
   "metadata": {},
   "outputs": [
    {
     "name": "stdout",
     "output_type": "stream",
     "text": [
      "\n",
      "Top 10 customers based onTP total\n",
      "\n",
      "        MSISDN/Number  TP total\n",
      "105174   3.378308e+10       0.0\n",
      "91064    3.375346e+10       0.0\n",
      "28037    3.365185e+10       0.0\n",
      "17447    3.363392e+10       0.0\n",
      "42800    3.366109e+10       0.0\n",
      "27424    3.365116e+10       0.0\n",
      "27067    3.365096e+10       0.0\n",
      "101605   3.376862e+10       0.0\n",
      "94744    3.376131e+10       0.0\n",
      "17283    3.363359e+10       0.0\n"
     ]
    }
   ],
   "source": [
    "# Showing the bottom 10 users based on TP\n",
    "\n",
    "sumar.show_N_per_col(user_df, \"MSISDN/Number\", [\"TP total\"], 10, \"bottom\")"
   ]
  },
  {
   "cell_type": "code",
   "execution_count": 16,
   "id": "ef3a8329-24f6-4d96-b7a8-acab379641e3",
   "metadata": {},
   "outputs": [],
   "source": [
    "# aggregating based on handset types \n",
    "\n",
    "grouping_lis = [\"Handset\"]\n",
    "aggr_lis = [\"TP total\", \"TCP total\", \"RTT total\"] \n",
    "metric_lis = [\"mean\", \"mean\", \"count\"]\n",
    "col_names = [\"mean_TP\", \"mean_TCP\", \"user_count\"]\n",
    "\n",
    "handset_aggr_df = sumar.find_agg(user_df, grouping_lis, aggr_lis, metric_lis, col_names)\n"
   ]
  },
  {
   "cell_type": "code",
   "execution_count": 17,
   "id": "42c524a3-a3be-417e-837e-4e52e20a69d9",
   "metadata": {},
   "outputs": [
    {
     "data": {
      "text/html": [
       "<div>\n",
       "<style scoped>\n",
       "    .dataframe tbody tr th:only-of-type {\n",
       "        vertical-align: middle;\n",
       "    }\n",
       "\n",
       "    .dataframe tbody tr th {\n",
       "        vertical-align: top;\n",
       "    }\n",
       "\n",
       "    .dataframe thead th {\n",
       "        text-align: right;\n",
       "    }\n",
       "</style>\n",
       "<table border=\"1\" class=\"dataframe\">\n",
       "  <thead>\n",
       "    <tr style=\"text-align: right;\">\n",
       "      <th></th>\n",
       "      <th>Handset</th>\n",
       "      <th>mean_TP</th>\n",
       "      <th>mean_TCP</th>\n",
       "      <th>user_count</th>\n",
       "    </tr>\n",
       "  </thead>\n",
       "  <tbody>\n",
       "    <tr>\n",
       "      <th>0</th>\n",
       "      <td>A-Link Telecom I. Cubot A5</td>\n",
       "      <td>23510.0</td>\n",
       "      <td>0.040345</td>\n",
       "      <td>1</td>\n",
       "    </tr>\n",
       "    <tr>\n",
       "      <th>1</th>\n",
       "      <td>A-Link Telecom I. Cubot Note Plus</td>\n",
       "      <td>6699.0</td>\n",
       "      <td>0.049515</td>\n",
       "      <td>1</td>\n",
       "    </tr>\n",
       "    <tr>\n",
       "      <th>2</th>\n",
       "      <td>A-Link Telecom I. Cubot Note S</td>\n",
       "      <td>8937.0</td>\n",
       "      <td>0.040345</td>\n",
       "      <td>1</td>\n",
       "    </tr>\n",
       "    <tr>\n",
       "      <th>3</th>\n",
       "      <td>A-Link Telecom I. Cubot Nova</td>\n",
       "      <td>610.0</td>\n",
       "      <td>0.137170</td>\n",
       "      <td>1</td>\n",
       "    </tr>\n",
       "    <tr>\n",
       "      <th>4</th>\n",
       "      <td>A-Link Telecom I. Cubot Power</td>\n",
       "      <td>402.0</td>\n",
       "      <td>0.008041</td>\n",
       "      <td>1</td>\n",
       "    </tr>\n",
       "  </tbody>\n",
       "</table>\n",
       "</div>"
      ],
      "text/plain": [
       "                             Handset  mean_TP  mean_TCP  user_count\n",
       "0         A-Link Telecom I. Cubot A5  23510.0  0.040345           1\n",
       "1  A-Link Telecom I. Cubot Note Plus   6699.0  0.049515           1\n",
       "2     A-Link Telecom I. Cubot Note S   8937.0  0.040345           1\n",
       "3       A-Link Telecom I. Cubot Nova    610.0  0.137170           1\n",
       "4      A-Link Telecom I. Cubot Power    402.0  0.008041           1"
      ]
     },
     "execution_count": 17,
     "metadata": {},
     "output_type": "execute_result"
    }
   ],
   "source": [
    "handset_aggr_df.head()"
   ]
  },
  {
   "cell_type": "code",
   "execution_count": 18,
   "id": "a2e2e597-e0f5-4027-a245-2a4c29b7a1ed",
   "metadata": {},
   "outputs": [
    {
     "name": "stdout",
     "output_type": "stream",
     "text": [
      "\n",
      "Top 10 customers based onmean_TP\n",
      "\n",
      "                                 Handset  mean_TP\n",
      "606                              Lg-H860  76392.0\n",
      "315                     Huawei B525S-65A  59667.0\n",
      "1355      Xiaomi Communica. Redmi Note 2  49381.0\n",
      "1326          Xiaomi Communica. M1803E1A  49226.0\n",
      "796                 Qingdao Hisense. S41  48805.0\n",
      "405   Huawei Nova 2I Huawei Mate 10 Lite  47661.0\n",
      "275                          Htc 2Q6E100  47493.0\n",
      "565                        Lephone U Pro  45669.0\n",
      "435                      Huawei Stf-Tl10  45257.0\n",
      "441                      Huawei Vns-Dl00  45143.0\n",
      "\n",
      "Top 10 customers based onmean_TCP\n",
      "\n",
      "                                  Handset  mean_TCP\n",
      "936          Samsung Galaxy S4 (Gt-I9515)  0.690295\n",
      "740              Nubia Technology. Nx569H  0.565497\n",
      "169            Civicom Technolo. European  0.551212\n",
      "1368              Yota Devices Yotaphone2  0.547002\n",
      "711                   Nokia 800 Nokia 800  0.534571\n",
      "120   Asustek Asus Zc521Tl Zenfone 3S Max  0.520088\n",
      "1158                 Spa Condor Elect. P4  0.511946\n",
      "578                                Lg L80  0.502425\n",
      "934          Samsung Galaxy S4 (Gt-I9500)  0.459071\n",
      "1239     Tp-Link Technolo. Tp-Link Tp701A  0.434937\n",
      "\n",
      "Top 10 customers based onuser_count\n",
      "\n",
      "                           Handset  user_count\n",
      "316               Huawei B528S-23A       10615\n",
      "53         Apple iPhone 6S (A1688)        6759\n",
      "1393                     undefined        6669\n",
      "49          Apple iPhone 6 (A1586)        6260\n",
      "59          Apple iPhone 7 (A1778)        4699\n",
      "73         Apple iPhone Se (A1723)        3754\n",
      "66          Apple iPhone 8 (A1905)        3543\n",
      "953   Samsung Galaxy S8 (Sm-G950F)        3245\n",
      "78         Apple iPhone Xr (A2105)        3072\n",
      "886    Samsung Galaxy J5 (Sm-J530)        2748\n"
     ]
    }
   ],
   "source": [
    "# showing the top 10 handset types based on user experience metrics\n",
    "\n",
    "sumar.show_N_per_col(handset_aggr_df, \"Handset\", [\"mean_TP\", \"mean_TCP\", \"user_count\"], 10)"
   ]
  },
  {
   "cell_type": "markdown",
   "id": "a80667bb-c6d4-4cc8-a736-f1a81acfd3db",
   "metadata": {},
   "source": [
    "<h2> Clustering by experience metrics"
   ]
  },
  {
   "cell_type": "code",
   "execution_count": 22,
   "id": "aee5bb39-01c9-4f31-9a54-17383d749caf",
   "metadata": {},
   "outputs": [],
   "source": [
    "# Selecting the experience metrics\n",
    "\n",
    "features = [\"RTT total\", \"TP total\", \"TCP total\"]\n",
    "selected_metrics = user_df[features]"
   ]
  },
  {
   "cell_type": "code",
   "execution_count": 27,
   "id": "2020c96b-d3a9-4b76-95bf-d6f585d80e8f",
   "metadata": {},
   "outputs": [],
   "source": [
    "# Creating normalized dataframes\n",
    "\n",
    "temp_arr = selected_metrics.loc[:, features].values\n",
    "temp_arr = StandardScaler().fit_transform(temp_arr) # normalizing the features"
   ]
  },
  {
   "cell_type": "code",
   "execution_count": 28,
   "id": "8df48d72-1818-42fa-a895-88690620d1f4",
   "metadata": {},
   "outputs": [
    {
     "data": {
      "text/plain": [
       "(-1.0417605182277928e-16, 1.0, (106856, 3))"
      ]
     },
     "execution_count": 28,
     "metadata": {},
     "output_type": "execute_result"
    }
   ],
   "source": [
    "# Checking if the mean is 0 and std is 1\n",
    "\n",
    "np.mean(temp_arr), np.std(temp_arr), temp_arr.shape"
   ]
  },
  {
   "cell_type": "code",
   "execution_count": 29,
   "id": "bbb93a74-5a49-484a-8b9b-cfd7cf47c319",
   "metadata": {},
   "outputs": [],
   "source": [
    "# Turning the temporary array of normalized values into a dataframe.\n",
    "\n",
    "normalised_df = pd.DataFrame(temp_arr,columns=features)"
   ]
  },
  {
   "cell_type": "code",
   "execution_count": 32,
   "id": "f1e6351d-be7f-4fae-a63d-7e31a48a7b97",
   "metadata": {},
   "outputs": [
    {
     "data": {
      "text/plain": [
       "KMeans(n_clusters=3)"
      ]
     },
     "execution_count": 32,
     "metadata": {},
     "output_type": "execute_result"
    }
   ],
   "source": [
    "# creating the clusters\n",
    "\n",
    "kmeans = KMeans(3)\n",
    "kmeans.fit(temp_arr)"
   ]
  },
  {
   "cell_type": "code",
   "execution_count": 33,
   "id": "dd5ec977-d090-4bb6-b6ae-c0b75e19f886",
   "metadata": {},
   "outputs": [
    {
     "data": {
      "text/plain": [
       "array([1, 1, 1, ..., 1, 1, 1])"
      ]
     },
     "execution_count": 33,
     "metadata": {},
     "output_type": "execute_result"
    }
   ],
   "source": [
    "# Generating cluster value to each row\n",
    "\n",
    "identified_clusters = kmeans.fit_predict(temp_arr)\n",
    "identified_clusters"
   ]
  },
  {
   "cell_type": "code",
   "execution_count": 35,
   "id": "fe371bf6-c42d-425f-a89e-c1e2b840ef90",
   "metadata": {},
   "outputs": [
    {
     "data": {
      "text/html": [
       "<div>\n",
       "<style scoped>\n",
       "    .dataframe tbody tr th:only-of-type {\n",
       "        vertical-align: middle;\n",
       "    }\n",
       "\n",
       "    .dataframe tbody tr th {\n",
       "        vertical-align: top;\n",
       "    }\n",
       "\n",
       "    .dataframe thead th {\n",
       "        text-align: right;\n",
       "    }\n",
       "</style>\n",
       "<table border=\"1\" class=\"dataframe\">\n",
       "  <thead>\n",
       "    <tr style=\"text-align: right;\">\n",
       "      <th></th>\n",
       "      <th>variables</th>\n",
       "      <th>missing_count</th>\n",
       "      <th>missing_percent_(%)</th>\n",
       "      <th>data_type</th>\n",
       "      <th>unique_values</th>\n",
       "    </tr>\n",
       "  </thead>\n",
       "  <tbody>\n",
       "    <tr>\n",
       "      <th>0</th>\n",
       "      <td>MSISDN/Number</td>\n",
       "      <td>0</td>\n",
       "      <td>0.0</td>\n",
       "      <td>float64</td>\n",
       "      <td>106856</td>\n",
       "    </tr>\n",
       "    <tr>\n",
       "      <th>1</th>\n",
       "      <td>xDr_session_count</td>\n",
       "      <td>0</td>\n",
       "      <td>0.0</td>\n",
       "      <td>int64</td>\n",
       "      <td>18</td>\n",
       "    </tr>\n",
       "    <tr>\n",
       "      <th>2</th>\n",
       "      <td>session_dur</td>\n",
       "      <td>0</td>\n",
       "      <td>0.0</td>\n",
       "      <td>float64</td>\n",
       "      <td>74492</td>\n",
       "    </tr>\n",
       "    <tr>\n",
       "      <th>3</th>\n",
       "      <td>Handset</td>\n",
       "      <td>0</td>\n",
       "      <td>0.0</td>\n",
       "      <td>object</td>\n",
       "      <td>1394</td>\n",
       "    </tr>\n",
       "    <tr>\n",
       "      <th>4</th>\n",
       "      <td>Total_DL</td>\n",
       "      <td>0</td>\n",
       "      <td>0.0</td>\n",
       "      <td>float64</td>\n",
       "      <td>106851</td>\n",
       "    </tr>\n",
       "    <tr>\n",
       "      <th>5</th>\n",
       "      <td>Total_UL</td>\n",
       "      <td>0</td>\n",
       "      <td>0.0</td>\n",
       "      <td>float64</td>\n",
       "      <td>106715</td>\n",
       "    </tr>\n",
       "    <tr>\n",
       "      <th>6</th>\n",
       "      <td>total_vol</td>\n",
       "      <td>0</td>\n",
       "      <td>0.0</td>\n",
       "      <td>float64</td>\n",
       "      <td>106853</td>\n",
       "    </tr>\n",
       "    <tr>\n",
       "      <th>7</th>\n",
       "      <td>RTT total</td>\n",
       "      <td>0</td>\n",
       "      <td>0.0</td>\n",
       "      <td>float64</td>\n",
       "      <td>787</td>\n",
       "    </tr>\n",
       "    <tr>\n",
       "      <th>8</th>\n",
       "      <td>TP total</td>\n",
       "      <td>0</td>\n",
       "      <td>0.0</td>\n",
       "      <td>float64</td>\n",
       "      <td>28856</td>\n",
       "    </tr>\n",
       "    <tr>\n",
       "      <th>9</th>\n",
       "      <td>TCP total</td>\n",
       "      <td>0</td>\n",
       "      <td>0.0</td>\n",
       "      <td>float64</td>\n",
       "      <td>29986</td>\n",
       "    </tr>\n",
       "    <tr>\n",
       "      <th>10</th>\n",
       "      <td>youtube</td>\n",
       "      <td>0</td>\n",
       "      <td>0.0</td>\n",
       "      <td>float64</td>\n",
       "      <td>106745</td>\n",
       "    </tr>\n",
       "    <tr>\n",
       "      <th>11</th>\n",
       "      <td>netflix</td>\n",
       "      <td>0</td>\n",
       "      <td>0.0</td>\n",
       "      <td>float64</td>\n",
       "      <td>106742</td>\n",
       "    </tr>\n",
       "    <tr>\n",
       "      <th>12</th>\n",
       "      <td>google</td>\n",
       "      <td>0</td>\n",
       "      <td>0.0</td>\n",
       "      <td>float64</td>\n",
       "      <td>106582</td>\n",
       "    </tr>\n",
       "    <tr>\n",
       "      <th>13</th>\n",
       "      <td>gaming</td>\n",
       "      <td>0</td>\n",
       "      <td>0.0</td>\n",
       "      <td>float64</td>\n",
       "      <td>106853</td>\n",
       "    </tr>\n",
       "    <tr>\n",
       "      <th>14</th>\n",
       "      <td>email</td>\n",
       "      <td>0</td>\n",
       "      <td>0.0</td>\n",
       "      <td>float64</td>\n",
       "      <td>105946</td>\n",
       "    </tr>\n",
       "    <tr>\n",
       "      <th>15</th>\n",
       "      <td>social</td>\n",
       "      <td>0</td>\n",
       "      <td>0.0</td>\n",
       "      <td>float64</td>\n",
       "      <td>105922</td>\n",
       "    </tr>\n",
       "    <tr>\n",
       "      <th>16</th>\n",
       "      <td>other</td>\n",
       "      <td>0</td>\n",
       "      <td>0.0</td>\n",
       "      <td>float64</td>\n",
       "      <td>106852</td>\n",
       "    </tr>\n",
       "    <tr>\n",
       "      <th>17</th>\n",
       "      <td>Decile</td>\n",
       "      <td>0</td>\n",
       "      <td>0.0</td>\n",
       "      <td>int64</td>\n",
       "      <td>10</td>\n",
       "    </tr>\n",
       "    <tr>\n",
       "      <th>18</th>\n",
       "      <td>Clusters</td>\n",
       "      <td>0</td>\n",
       "      <td>0.0</td>\n",
       "      <td>int64</td>\n",
       "      <td>3</td>\n",
       "    </tr>\n",
       "    <tr>\n",
       "      <th>19</th>\n",
       "      <td>eng_score</td>\n",
       "      <td>0</td>\n",
       "      <td>0.0</td>\n",
       "      <td>float64</td>\n",
       "      <td>106856</td>\n",
       "    </tr>\n",
       "    <tr>\n",
       "      <th>20</th>\n",
       "      <td>Clusters_exp</td>\n",
       "      <td>0</td>\n",
       "      <td>0.0</td>\n",
       "      <td>int32</td>\n",
       "      <td>3</td>\n",
       "    </tr>\n",
       "  </tbody>\n",
       "</table>\n",
       "</div>"
      ],
      "text/plain": [
       "            variables  missing_count  missing_percent_(%) data_type  \\\n",
       "0       MSISDN/Number              0                  0.0   float64   \n",
       "1   xDr_session_count              0                  0.0     int64   \n",
       "2         session_dur              0                  0.0   float64   \n",
       "3             Handset              0                  0.0    object   \n",
       "4            Total_DL              0                  0.0   float64   \n",
       "5            Total_UL              0                  0.0   float64   \n",
       "6           total_vol              0                  0.0   float64   \n",
       "7           RTT total              0                  0.0   float64   \n",
       "8            TP total              0                  0.0   float64   \n",
       "9           TCP total              0                  0.0   float64   \n",
       "10            youtube              0                  0.0   float64   \n",
       "11            netflix              0                  0.0   float64   \n",
       "12             google              0                  0.0   float64   \n",
       "13             gaming              0                  0.0   float64   \n",
       "14              email              0                  0.0   float64   \n",
       "15             social              0                  0.0   float64   \n",
       "16              other              0                  0.0   float64   \n",
       "17             Decile              0                  0.0     int64   \n",
       "18           Clusters              0                  0.0     int64   \n",
       "19          eng_score              0                  0.0   float64   \n",
       "20       Clusters_exp              0                  0.0     int32   \n",
       "\n",
       "    unique_values  \n",
       "0          106856  \n",
       "1              18  \n",
       "2           74492  \n",
       "3            1394  \n",
       "4          106851  \n",
       "5          106715  \n",
       "6          106853  \n",
       "7             787  \n",
       "8           28856  \n",
       "9           29986  \n",
       "10         106745  \n",
       "11         106742  \n",
       "12         106582  \n",
       "13         106853  \n",
       "14         105946  \n",
       "15         105922  \n",
       "16         106852  \n",
       "17             10  \n",
       "18              3  \n",
       "19         106856  \n",
       "20              3  "
      ]
     },
     "execution_count": 35,
     "metadata": {},
     "output_type": "execute_result"
    }
   ],
   "source": [
    "# Adding the generated array of cluster values to the dataframe as a column\n",
    "\n",
    "data_with_clusters = user_df.copy()\n",
    "data_with_clusters['Clusters_exp'] = identified_clusters \n",
    "sumar.summ_columns(data_with_clusters)"
   ]
  },
  {
   "cell_type": "code",
   "execution_count": 37,
   "id": "1ac8fc43-02ac-4d93-9495-48e1fdf87d86",
   "metadata": {},
   "outputs": [],
   "source": [
    "# aggregating by clusters\n",
    "\n",
    "lus_min_df = sumar.find_agg(data_with_clusters, \"Clusters_exp\",features, [\"min\", \"min\", \"min\"], [\"RTT\", \"TP\", \"TCP\"])\n",
    "clus_mean_df = sumar.find_agg(data_with_clusters, \"Clusters_exp\", features, [\"mean\", \"mean\", \"mean\"], [\"RTT mean\", \"TP mean\", \"TCP mean\"])\n"
   ]
  },
  {
   "cell_type": "code",
   "execution_count": 38,
   "id": "2a6370ec-7636-4261-bb5e-76e20dcf3100",
   "metadata": {},
   "outputs": [
    {
     "data": {
      "text/html": [
       "<div>\n",
       "<style scoped>\n",
       "    .dataframe tbody tr th:only-of-type {\n",
       "        vertical-align: middle;\n",
       "    }\n",
       "\n",
       "    .dataframe tbody tr th {\n",
       "        vertical-align: top;\n",
       "    }\n",
       "\n",
       "    .dataframe thead th {\n",
       "        text-align: right;\n",
       "    }\n",
       "</style>\n",
       "<table border=\"1\" class=\"dataframe\">\n",
       "  <thead>\n",
       "    <tr style=\"text-align: right;\">\n",
       "      <th></th>\n",
       "      <th>Clusters_exp</th>\n",
       "      <th>RTT</th>\n",
       "      <th>TP</th>\n",
       "      <th>TCP</th>\n",
       "    </tr>\n",
       "  </thead>\n",
       "  <tbody>\n",
       "    <tr>\n",
       "      <th>0</th>\n",
       "      <td>0</td>\n",
       "      <td>0.021</td>\n",
       "      <td>11.0</td>\n",
       "      <td>0.001617</td>\n",
       "    </tr>\n",
       "    <tr>\n",
       "      <th>1</th>\n",
       "      <td>1</td>\n",
       "      <td>0.000</td>\n",
       "      <td>0.0</td>\n",
       "      <td>0.000097</td>\n",
       "    </tr>\n",
       "    <tr>\n",
       "      <th>2</th>\n",
       "      <td>2</td>\n",
       "      <td>0.062</td>\n",
       "      <td>228.0</td>\n",
       "      <td>0.060168</td>\n",
       "    </tr>\n",
       "  </tbody>\n",
       "</table>\n",
       "</div>"
      ],
      "text/plain": [
       "   Clusters_exp    RTT     TP       TCP\n",
       "0             0  0.021   11.0  0.001617\n",
       "1             1  0.000    0.0  0.000097\n",
       "2             2  0.062  228.0  0.060168"
      ]
     },
     "execution_count": 38,
     "metadata": {},
     "output_type": "execute_result"
    }
   ],
   "source": [
    "clus_min_df"
   ]
  },
  {
   "cell_type": "code",
   "execution_count": 39,
   "id": "0f6f7723-b012-44f0-9b65-22a700c11c09",
   "metadata": {},
   "outputs": [
    {
     "data": {
      "text/html": [
       "<div>\n",
       "<style scoped>\n",
       "    .dataframe tbody tr th:only-of-type {\n",
       "        vertical-align: middle;\n",
       "    }\n",
       "\n",
       "    .dataframe tbody tr th {\n",
       "        vertical-align: top;\n",
       "    }\n",
       "\n",
       "    .dataframe thead th {\n",
       "        text-align: right;\n",
       "    }\n",
       "</style>\n",
       "<table border=\"1\" class=\"dataframe\">\n",
       "  <thead>\n",
       "    <tr style=\"text-align: right;\">\n",
       "      <th></th>\n",
       "      <th>Clusters_exp</th>\n",
       "      <th>RTT mean</th>\n",
       "      <th>TP mean</th>\n",
       "      <th>TCP mean</th>\n",
       "    </tr>\n",
       "  </thead>\n",
       "  <tbody>\n",
       "    <tr>\n",
       "      <th>0</th>\n",
       "      <td>0</td>\n",
       "      <td>0.111456</td>\n",
       "      <td>26580.817049</td>\n",
       "      <td>0.174210</td>\n",
       "    </tr>\n",
       "    <tr>\n",
       "      <th>1</th>\n",
       "      <td>1</td>\n",
       "      <td>0.054255</td>\n",
       "      <td>3563.006143</td>\n",
       "      <td>0.046010</td>\n",
       "    </tr>\n",
       "    <tr>\n",
       "      <th>2</th>\n",
       "      <td>2</td>\n",
       "      <td>0.284581</td>\n",
       "      <td>88649.958904</td>\n",
       "      <td>0.391786</td>\n",
       "    </tr>\n",
       "  </tbody>\n",
       "</table>\n",
       "</div>"
      ],
      "text/plain": [
       "   Clusters_exp  RTT mean       TP mean  TCP mean\n",
       "0             0  0.111456  26580.817049  0.174210\n",
       "1             1  0.054255   3563.006143  0.046010\n",
       "2             2  0.284581  88649.958904  0.391786"
      ]
     },
     "execution_count": 39,
     "metadata": {},
     "output_type": "execute_result"
    }
   ],
   "source": [
    "clus_mean_df"
   ]
  },
  {
   "cell_type": "code",
   "execution_count": 48,
   "id": "5d565299-b6a2-4c9f-be54-8b355898a661",
   "metadata": {},
   "outputs": [],
   "source": [
    "# lets get the center of the poorest exp cluster\n",
    "# and calculate the experience score\n",
    "\n",
    "center = kmeans.cluster_centers_[2]\n",
    "normalised_df = sumar.calcScore(normalised_df, center, features, \"exp_score\")"
   ]
  },
  {
   "cell_type": "code",
   "execution_count": 49,
   "id": "dad48812-2295-4a2c-8ff3-ed66c6c39147",
   "metadata": {},
   "outputs": [
    {
     "data": {
      "text/html": [
       "<div>\n",
       "<style scoped>\n",
       "    .dataframe tbody tr th:only-of-type {\n",
       "        vertical-align: middle;\n",
       "    }\n",
       "\n",
       "    .dataframe tbody tr th {\n",
       "        vertical-align: top;\n",
       "    }\n",
       "\n",
       "    .dataframe thead th {\n",
       "        text-align: right;\n",
       "    }\n",
       "</style>\n",
       "<table border=\"1\" class=\"dataframe\">\n",
       "  <thead>\n",
       "    <tr style=\"text-align: right;\">\n",
       "      <th></th>\n",
       "      <th>MSISDN/Number</th>\n",
       "      <th>xDr_session_count</th>\n",
       "      <th>session_dur</th>\n",
       "      <th>Handset</th>\n",
       "      <th>Total_DL</th>\n",
       "      <th>Total_UL</th>\n",
       "      <th>total_vol</th>\n",
       "      <th>RTT total</th>\n",
       "      <th>TP total</th>\n",
       "      <th>TCP total</th>\n",
       "      <th>...</th>\n",
       "      <th>google</th>\n",
       "      <th>gaming</th>\n",
       "      <th>email</th>\n",
       "      <th>social</th>\n",
       "      <th>other</th>\n",
       "      <th>Decile</th>\n",
       "      <th>Clusters</th>\n",
       "      <th>eng_score</th>\n",
       "      <th>Clusters_exp</th>\n",
       "      <th>exp_score</th>\n",
       "    </tr>\n",
       "  </thead>\n",
       "  <tbody>\n",
       "    <tr>\n",
       "      <th>0</th>\n",
       "      <td>3.360100e+10</td>\n",
       "      <td>1</td>\n",
       "      <td>116.720</td>\n",
       "      <td>Huawei P20 Lite Huawei Nova 3E</td>\n",
       "      <td>842.637466</td>\n",
       "      <td>36.053108</td>\n",
       "      <td>878.690574</td>\n",
       "      <td>0.046</td>\n",
       "      <td>76.0</td>\n",
       "      <td>0.040345</td>\n",
       "      <td>...</td>\n",
       "      <td>4.389005</td>\n",
       "      <td>812.458661</td>\n",
       "      <td>1.331362</td>\n",
       "      <td>2.232135</td>\n",
       "      <td>386.570872</td>\n",
       "      <td>5</td>\n",
       "      <td>1</td>\n",
       "      <td>0.809807</td>\n",
       "      <td>1</td>\n",
       "      <td>7.192199</td>\n",
       "    </tr>\n",
       "    <tr>\n",
       "      <th>1</th>\n",
       "      <td>3.360100e+10</td>\n",
       "      <td>1</td>\n",
       "      <td>181.230</td>\n",
       "      <td>Apple iPhone 7 (A1778)</td>\n",
       "      <td>120.755184</td>\n",
       "      <td>36.104459</td>\n",
       "      <td>156.859643</td>\n",
       "      <td>0.031</td>\n",
       "      <td>99.0</td>\n",
       "      <td>0.040345</td>\n",
       "      <td>...</td>\n",
       "      <td>5.334863</td>\n",
       "      <td>119.750078</td>\n",
       "      <td>3.307781</td>\n",
       "      <td>2.660565</td>\n",
       "      <td>281.710071</td>\n",
       "      <td>8</td>\n",
       "      <td>1</td>\n",
       "      <td>1.111890</td>\n",
       "      <td>1</td>\n",
       "      <td>7.377138</td>\n",
       "    </tr>\n",
       "    <tr>\n",
       "      <th>2</th>\n",
       "      <td>3.360100e+10</td>\n",
       "      <td>1</td>\n",
       "      <td>134.969</td>\n",
       "      <td>undefined</td>\n",
       "      <td>556.659663</td>\n",
       "      <td>39.306820</td>\n",
       "      <td>595.966483</td>\n",
       "      <td>0.050</td>\n",
       "      <td>97.0</td>\n",
       "      <td>0.040345</td>\n",
       "      <td>...</td>\n",
       "      <td>3.443126</td>\n",
       "      <td>538.827713</td>\n",
       "      <td>3.205380</td>\n",
       "      <td>3.195623</td>\n",
       "      <td>501.693672</td>\n",
       "      <td>6</td>\n",
       "      <td>1</td>\n",
       "      <td>0.458372</td>\n",
       "      <td>1</td>\n",
       "      <td>7.143185</td>\n",
       "    </tr>\n",
       "    <tr>\n",
       "      <th>3</th>\n",
       "      <td>3.360101e+10</td>\n",
       "      <td>1</td>\n",
       "      <td>49.878</td>\n",
       "      <td>Apple iPhone 5S (A1457)</td>\n",
       "      <td>401.993172</td>\n",
       "      <td>20.327526</td>\n",
       "      <td>422.320698</td>\n",
       "      <td>0.084</td>\n",
       "      <td>248.0</td>\n",
       "      <td>0.005760</td>\n",
       "      <td>...</td>\n",
       "      <td>9.678493</td>\n",
       "      <td>391.126127</td>\n",
       "      <td>2.284670</td>\n",
       "      <td>0.280294</td>\n",
       "      <td>35.279702</td>\n",
       "      <td>1</td>\n",
       "      <td>1</td>\n",
       "      <td>0.455547</td>\n",
       "      <td>1</td>\n",
       "      <td>6.919652</td>\n",
       "    </tr>\n",
       "    <tr>\n",
       "      <th>4</th>\n",
       "      <td>3.360101e+10</td>\n",
       "      <td>2</td>\n",
       "      <td>37.104</td>\n",
       "      <td>Apple iPhone Se (A1723)</td>\n",
       "      <td>1363.130417</td>\n",
       "      <td>94.280527</td>\n",
       "      <td>1457.410944</td>\n",
       "      <td>0.119</td>\n",
       "      <td>40489.0</td>\n",
       "      <td>0.080691</td>\n",
       "      <td>...</td>\n",
       "      <td>18.499616</td>\n",
       "      <td>1314.797820</td>\n",
       "      <td>3.305469</td>\n",
       "      <td>2.912542</td>\n",
       "      <td>804.804484</td>\n",
       "      <td>1</td>\n",
       "      <td>0</td>\n",
       "      <td>2.361030</td>\n",
       "      <td>0</td>\n",
       "      <td>4.969123</td>\n",
       "    </tr>\n",
       "  </tbody>\n",
       "</table>\n",
       "<p>5 rows × 22 columns</p>\n",
       "</div>"
      ],
      "text/plain": [
       "   MSISDN/Number  xDr_session_count  session_dur  \\\n",
       "0   3.360100e+10                  1      116.720   \n",
       "1   3.360100e+10                  1      181.230   \n",
       "2   3.360100e+10                  1      134.969   \n",
       "3   3.360101e+10                  1       49.878   \n",
       "4   3.360101e+10                  2       37.104   \n",
       "\n",
       "                          Handset     Total_DL   Total_UL    total_vol  \\\n",
       "0  Huawei P20 Lite Huawei Nova 3E   842.637466  36.053108   878.690574   \n",
       "1          Apple iPhone 7 (A1778)   120.755184  36.104459   156.859643   \n",
       "2                       undefined   556.659663  39.306820   595.966483   \n",
       "3         Apple iPhone 5S (A1457)   401.993172  20.327526   422.320698   \n",
       "4         Apple iPhone Se (A1723)  1363.130417  94.280527  1457.410944   \n",
       "\n",
       "   RTT total  TP total  TCP total  ...     google       gaming     email  \\\n",
       "0      0.046      76.0   0.040345  ...   4.389005   812.458661  1.331362   \n",
       "1      0.031      99.0   0.040345  ...   5.334863   119.750078  3.307781   \n",
       "2      0.050      97.0   0.040345  ...   3.443126   538.827713  3.205380   \n",
       "3      0.084     248.0   0.005760  ...   9.678493   391.126127  2.284670   \n",
       "4      0.119   40489.0   0.080691  ...  18.499616  1314.797820  3.305469   \n",
       "\n",
       "     social       other  Decile  Clusters  eng_score  Clusters_exp  exp_score  \n",
       "0  2.232135  386.570872       5         1   0.809807             1   7.192199  \n",
       "1  2.660565  281.710071       8         1   1.111890             1   7.377138  \n",
       "2  3.195623  501.693672       6         1   0.458372             1   7.143185  \n",
       "3  0.280294   35.279702       1         1   0.455547             1   6.919652  \n",
       "4  2.912542  804.804484       1         0   2.361030             0   4.969123  \n",
       "\n",
       "[5 rows x 22 columns]"
      ]
     },
     "execution_count": 49,
     "metadata": {},
     "output_type": "execute_result"
    }
   ],
   "source": [
    "# Adding experience score to the dataframe\n",
    "\n",
    "data_with_clusters[\"exp_score\"] = normalised_df[\"exp_score\"]\n",
    "data_with_clusters.head()"
   ]
  },
  {
   "cell_type": "code",
   "execution_count": 50,
   "id": "1c2a11c0-3df3-4dee-8c98-c829eefeb6aa",
   "metadata": {},
   "outputs": [
    {
     "data": {
      "text/plain": [
       "<Figure size 432x288 with 0 Axes>"
      ]
     },
     "metadata": {},
     "output_type": "display_data"
    },
    {
     "data": {
      "image/png": "[encoded data removed]",
      "text/plain": [
       "<Figure size 720x720 with 1 Axes>"
      ]
     },
     "metadata": {
      "needs_background": "light"
     },
     "output_type": "display_data"
    }
   ],
   "source": [
    "plt.figure()\n",
    "plt.figure(figsize=(10,10))\n",
    "plt.scatter(data_with_clusters['TP total'], data_with_clusters['RTT total'], c =data_with_clusters['Clusters_exp'])\n",
    "\n",
    "plt.legend([0,1,2],prop={'size': 15})\n",
    "plt.show()"
   ]
  },
  {
   "cell_type": "code",
   "execution_count": null,
   "id": "0aeac7e4-6bfd-43ef-8195-805bf21e9f0d",
   "metadata": {},
   "outputs": [],
   "source": []
  },
  {
   "cell_type": "code",
   "execution_count": 51,
   "id": "ed23ef6b-989a-4a63-8976-dee851d3a391",
   "metadata": {},
   "outputs": [],
   "source": [
    "Sum_of_squared_distances = []\n",
    "K = range(1,10)\n",
    "for k in K:\n",
    "    km = KMeans(n_clusters=k)\n",
    "    km = km.fit(normalised_df)\n",
    "    Sum_of_squared_distances.append(km.inertia_)"
   ]
  },
  {
   "cell_type": "code",
   "execution_count": 52,
   "id": "e635a310-f6cd-439c-90b1-a660c3811b90",
   "metadata": {},
   "outputs": [
    {
     "data": {
      "image/png": "[encoded data removed]",
      "text/plain": [
       "<Figure size 432x288 with 1 Axes>"
      ]
     },
     "metadata": {
      "needs_background": "light"
     },
     "output_type": "display_data"
    }
   ],
   "source": [
    "plt.plot(K, Sum_of_squared_distances, 'bx-')\n",
    "plt.xlabel('k')\n",
    "plt.ylabel('Sum_of_squared_distances')\n",
    "plt.title('Elbow Method For Optimal k')\n",
    "plt.show()"
   ]
  },
  {
   "cell_type": "code",
   "execution_count": 53,
   "id": "715d6bf1-19b4-4e3b-8e0d-2d5058ce3ffb",
   "metadata": {},
   "outputs": [
    {
     "data": {
      "text/plain": [
       "<mpl_toolkits.mplot3d.art3d.Path3DCollection at 0x2a2581bb730>"
      ]
     },
     "execution_count": 53,
     "metadata": {},
     "output_type": "execute_result"
    },
    {
     "data": {
      "image/png": "[encoded data removed]",
      "text/plain": [
       "<Figure size 576x360 with 1 Axes>"
      ]
     },
     "metadata": {
      "needs_background": "light"
     },
     "output_type": "display_data"
    }
   ],
   "source": [
    "from mpl_toolkits.mplot3d import Axes3D\n",
    "fig = plt.figure(figsize = (8,5))\n",
    "ax = fig.add_subplot(111, projection='3d')\n",
    "ax.scatter(data_with_clusters['TP total'],data_with_clusters['TCP total'], data_with_clusters['RTT total'], c =data_with_clusters['Clusters_exp'])"
   ]
  },
  {
   "cell_type": "code",
   "execution_count": 54,
   "id": "67506601-d261-484c-8d30-d2bd48660c61",
   "metadata": {},
   "outputs": [],
   "source": [
    "save_data_path_5 = os.path.join(parent_dir,\"data\",\"teleco_user_exp_data.csv\") # setting path to data directory\n",
    "data_with_clusters.to_csv(save_data_path_5, index=False)"
   ]
  },
  {
   "cell_type": "code",
   "execution_count": null,
   "id": "1be16cc7-88f1-48b0-a4bf-f862a9f871f2",
   "metadata": {},
   "outputs": [],
   "source": []
  },
  {
   "cell_type": "code",
   "execution_count": null,
   "id": "23a246e9-0dec-4e2e-9f41-aa19dc148364",
   "metadata": {},
   "outputs": [],
   "source": []
  }
 ],
 "metadata": {
  "kernelspec": {
   "display_name": "Python 3 (ipykernel)",
   "language": "python",
   "name": "python3"
  },
  "language_info": {
   "codemirror_mode": {
    "name": "ipython",
    "version": 3
   },
   "file_extension": ".py",
   "mimetype": "text/x-python",
   "name": "python",
   "nbconvert_exporter": "python",
   "pygments_lexer": "ipython3",
   "version": "3.9.7"
  }
 },
 "nbformat": 4,
 "nbformat_minor": 5
}
