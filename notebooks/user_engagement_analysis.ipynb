{
 "cells": [
  {
   "cell_type": "markdown",
   "id": "c1dd29ce-4a2a-4952-a8b8-0dd2f1a85d99",
   "metadata": {},
   "source": [
    "<h1> User Engagement Analysis </h2>"
   ]
  },
  {
   "cell_type": "markdown",
   "id": "f05dd3ee-92c5-46a9-b627-33c2cafaeb48",
   "metadata": {},
   "source": [
    "<h2> Imporing data and packages </h2>"
   ]
  },
  {
   "cell_type": "code",
   "execution_count": 35,
   "id": "baa2f69b-f1a5-4737-a2ce-7c55d49d8e57",
   "metadata": {},
   "outputs": [],
   "source": [
    "import pandas as pd\n",
    "import numpy as np\n",
    "import os\n",
    "import warnings\n",
    "from pandasql import sqldf\n",
    "import matplotlib.pyplot as plt\n",
    "import seaborn as sns\n",
    "import sys\n",
    "from sklearn.preprocessing import StandardScaler\n",
    "from sklearn.cluster import KMeans"
   ]
  },
  {
   "cell_type": "markdown",
   "id": "17595650-e08a-4b85-a7ae-e83b99d03620",
   "metadata": {},
   "source": [
    "Importing essential libraries"
   ]
  },
  {
   "cell_type": "code",
   "execution_count": 2,
   "id": "8b17698e-ea4e-4848-bb5b-5e6c0137782c",
   "metadata": {},
   "outputs": [],
   "source": [
    "warnings.filterwarnings('ignore')"
   ]
  },
  {
   "cell_type": "markdown",
   "id": "571d0e5a-b3a4-49f2-b675-e820e0df4443",
   "metadata": {},
   "source": [
    "Setting file paths"
   ]
  },
  {
   "cell_type": "code",
   "execution_count": 3,
   "id": "6b2cdb00-047b-4008-8d5e-35723414d882",
   "metadata": {},
   "outputs": [],
   "source": [
    "parent_dir = os.path.abspath(os.path.join(os.getcwd(), os.pardir)) # setting path to parent directory\n",
    "scripts_dir = os.path.join(parent_dir,\"scripts\") # setting path to scripts directory\n",
    "data_path = os.path.join(parent_dir,\"data\",\"teleco_aggr_data.csv\") # setting path to data directory\n",
    "data_path_2 = os.path.join(parent_dir,\"data\",\"teleco_clean_data.csv\") # setting path to data directory\n",
    "data_path_3 = os.path.join(parent_dir,\"data\",\"teleco_outlier_free_data.csv\") # setting path to data directory\n",
    "\n",
    "sys.path.insert(1, scripts_dir)"
   ]
  },
  {
   "cell_type": "markdown",
   "id": "dca63af7-2b3c-40c5-a7a3-786ff8dc939f",
   "metadata": {},
   "source": [
    "Importing data cleaning and summarizing scripts"
   ]
  },
  {
   "cell_type": "code",
   "execution_count": 4,
   "id": "0e878b00-237e-4cb5-9ab9-f79361e6dbda",
   "metadata": {},
   "outputs": [],
   "source": [
    "from data_cleaning_functions import DataCleaner as Cleaner \n",
    "from data_summarizing_functions import DataSummarizer as Sumar\n",
    "\n",
    "cleaner = Cleaner()\n",
    "sumar = Sumar()"
   ]
  },
  {
   "cell_type": "markdown",
   "id": "8ba700af-ac3b-4b3a-bcdb-eacbe16d4fc0",
   "metadata": {},
   "source": [
    "loading the dataframes"
   ]
  },
  {
   "cell_type": "code",
   "execution_count": 5,
   "id": "95c4b391-f753-4bb5-a174-c4664ee4b464",
   "metadata": {},
   "outputs": [],
   "source": [
    "aggr_df= pd.read_csv(data_path)\n",
    "df3= pd.read_csv(data_path_2)\n",
    "outlier_free_df= pd.read_csv(data_path_3)"
   ]
  },
  {
   "cell_type": "code",
   "execution_count": 6,
   "id": "cef42c5b-0145-4131-a513-ad3492864713",
   "metadata": {},
   "outputs": [
    {
     "name": "stdout",
     "output_type": "stream",
     "text": [
      "<class 'pandas.core.frame.DataFrame'>\n",
      "RangeIndex: 106857 entries, 0 to 106856\n",
      "Data columns (total 13 columns):\n",
      " #   Column             Non-Null Count   Dtype  \n",
      "---  ------             --------------   -----  \n",
      " 0   MSISDN/Number      106856 non-null  object \n",
      " 1   xDr_session_count  106857 non-null  int64  \n",
      " 2   session_dur        106857 non-null  float64\n",
      " 3   Total_DL           106857 non-null  float64\n",
      " 4   Total_UL           106857 non-null  float64\n",
      " 5   total_vol          106857 non-null  float64\n",
      " 6   youtube            106857 non-null  float64\n",
      " 7   netflix            106857 non-null  float64\n",
      " 8   google             106857 non-null  float64\n",
      " 9   gaming             106857 non-null  float64\n",
      " 10  email              106857 non-null  float64\n",
      " 11  social             106857 non-null  float64\n",
      " 12  other              106857 non-null  float64\n",
      "dtypes: float64(11), int64(1), object(1)\n",
      "memory usage: 10.6+ MB\n"
     ]
    }
   ],
   "source": [
    "aggr_df.info()"
   ]
  },
  {
   "cell_type": "code",
   "execution_count": 8,
   "id": "96af46c5-2576-49f0-a29a-5c215886fb52",
   "metadata": {},
   "outputs": [],
   "source": [
    "aggr_df.dropna(inplace=True)"
   ]
  },
  {
   "cell_type": "code",
   "execution_count": 24,
   "id": "d3ff012f-fa95-494b-8b04-70542a9c1ce8",
   "metadata": {},
   "outputs": [],
   "source": [
    "def show_topN_per_col(df, main, cols):\n",
    "    for col in cols:\n",
    "        print(\"\\nTop 10 customers based on\"+col+\"\\n\")\n",
    "        print(df.sort_values(by=col, ascending=False).loc[:,[main, col]].head(10))\n"
   ]
  },
  {
   "cell_type": "code",
   "execution_count": 25,
   "id": "70a1bc8e-781f-420e-ac6b-ef6835c1b432",
   "metadata": {},
   "outputs": [
    {
     "name": "stdout",
     "output_type": "stream",
     "text": [
      "\n",
      "Top 10 customers based onxDr_session_count\n",
      "\n",
      "           MSISDN/Number  xDr_session_count\n",
      "13527  33,626,320,676.00                 18\n",
      "13181  33,625,779,332.00                 17\n",
      "6438   33,614,892,860.00                 17\n",
      "37053  33,659,725,664.00                 16\n",
      "92924  33,760,536,639.00                 15\n",
      "76364  33,675,877,202.00                 15\n",
      "65119  33,667,163,239.00                 13\n",
      "667    33,603,127,838.00                 12\n",
      "1280   33,604,515,716.00                 12\n",
      "13995  33,627,080,969.00                 12\n",
      "\n",
      "Top 10 customers based onsession_dur\n",
      "\n",
      "           MSISDN/Number  session_dur\n",
      "13181  33,625,779,332.00   18553754.0\n",
      "6438   33,614,892,860.00    9966898.0\n",
      "92924  33,760,536,639.00    9279434.0\n",
      "13527  33,626,320,676.00    8791927.0\n",
      "65119  33,667,163,239.00    8744914.0\n",
      "50282  33,662,840,755.00    6614270.0\n",
      "57161  33,664,693,736.00    6288730.0\n",
      "667    33,603,127,838.00    6287761.0\n",
      "66030  33,667,456,716.00    5649882.0\n",
      "92578  33,760,413,819.00    5321667.0\n",
      "\n",
      "Top 10 customers based ontotal_vol\n",
      "\n",
      "           MSISDN/Number    total_vol\n",
      "6438   33,614,892,860.00  8846.226494\n",
      "92924  33,760,536,639.00  8514.773963\n",
      "13181  33,625,779,332.00  8499.620722\n",
      "13527  33,626,320,676.00  7971.167261\n",
      "76364  33,675,877,202.00  7891.110608\n",
      "37053  33,659,725,664.00  7705.862783\n",
      "63029  33,666,464,084.00  7308.500938\n",
      "92578  33,760,413,819.00  7132.370514\n",
      "57242  33,664,712,899.00  6872.018208\n",
      "86456  33,698,792,269.00  6540.899126\n"
     ]
    }
   ],
   "source": [
    "show_topN_per_col(aggr_df, \"MSISDN/Number\", [\"xDr_session_count\", \"session_dur\", \"total_vol\"])"
   ]
  },
  {
   "cell_type": "code",
   "execution_count": 31,
   "id": "1208d13c-857d-4250-af6e-6aa6ce3634ef",
   "metadata": {},
   "outputs": [],
   "source": [
    "features = [\"xDr_session_count\", \"session_dur\", \"total_vol\"]\n",
    "selected_metrics = aggr_df[features]"
   ]
  },
  {
   "cell_type": "code",
   "execution_count": 32,
   "id": "5eae9a10-3532-4336-88cf-3a088e67ade5",
   "metadata": {},
   "outputs": [],
   "source": [
    "x = selected_metrics.loc[:, features].values\n",
    "x = StandardScaler().fit_transform(x) # normalizing the features"
   ]
  },
  {
   "cell_type": "code",
   "execution_count": 33,
   "id": "6692ac1b-68ad-4bc3-867b-24e7a9eacf9a",
   "metadata": {},
   "outputs": [
    {
     "data": {
      "text/plain": [
       "(-1.4323098869761696e-16, 1.0000000000000002, (106856, 3))"
      ]
     },
     "execution_count": 33,
     "metadata": {},
     "output_type": "execute_result"
    }
   ],
   "source": [
    "np.mean(x), np.std(x), x.shape"
   ]
  },
  {
   "cell_type": "code",
   "execution_count": 34,
   "id": "53ac7f91-3ca2-4497-934f-eace55064433",
   "metadata": {},
   "outputs": [],
   "source": [
    "normalised_df = pd.DataFrame(x,columns=features)"
   ]
  },
  {
   "cell_type": "code",
   "execution_count": 36,
   "id": "58d05af8-89d9-4afd-b22a-04104d40b5cd",
   "metadata": {},
   "outputs": [
    {
     "data": {
      "text/plain": [
       "KMeans(n_clusters=3)"
      ]
     },
     "execution_count": 36,
     "metadata": {},
     "output_type": "execute_result"
    }
   ],
   "source": [
    "kmeans = KMeans(3)\n",
    "kmeans.fit(x)"
   ]
  },
  {
   "cell_type": "code",
   "execution_count": 37,
   "id": "b827e883-edda-40f5-bcdc-e879f313f407",
   "metadata": {},
   "outputs": [
    {
     "data": {
      "text/plain": [
       "array([1, 1, 1, ..., 1, 1, 1])"
      ]
     },
     "execution_count": 37,
     "metadata": {},
     "output_type": "execute_result"
    }
   ],
   "source": [
    "identified_clusters = kmeans.fit_predict(x)\n",
    "identified_clusters"
   ]
  },
  {
   "cell_type": "code",
   "execution_count": 38,
   "id": "61bc1c7d-8947-4b92-9ef9-ba1e740ced94",
   "metadata": {},
   "outputs": [
    {
     "data": {
      "text/html": [
       "<div>\n",
       "<style scoped>\n",
       "    .dataframe tbody tr th:only-of-type {\n",
       "        vertical-align: middle;\n",
       "    }\n",
       "\n",
       "    .dataframe tbody tr th {\n",
       "        vertical-align: top;\n",
       "    }\n",
       "\n",
       "    .dataframe thead th {\n",
       "        text-align: right;\n",
       "    }\n",
       "</style>\n",
       "<table border=\"1\" class=\"dataframe\">\n",
       "  <thead>\n",
       "    <tr style=\"text-align: right;\">\n",
       "      <th></th>\n",
       "      <th>variables</th>\n",
       "      <th>missing_count</th>\n",
       "      <th>missing_percent_(%)</th>\n",
       "      <th>data_type</th>\n",
       "      <th>unique_values</th>\n",
       "    </tr>\n",
       "  </thead>\n",
       "  <tbody>\n",
       "    <tr>\n",
       "      <th>0</th>\n",
       "      <td>MSISDN/Number</td>\n",
       "      <td>0</td>\n",
       "      <td>0.0</td>\n",
       "      <td>object</td>\n",
       "      <td>106856</td>\n",
       "    </tr>\n",
       "    <tr>\n",
       "      <th>1</th>\n",
       "      <td>xDr_session_count</td>\n",
       "      <td>0</td>\n",
       "      <td>0.0</td>\n",
       "      <td>int64</td>\n",
       "      <td>17</td>\n",
       "    </tr>\n",
       "    <tr>\n",
       "      <th>2</th>\n",
       "      <td>session_dur</td>\n",
       "      <td>0</td>\n",
       "      <td>0.0</td>\n",
       "      <td>float64</td>\n",
       "      <td>77538</td>\n",
       "    </tr>\n",
       "    <tr>\n",
       "      <th>3</th>\n",
       "      <td>Total_DL</td>\n",
       "      <td>0</td>\n",
       "      <td>0.0</td>\n",
       "      <td>float64</td>\n",
       "      <td>106851</td>\n",
       "    </tr>\n",
       "    <tr>\n",
       "      <th>4</th>\n",
       "      <td>Total_UL</td>\n",
       "      <td>0</td>\n",
       "      <td>0.0</td>\n",
       "      <td>float64</td>\n",
       "      <td>106779</td>\n",
       "    </tr>\n",
       "    <tr>\n",
       "      <th>5</th>\n",
       "      <td>total_vol</td>\n",
       "      <td>0</td>\n",
       "      <td>0.0</td>\n",
       "      <td>float64</td>\n",
       "      <td>106853</td>\n",
       "    </tr>\n",
       "    <tr>\n",
       "      <th>6</th>\n",
       "      <td>youtube</td>\n",
       "      <td>0</td>\n",
       "      <td>0.0</td>\n",
       "      <td>float64</td>\n",
       "      <td>106745</td>\n",
       "    </tr>\n",
       "    <tr>\n",
       "      <th>7</th>\n",
       "      <td>netflix</td>\n",
       "      <td>0</td>\n",
       "      <td>0.0</td>\n",
       "      <td>float64</td>\n",
       "      <td>106742</td>\n",
       "    </tr>\n",
       "    <tr>\n",
       "      <th>8</th>\n",
       "      <td>google</td>\n",
       "      <td>0</td>\n",
       "      <td>0.0</td>\n",
       "      <td>float64</td>\n",
       "      <td>106582</td>\n",
       "    </tr>\n",
       "    <tr>\n",
       "      <th>9</th>\n",
       "      <td>gaming</td>\n",
       "      <td>0</td>\n",
       "      <td>0.0</td>\n",
       "      <td>float64</td>\n",
       "      <td>106853</td>\n",
       "    </tr>\n",
       "    <tr>\n",
       "      <th>10</th>\n",
       "      <td>email</td>\n",
       "      <td>0</td>\n",
       "      <td>0.0</td>\n",
       "      <td>float64</td>\n",
       "      <td>105946</td>\n",
       "    </tr>\n",
       "    <tr>\n",
       "      <th>11</th>\n",
       "      <td>social</td>\n",
       "      <td>0</td>\n",
       "      <td>0.0</td>\n",
       "      <td>float64</td>\n",
       "      <td>105922</td>\n",
       "    </tr>\n",
       "    <tr>\n",
       "      <th>12</th>\n",
       "      <td>other</td>\n",
       "      <td>0</td>\n",
       "      <td>0.0</td>\n",
       "      <td>float64</td>\n",
       "      <td>106852</td>\n",
       "    </tr>\n",
       "    <tr>\n",
       "      <th>13</th>\n",
       "      <td>Clusters</td>\n",
       "      <td>0</td>\n",
       "      <td>0.0</td>\n",
       "      <td>int32</td>\n",
       "      <td>3</td>\n",
       "    </tr>\n",
       "  </tbody>\n",
       "</table>\n",
       "</div>"
      ],
      "text/plain": [
       "            variables  missing_count  missing_percent_(%) data_type  \\\n",
       "0       MSISDN/Number              0                  0.0    object   \n",
       "1   xDr_session_count              0                  0.0     int64   \n",
       "2         session_dur              0                  0.0   float64   \n",
       "3            Total_DL              0                  0.0   float64   \n",
       "4            Total_UL              0                  0.0   float64   \n",
       "5           total_vol              0                  0.0   float64   \n",
       "6             youtube              0                  0.0   float64   \n",
       "7             netflix              0                  0.0   float64   \n",
       "8              google              0                  0.0   float64   \n",
       "9              gaming              0                  0.0   float64   \n",
       "10              email              0                  0.0   float64   \n",
       "11             social              0                  0.0   float64   \n",
       "12              other              0                  0.0   float64   \n",
       "13           Clusters              0                  0.0     int32   \n",
       "\n",
       "    unique_values  \n",
       "0          106856  \n",
       "1              17  \n",
       "2           77538  \n",
       "3          106851  \n",
       "4          106779  \n",
       "5          106853  \n",
       "6          106745  \n",
       "7          106742  \n",
       "8          106582  \n",
       "9          106853  \n",
       "10         105946  \n",
       "11         105922  \n",
       "12         106852  \n",
       "13              3  "
      ]
     },
     "execution_count": 38,
     "metadata": {},
     "output_type": "execute_result"
    }
   ],
   "source": [
    "data_with_clusters = aggr_df.copy()\n",
    "data_with_clusters['Clusters'] = identified_clusters \n",
    "sumar.summ_columns(data_with_clusters)"
   ]
  },
  {
   "cell_type": "code",
   "execution_count": 42,
   "id": "49a27124-3ca0-40b5-920d-6a330f835e35",
   "metadata": {},
   "outputs": [],
   "source": [
    "clus_min_df = sumar.find_agg(data_with_clusters, \"Clusters\", [\"xDr_session_count\", \"session_dur\", \"total_vol\"], [\"min\", \"min\", \"min\"], [\"xDr_min\", \"dur_min\", \"total_vol_min\"])\n",
    "clus_max_df = sumar.find_agg(data_with_clusters, \"Clusters\", [\"xDr_session_count\", \"session_dur\", \"total_vol\"], [\"max\", \"max\", \"max\"], [\"xDr_max\", \"dur_max\", \"total_vol_max\"])\n",
    "clus_count_df = sumar.find_agg(data_with_clusters, \"Clusters\", [\"xDr_session_count\", \"session_dur\", \"total_vol\"], [\"count\", \"count\", \"count\"], [\"xDr_count\", \"dur_count\", \"total_vol_count\"])\n",
    "clus_mean_df = sumar.find_agg(data_with_clusters, \"Clusters\", [\"xDr_session_count\", \"session_dur\", \"total_vol\"], [\"mean\", \"mean\", \"mean\"], [\"xDr_mean\", \"dur_mean\", \"total_vol_mean\"])\n"
   ]
  },
  {
   "cell_type": "code",
   "execution_count": 44,
   "id": "a419716c-3834-43fe-8923-dfd49cf9885e",
   "metadata": {},
   "outputs": [
    {
     "data": {
      "text/html": [
       "<div>\n",
       "<style scoped>\n",
       "    .dataframe tbody tr th:only-of-type {\n",
       "        vertical-align: middle;\n",
       "    }\n",
       "\n",
       "    .dataframe tbody tr th {\n",
       "        vertical-align: top;\n",
       "    }\n",
       "\n",
       "    .dataframe thead th {\n",
       "        text-align: right;\n",
       "    }\n",
       "</style>\n",
       "<table border=\"1\" class=\"dataframe\">\n",
       "  <thead>\n",
       "    <tr style=\"text-align: right;\">\n",
       "      <th></th>\n",
       "      <th>Clusters</th>\n",
       "      <th>xDr_min</th>\n",
       "      <th>dur_min</th>\n",
       "      <th>total_vol_min</th>\n",
       "    </tr>\n",
       "  </thead>\n",
       "  <tbody>\n",
       "    <tr>\n",
       "      <th>0</th>\n",
       "      <td>0</td>\n",
       "      <td>1</td>\n",
       "      <td>18235.0</td>\n",
       "      <td>177.006936</td>\n",
       "    </tr>\n",
       "    <tr>\n",
       "      <th>1</th>\n",
       "      <td>1</td>\n",
       "      <td>1</td>\n",
       "      <td>7142.0</td>\n",
       "      <td>33.249009</td>\n",
       "    </tr>\n",
       "    <tr>\n",
       "      <th>2</th>\n",
       "      <td>2</td>\n",
       "      <td>1</td>\n",
       "      <td>66594.0</td>\n",
       "      <td>370.420998</td>\n",
       "    </tr>\n",
       "  </tbody>\n",
       "</table>\n",
       "</div>"
      ],
      "text/plain": [
       "   Clusters  xDr_min  dur_min  total_vol_min\n",
       "0         0        1  18235.0     177.006936\n",
       "1         1        1   7142.0      33.249009\n",
       "2         2        1  66594.0     370.420998"
      ]
     },
     "execution_count": 44,
     "metadata": {},
     "output_type": "execute_result"
    }
   ],
   "source": [
    "clus_min_df"
   ]
  },
  {
   "cell_type": "code",
   "execution_count": 46,
   "id": "1a3c6089-8e96-4a5d-9bd6-591a809c9c04",
   "metadata": {},
   "outputs": [
    {
     "data": {
      "image/png": "[encoded data removed]",
      "text/plain": [
       "<Figure size 720x504 with 1 Axes>"
      ]
     },
     "metadata": {},
     "output_type": "display_data"
    }
   ],
   "source": [
    "sumar.plot_pie(clus_min_df, [\"Clusters\", \"dur_min\"], \"the minimum durations per clusters\")"
   ]
  },
  {
   "cell_type": "code",
   "execution_count": 47,
   "id": "fae32a43-8071-4f44-b4e8-df7f83e28ce9",
   "metadata": {},
   "outputs": [
    {
     "data": {
      "image/png": "[encoded data removed]",
      "text/plain": [
       "<Figure size 720x504 with 1 Axes>"
      ]
     },
     "metadata": {},
     "output_type": "display_data"
    }
   ],
   "source": [
    "sumar.plot_pie(clus_min_df, [\"Clusters\", \"total_vol_min\"], \"the minimum total data volume per clusters\")"
   ]
  },
  {
   "cell_type": "code",
   "execution_count": null,
   "id": "39f37946-8a64-4cbe-8e1b-0f7fd57996bd",
   "metadata": {},
   "outputs": [],
   "source": [
    "**Observations**\n",
    "<ul>\n",
    "    <li> the min value for xDr sessions is similar: 1</li>\n",
    "    <li> the min value\n",
    "</ul>"
   ]
  },
  {
   "cell_type": "code",
   "execution_count": null,
   "id": "4de1179e-23be-4212-80f0-ad06222abe00",
   "metadata": {},
   "outputs": [],
   "source": [
    "print(clus_max_df)\n",
    "print(clus_count_df)\n",
    "print(clus_mean_df)"
   ]
  },
  {
   "cell_type": "code",
   "execution_count": null,
   "id": "c0d50ba7-97a0-4601-a065-88a9ed08a690",
   "metadata": {},
   "outputs": [],
   "source": []
  }
 ],
 "metadata": {
  "kernelspec": {
   "display_name": "Python 3 (ipykernel)",
   "language": "python",
   "name": "python3"
  },
  "language_info": {
   "codemirror_mode": {
    "name": "ipython",
    "version": 3
   },
   "file_extension": ".py",
   "mimetype": "text/x-python",
   "name": "python",
   "nbconvert_exporter": "python",
   "pygments_lexer": "ipython3",
   "version": "3.9.7"
  }
 },
 "nbformat": 4,
 "nbformat_minor": 5
}
