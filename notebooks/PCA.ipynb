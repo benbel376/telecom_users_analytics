{
 "cells": [
  {
   "cell_type": "code",
   "execution_count": null,
   "id": "2f999b2d-404f-4034-8faa-b31066cff9a5",
   "metadata": {},
   "outputs": [],
   "source": []
  },
  {
   "cell_type": "markdown",
   "id": "6745a2c9-c70a-4621-b573-416179245719",
   "metadata": {},
   "source": [
    "<h1> Principal Component Analysis</h1>"
   ]
  },
  {
   "cell_type": "markdown",
   "id": "b63617b6-afa6-4791-9c06-877458cc61f7",
   "metadata": {},
   "source": [
    "<h2> Imporing data and packages </h2>"
   ]
  },
  {
   "cell_type": "markdown",
   "id": "fa8bb004-86b7-4b58-ab74-43da32d3ace8",
   "metadata": {},
   "source": [
    "Importing essential libraries"
   ]
  },
  {
   "cell_type": "code",
   "execution_count": 9,
   "id": "1d378c2d-5597-4cbe-8f40-57e48dfffd1b",
   "metadata": {},
   "outputs": [],
   "source": [
    "import pandas as pd\n",
    "import numpy as np\n",
    "import os\n",
    "import warnings\n",
    "from pandasql import sqldf\n",
    "import matplotlib.pyplot as plt\n",
    "import seaborn as sns\n",
    "import sys\n",
    "from sklearn.model_selection import train_test_split"
   ]
  },
  {
   "cell_type": "markdown",
   "id": "1f3ba2e0-3837-4860-b51e-375d27c014f4",
   "metadata": {},
   "source": [
    "Suppressing warning messages"
   ]
  },
  {
   "cell_type": "code",
   "execution_count": 2,
   "id": "fe61313f-6b44-46af-acd2-b70d7fb28ac7",
   "metadata": {},
   "outputs": [],
   "source": [
    "warnings.filterwarnings('ignore')"
   ]
  },
  {
   "cell_type": "markdown",
   "id": "4557d9d5-4f27-4150-98c6-5fecf32c7c15",
   "metadata": {},
   "source": [
    "Setting file paths"
   ]
  },
  {
   "cell_type": "code",
   "execution_count": 3,
   "id": "c660146d-8c0d-4d00-a71c-dc0c3a6f2e96",
   "metadata": {},
   "outputs": [],
   "source": [
    "parent_dir = os.path.abspath(os.path.join(os.getcwd(), os.pardir)) # setting path to parent directory\n",
    "scripts_dir = os.path.join(parent_dir,\"scripts\") # setting path to scripts directory\n",
    "data_path = os.path.join(parent_dir,\"data\",\"teleco_aggr_data.csv\") # setting path to data directory\n",
    "data_path_2 = os.path.join(parent_dir,\"data\",\"teleco_clean_data.csv\") # setting path to data directory\n",
    "data_path_3 = os.path.join(parent_dir,\"data\",\"teleco_outlier_free_data.csv\") # setting path to data directory\n",
    "\n",
    "sys.path.insert(1, scripts_dir)"
   ]
  },
  {
   "cell_type": "markdown",
   "id": "ec844314-b387-4c90-9f3e-685f96179755",
   "metadata": {},
   "source": [
    "Importing data cleaning and summarizing scripts"
   ]
  },
  {
   "cell_type": "code",
   "execution_count": 4,
   "id": "b97b3616-3e47-4a66-b6e4-c55fa192ac66",
   "metadata": {},
   "outputs": [],
   "source": [
    "from data_cleaning_functions import DataCleaner as Cleaner \n",
    "from data_summarizing_functions import DataSummarizer as Sumar\n",
    "\n",
    "cleaner = Cleaner()\n",
    "sumar = Sumar()"
   ]
  },
  {
   "cell_type": "markdown",
   "id": "2a9d06eb-4484-4f63-aa05-72844599f122",
   "metadata": {},
   "source": [
    "loading the dataframes"
   ]
  },
  {
   "cell_type": "code",
   "execution_count": 5,
   "id": "6ae856a8-cab3-4d1a-bc88-c2cac4adac5b",
   "metadata": {},
   "outputs": [],
   "source": [
    "aggr_df= pd.read_csv(data_path)\n",
    "df3= pd.read_csv(data_path_2)\n",
    "outlier_free_df= pd.read_csv(data_path_3)"
   ]
  },
  {
   "cell_type": "code",
   "execution_count": 6,
   "id": "15859a2e-705e-492b-a137-7ad1e715ea1f",
   "metadata": {},
   "outputs": [
    {
     "data": {
      "text/html": [
       "<div>\n",
       "<style scoped>\n",
       "    .dataframe tbody tr th:only-of-type {\n",
       "        vertical-align: middle;\n",
       "    }\n",
       "\n",
       "    .dataframe tbody tr th {\n",
       "        vertical-align: top;\n",
       "    }\n",
       "\n",
       "    .dataframe thead th {\n",
       "        text-align: right;\n",
       "    }\n",
       "</style>\n",
       "<table border=\"1\" class=\"dataframe\">\n",
       "  <thead>\n",
       "    <tr style=\"text-align: right;\">\n",
       "      <th></th>\n",
       "      <th>MSISDN/Number</th>\n",
       "      <th>xDr_session_count</th>\n",
       "      <th>session_dur</th>\n",
       "      <th>Total_DL</th>\n",
       "      <th>Total_UL</th>\n",
       "      <th>total_vol</th>\n",
       "      <th>youtube</th>\n",
       "      <th>netflix</th>\n",
       "      <th>google</th>\n",
       "      <th>gaming</th>\n",
       "      <th>email</th>\n",
       "      <th>social</th>\n",
       "      <th>other</th>\n",
       "      <th>Decile</th>\n",
       "    </tr>\n",
       "  </thead>\n",
       "  <tbody>\n",
       "    <tr>\n",
       "      <th>0</th>\n",
       "      <td>33,601,001,722.00</td>\n",
       "      <td>1</td>\n",
       "      <td>116720.0</td>\n",
       "      <td>842.637466</td>\n",
       "      <td>36.053108</td>\n",
       "      <td>878.690574</td>\n",
       "      <td>21.624548</td>\n",
       "      <td>27.180981</td>\n",
       "      <td>4.389005</td>\n",
       "      <td>812.458661</td>\n",
       "      <td>1.331362</td>\n",
       "      <td>2.232135</td>\n",
       "      <td>386.570872</td>\n",
       "      <td>5</td>\n",
       "    </tr>\n",
       "    <tr>\n",
       "      <th>1</th>\n",
       "      <td>33,601,001,754.00</td>\n",
       "      <td>1</td>\n",
       "      <td>181230.0</td>\n",
       "      <td>120.755184</td>\n",
       "      <td>36.104459</td>\n",
       "      <td>156.859643</td>\n",
       "      <td>12.432223</td>\n",
       "      <td>11.221763</td>\n",
       "      <td>5.334863</td>\n",
       "      <td>119.750078</td>\n",
       "      <td>3.307781</td>\n",
       "      <td>2.660565</td>\n",
       "      <td>281.710071</td>\n",
       "      <td>8</td>\n",
       "    </tr>\n",
       "    <tr>\n",
       "      <th>2</th>\n",
       "      <td>33,601,002,511.00</td>\n",
       "      <td>1</td>\n",
       "      <td>134969.0</td>\n",
       "      <td>556.659663</td>\n",
       "      <td>39.306820</td>\n",
       "      <td>595.966483</td>\n",
       "      <td>21.333570</td>\n",
       "      <td>19.353900</td>\n",
       "      <td>3.443126</td>\n",
       "      <td>538.827713</td>\n",
       "      <td>3.205380</td>\n",
       "      <td>3.195623</td>\n",
       "      <td>501.693672</td>\n",
       "      <td>6</td>\n",
       "    </tr>\n",
       "    <tr>\n",
       "      <th>3</th>\n",
       "      <td>33,601,007,832.00</td>\n",
       "      <td>1</td>\n",
       "      <td>49878.0</td>\n",
       "      <td>401.993172</td>\n",
       "      <td>20.327526</td>\n",
       "      <td>422.320698</td>\n",
       "      <td>6.977321</td>\n",
       "      <td>1.942092</td>\n",
       "      <td>9.678493</td>\n",
       "      <td>391.126127</td>\n",
       "      <td>2.284670</td>\n",
       "      <td>0.280294</td>\n",
       "      <td>35.279702</td>\n",
       "      <td>2</td>\n",
       "    </tr>\n",
       "    <tr>\n",
       "      <th>4</th>\n",
       "      <td>33,601,008,617.00</td>\n",
       "      <td>2</td>\n",
       "      <td>37104.0</td>\n",
       "      <td>1363.130417</td>\n",
       "      <td>94.280527</td>\n",
       "      <td>1457.410944</td>\n",
       "      <td>41.533002</td>\n",
       "      <td>49.201724</td>\n",
       "      <td>18.499616</td>\n",
       "      <td>1314.797820</td>\n",
       "      <td>3.305469</td>\n",
       "      <td>2.912542</td>\n",
       "      <td>804.804484</td>\n",
       "      <td>1</td>\n",
       "    </tr>\n",
       "  </tbody>\n",
       "</table>\n",
       "</div>"
      ],
      "text/plain": [
       "       MSISDN/Number  xDr_session_count  session_dur     Total_DL   Total_UL  \\\n",
       "0  33,601,001,722.00                  1     116720.0   842.637466  36.053108   \n",
       "1  33,601,001,754.00                  1     181230.0   120.755184  36.104459   \n",
       "2  33,601,002,511.00                  1     134969.0   556.659663  39.306820   \n",
       "3  33,601,007,832.00                  1      49878.0   401.993172  20.327526   \n",
       "4  33,601,008,617.00                  2      37104.0  1363.130417  94.280527   \n",
       "\n",
       "     total_vol    youtube    netflix     google       gaming     email  \\\n",
       "0   878.690574  21.624548  27.180981   4.389005   812.458661  1.331362   \n",
       "1   156.859643  12.432223  11.221763   5.334863   119.750078  3.307781   \n",
       "2   595.966483  21.333570  19.353900   3.443126   538.827713  3.205380   \n",
       "3   422.320698   6.977321   1.942092   9.678493   391.126127  2.284670   \n",
       "4  1457.410944  41.533002  49.201724  18.499616  1314.797820  3.305469   \n",
       "\n",
       "     social       other  Decile  \n",
       "0  2.232135  386.570872       5  \n",
       "1  2.660565  281.710071       8  \n",
       "2  3.195623  501.693672       6  \n",
       "3  0.280294   35.279702       2  \n",
       "4  2.912542  804.804484       1  "
      ]
     },
     "execution_count": 6,
     "metadata": {},
     "output_type": "execute_result"
    }
   ],
   "source": [
    "outlier_free_df.head()"
   ]
  },
  {
   "cell_type": "code",
   "execution_count": 7,
   "id": "e99c1818-5f8e-493c-9e90-132fd67694b0",
   "metadata": {},
   "outputs": [
    {
     "name": "stdout",
     "output_type": "stream",
     "text": [
      "<class 'pandas.core.frame.DataFrame'>\n",
      "RangeIndex: 98804 entries, 0 to 98803\n",
      "Data columns (total 14 columns):\n",
      " #   Column             Non-Null Count  Dtype  \n",
      "---  ------             --------------  -----  \n",
      " 0   MSISDN/Number      98804 non-null  object \n",
      " 1   xDr_session_count  98804 non-null  int64  \n",
      " 2   session_dur        98804 non-null  float64\n",
      " 3   Total_DL           98804 non-null  float64\n",
      " 4   Total_UL           98804 non-null  float64\n",
      " 5   total_vol          98804 non-null  float64\n",
      " 6   youtube            98804 non-null  float64\n",
      " 7   netflix            98804 non-null  float64\n",
      " 8   google             98804 non-null  float64\n",
      " 9   gaming             98804 non-null  float64\n",
      " 10  email              98804 non-null  float64\n",
      " 11  social             98804 non-null  float64\n",
      " 12  other              98804 non-null  float64\n",
      " 13  Decile             98804 non-null  int64  \n",
      "dtypes: float64(11), int64(2), object(1)\n",
      "memory usage: 10.6+ MB\n"
     ]
    }
   ],
   "source": [
    "outlier_free_df.info()"
   ]
  },
  {
   "cell_type": "code",
   "execution_count": 12,
   "id": "e0fc8633-7a82-4969-bb44-b2a2ce4550a8",
   "metadata": {},
   "outputs": [],
   "source": [
    "from sklearn.preprocessing import StandardScaler\n",
    "features = ['session_dur', 'Total_DL', 'Total_UL', 'total_vol', 'youtube', 'netflix', 'google', 'gaming','email','social']\n",
    "relevant_data = outlier_free_df[features]\n",
    "x = relevant_data.loc[:, features].values\n",
    "x = StandardScaler().fit_transform(x) # normalizing the features"
   ]
  },
  {
   "cell_type": "code",
   "execution_count": 14,
   "id": "4678e17b-04ca-4e10-89b4-92b4b3176425",
   "metadata": {},
   "outputs": [
    {
     "data": {
      "text/plain": [
       "(98804, 10)"
      ]
     },
     "execution_count": 14,
     "metadata": {},
     "output_type": "execute_result"
    }
   ],
   "source": [
    "x.shape"
   ]
  },
  {
   "cell_type": "code",
   "execution_count": 15,
   "id": "26c1cb96-5da9-4403-a068-ab954c99b168",
   "metadata": {},
   "outputs": [
    {
     "data": {
      "text/plain": [
       "(-1.2498717407706713e-16, 1.0)"
      ]
     },
     "execution_count": 15,
     "metadata": {},
     "output_type": "execute_result"
    }
   ],
   "source": [
    "np.mean(x), np.std(x)"
   ]
  },
  {
   "cell_type": "code",
   "execution_count": 16,
   "id": "b11702a0-323c-4209-bfe3-e6acce3df0c2",
   "metadata": {},
   "outputs": [],
   "source": [
    "feat_cols = ['feature'+str(i) for i in range(x.shape[1])]"
   ]
  },
  {
   "cell_type": "code",
   "execution_count": 26,
   "id": "8c770095-2c85-41d6-8970-311af0549478",
   "metadata": {},
   "outputs": [
    {
     "data": {
      "text/html": [
       "<div>\n",
       "<style scoped>\n",
       "    .dataframe tbody tr th:only-of-type {\n",
       "        vertical-align: middle;\n",
       "    }\n",
       "\n",
       "    .dataframe tbody tr th {\n",
       "        vertical-align: top;\n",
       "    }\n",
       "\n",
       "    .dataframe thead th {\n",
       "        text-align: right;\n",
       "    }\n",
       "</style>\n",
       "<table border=\"1\" class=\"dataframe\">\n",
       "  <thead>\n",
       "    <tr style=\"text-align: right;\">\n",
       "      <th></th>\n",
       "      <th>session_dur</th>\n",
       "      <th>Total_DL</th>\n",
       "      <th>Total_UL</th>\n",
       "      <th>total_vol</th>\n",
       "      <th>youtube</th>\n",
       "      <th>netflix</th>\n",
       "      <th>google</th>\n",
       "      <th>gaming</th>\n",
       "      <th>email</th>\n",
       "      <th>social</th>\n",
       "    </tr>\n",
       "  </thead>\n",
       "  <tbody>\n",
       "    <tr>\n",
       "      <th>98799</th>\n",
       "      <td>0.654469</td>\n",
       "      <td>-1.103799</td>\n",
       "      <td>-0.711660</td>\n",
       "      <td>-1.108207</td>\n",
       "      <td>-0.017641</td>\n",
       "      <td>0.118182</td>\n",
       "      <td>0.010915</td>\n",
       "      <td>-1.154064</td>\n",
       "      <td>0.329851</td>\n",
       "      <td>-0.593132</td>\n",
       "    </tr>\n",
       "    <tr>\n",
       "      <th>98800</th>\n",
       "      <td>1.363581</td>\n",
       "      <td>1.247617</td>\n",
       "      <td>0.762286</td>\n",
       "      <td>1.249807</td>\n",
       "      <td>0.606073</td>\n",
       "      <td>1.484922</td>\n",
       "      <td>0.073354</td>\n",
       "      <td>1.217476</td>\n",
       "      <td>1.473482</td>\n",
       "      <td>1.295538</td>\n",
       "    </tr>\n",
       "    <tr>\n",
       "      <th>98801</th>\n",
       "      <td>-1.499383</td>\n",
       "      <td>0.318079</td>\n",
       "      <td>-1.006343</td>\n",
       "      <td>0.238982</td>\n",
       "      <td>-0.118252</td>\n",
       "      <td>-0.861446</td>\n",
       "      <td>-0.406108</td>\n",
       "      <td>0.334066</td>\n",
       "      <td>-1.094499</td>\n",
       "      <td>-1.334227</td>\n",
       "    </tr>\n",
       "    <tr>\n",
       "      <th>98802</th>\n",
       "      <td>0.377900</td>\n",
       "      <td>-0.355272</td>\n",
       "      <td>-0.644887</td>\n",
       "      <td>-0.384278</td>\n",
       "      <td>-0.551400</td>\n",
       "      <td>-1.264975</td>\n",
       "      <td>-0.777211</td>\n",
       "      <td>-0.298393</td>\n",
       "      <td>-0.196160</td>\n",
       "      <td>-1.202153</td>\n",
       "    </tr>\n",
       "    <tr>\n",
       "      <th>98803</th>\n",
       "      <td>1.969198</td>\n",
       "      <td>-0.092241</td>\n",
       "      <td>0.193848</td>\n",
       "      <td>-0.075804</td>\n",
       "      <td>0.524631</td>\n",
       "      <td>0.152049</td>\n",
       "      <td>-0.000080</td>\n",
       "      <td>-0.091292</td>\n",
       "      <td>0.283345</td>\n",
       "      <td>-1.186843</td>\n",
       "    </tr>\n",
       "  </tbody>\n",
       "</table>\n",
       "</div>"
      ],
      "text/plain": [
       "       session_dur  Total_DL  Total_UL  total_vol   youtube   netflix  \\\n",
       "98799     0.654469 -1.103799 -0.711660  -1.108207 -0.017641  0.118182   \n",
       "98800     1.363581  1.247617  0.762286   1.249807  0.606073  1.484922   \n",
       "98801    -1.499383  0.318079 -1.006343   0.238982 -0.118252 -0.861446   \n",
       "98802     0.377900 -0.355272 -0.644887  -0.384278 -0.551400 -1.264975   \n",
       "98803     1.969198 -0.092241  0.193848  -0.075804  0.524631  0.152049   \n",
       "\n",
       "         google    gaming     email    social  \n",
       "98799  0.010915 -1.154064  0.329851 -0.593132  \n",
       "98800  0.073354  1.217476  1.473482  1.295538  \n",
       "98801 -0.406108  0.334066 -1.094499 -1.334227  \n",
       "98802 -0.777211 -0.298393 -0.196160 -1.202153  \n",
       "98803 -0.000080 -0.091292  0.283345 -1.186843  "
      ]
     },
     "execution_count": 26,
     "metadata": {},
     "output_type": "execute_result"
    }
   ],
   "source": [
    "normalised_df = pd.DataFrame(x,columns=features)\n",
    "normalised_df.tail()"
   ]
  },
  {
   "cell_type": "code",
   "execution_count": 22,
   "id": "b42fdaf1-8396-4cca-8245-183ee65e8fd2",
   "metadata": {},
   "outputs": [],
   "source": [
    "from sklearn.decomposition import PCA\n",
    "pca_df = PCA(n_components=4)\n",
    "principalComponents_df = pca_df.fit_transform(x)"
   ]
  },
  {
   "cell_type": "code",
   "execution_count": 24,
   "id": "6ba7a7bb-0cab-4a02-b268-08e240a02b62",
   "metadata": {},
   "outputs": [
    {
     "data": {
      "text/html": [
       "<div>\n",
       "<style scoped>\n",
       "    .dataframe tbody tr th:only-of-type {\n",
       "        vertical-align: middle;\n",
       "    }\n",
       "\n",
       "    .dataframe tbody tr th {\n",
       "        vertical-align: top;\n",
       "    }\n",
       "\n",
       "    .dataframe thead th {\n",
       "        text-align: right;\n",
       "    }\n",
       "</style>\n",
       "<table border=\"1\" class=\"dataframe\">\n",
       "  <thead>\n",
       "    <tr style=\"text-align: right;\">\n",
       "      <th></th>\n",
       "      <th>principal component 1</th>\n",
       "      <th>principal component 2</th>\n",
       "      <th>principal component 3</th>\n",
       "      <th>principal component 4</th>\n",
       "    </tr>\n",
       "  </thead>\n",
       "  <tbody>\n",
       "    <tr>\n",
       "      <th>98799</th>\n",
       "      <td>-1.353100</td>\n",
       "      <td>1.451061</td>\n",
       "      <td>-0.645917</td>\n",
       "      <td>-0.453847</td>\n",
       "    </tr>\n",
       "    <tr>\n",
       "      <th>98800</th>\n",
       "      <td>3.335934</td>\n",
       "      <td>-0.036641</td>\n",
       "      <td>-0.719559</td>\n",
       "      <td>0.542185</td>\n",
       "    </tr>\n",
       "    <tr>\n",
       "      <th>98801</th>\n",
       "      <td>-1.455855</td>\n",
       "      <td>-1.868885</td>\n",
       "      <td>0.829416</td>\n",
       "      <td>-0.728753</td>\n",
       "    </tr>\n",
       "    <tr>\n",
       "      <th>98802</th>\n",
       "      <td>-1.720152</td>\n",
       "      <td>-0.542993</td>\n",
       "      <td>-0.906929</td>\n",
       "      <td>-0.481539</td>\n",
       "    </tr>\n",
       "    <tr>\n",
       "      <th>98803</th>\n",
       "      <td>0.347520</td>\n",
       "      <td>0.565022</td>\n",
       "      <td>-1.882699</td>\n",
       "      <td>-1.270784</td>\n",
       "    </tr>\n",
       "  </tbody>\n",
       "</table>\n",
       "</div>"
      ],
      "text/plain": [
       "       principal component 1  principal component 2  principal component 3  \\\n",
       "98799              -1.353100               1.451061              -0.645917   \n",
       "98800               3.335934              -0.036641              -0.719559   \n",
       "98801              -1.455855              -1.868885               0.829416   \n",
       "98802              -1.720152              -0.542993              -0.906929   \n",
       "98803               0.347520               0.565022              -1.882699   \n",
       "\n",
       "       principal component 4  \n",
       "98799              -0.453847  \n",
       "98800               0.542185  \n",
       "98801              -0.728753  \n",
       "98802              -0.481539  \n",
       "98803              -1.270784  "
      ]
     },
     "execution_count": 24,
     "metadata": {},
     "output_type": "execute_result"
    }
   ],
   "source": [
    "principal_Df = pd.DataFrame(data = principalComponents_df\n",
    "             , columns = ['principal component 1', 'principal component 2', 'principal component 3', 'principal component 4'])\n",
    "principal_Df.tail()"
   ]
  },
  {
   "cell_type": "code",
   "execution_count": 25,
   "id": "1bb015ec-ddf4-43c5-b22f-14bc47964115",
   "metadata": {},
   "outputs": [
    {
     "name": "stdout",
     "output_type": "stream",
     "text": [
      "Explained variation per principal component: [0.57276675 0.13194174 0.07775458 0.05879814]\n"
     ]
    }
   ],
   "source": [
    "print('Explained variation per principal component: {}'.format(pca_df.explained_variance_ratio_))"
   ]
  },
  {
   "cell_type": "markdown",
   "id": "1f8f0b9c-fe9b-409a-a1a2-4590f9a9a53d",
   "metadata": {},
   "source": [
    "From the above output, you can observe that the principal component 1 holds 57.2% of the information while the principal component 2 holds only 13% of the information. Also, the other point to note is about 30% information was lost."
   ]
  },
  {
   "cell_type": "code",
   "execution_count": 34,
   "id": "9d0c7d79-7676-40a8-b42b-a64c90c36b9f",
   "metadata": {},
   "outputs": [
    {
     "data": {
      "text/plain": [
       "<Figure size 432x288 with 0 Axes>"
      ]
     },
     "metadata": {},
     "output_type": "display_data"
    },
    {
     "data": {
      "image/png": "[encoded data removed]",
      "text/plain": [
       "<Figure size 720x720 with 1 Axes>"
      ]
     },
     "metadata": {
      "needs_background": "light"
     },
     "output_type": "display_data"
    }
   ],
   "source": [
    "plt.figure()\n",
    "plt.figure(figsize=(10,10))\n",
    "plt.xticks(fontsize=12)\n",
    "plt.yticks(fontsize=14)\n",
    "plt.xlabel('Principal Component - 1',fontsize=20)\n",
    "plt.ylabel('Principal Component - 2',fontsize=20)\n",
    "plt.title(\"Principal Component Analysis of Dataset\",fontsize=20)\n",
    "targets = [1, 2, 3, 4, 5]\n",
    "colors = ['black', 'orange', 'green', 'yellow', 'blue']\n",
    "for target, color in zip(targets,colors):\n",
    "    indicesToKeep = outlier_free_df['Decile'] == target\n",
    "    plt.scatter(principal_Df.loc[indicesToKeep, 'principal component 1']\n",
    "               , principal_Df.loc[indicesToKeep, 'principal component 2'], c = color, s = 50)\n",
    "\n",
    "plt.legend(targets,prop={'size': 15})\n",
    "plt.show()"
   ]
  },
  {
   "cell_type": "markdown",
   "id": "2af32b07-c0c0-4c13-9faa-6be8d02018c1",
   "metadata": {},
   "source": [
    "The above result shows the top 5 session duration decile groups are not linearly separable. "
   ]
  },
  {
   "cell_type": "code",
   "execution_count": null,
   "id": "00c686cb-902f-4b36-8b65-5d7bd790d184",
   "metadata": {},
   "outputs": [],
   "source": []
  }
 ],
 "metadata": {
  "kernelspec": {
   "display_name": "Python 3 (ipykernel)",
   "language": "python",
   "name": "python3"
  },
  "language_info": {
   "codemirror_mode": {
    "name": "ipython",
    "version": 3
   },
   "file_extension": ".py",
   "mimetype": "text/x-python",
   "name": "python",
   "nbconvert_exporter": "python",
   "pygments_lexer": "ipython3",
   "version": "3.9.7"
  }
 },
 "nbformat": 4,
 "nbformat_minor": 5
}
